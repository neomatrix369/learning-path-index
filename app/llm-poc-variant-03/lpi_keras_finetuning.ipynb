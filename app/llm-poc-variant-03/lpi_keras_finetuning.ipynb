{
  "cells": [
    {
      "cell_type": "markdown",
      "metadata": {
        "id": "view-in-github",
        "colab_type": "text"
      },
      "source": [
        "<a href=\"https://colab.research.google.com/github/neomatrix369/learning-path-index/blob/lpi-gemma-model/app/llm-poc-variant-03/lpi_keras_finetuning.ipynb\" target=\"_parent\"><img src=\"https://colab.research.google.com/assets/colab-badge.svg\" alt=\"Open In Colab\"/></a>"
      ]
    },
    {
      "cell_type": "markdown",
      "source": [
        "# Table of Contents\n",
        "\n",
        "1. **Environment Setup**\n",
        "   - 1.1 System Check: `!nvidia-smi`\n",
        "   - 1.2 Package Installations: Localtunnel, FastAPI, Uvicorn, Kaggle, Keras-NLP, KaggleHub\n",
        "\n",
        "2. **Dataset and Model Download**\n",
        "   - 2.1 Kaggle Data Source Import\n",
        "   - 2.2 Downloading Learning Path Index Dataset and Gemma2 Model\n",
        "\n",
        "3. **Project Title and Introduction**\n",
        "   - Title: \"Fine-tuning Gemma 2 model using LoRA and Keras\"\n",
        "   - 3.1 Introduction Content\n",
        "     - 3.1.1 Overview of fine-tuning with LoRA on the Gemma2 model\n",
        "     - 3.1.2 Gemma2 model details\n",
        "     - 3.1.3 Description of LoRA\n",
        "\n",
        "4. **Fine-Tuning Process Overview**\n",
        "   - 4.1 Objective Outline: Fine-tuning steps and goals\n",
        "\n",
        "5. **Prerequisites**\n",
        "   - 5.1 Package Imports: Libraries like `keras`, `numpy`, `pandas`, `seaborn`\n",
        "\n",
        "6. **Model Configuration**\n",
        "   - 6.1 Configuration Settings: `Config` class for fine-tuning parameters\n",
        "\n",
        "7. **Data Loading and Preprocessing**\n",
        "   - 7.1 Data Import and Display\n",
        "   - 7.2 Dataset Pre-check: Shape and columns display\n",
        "   - 7.3 Q&A Generation: Function to create question-answer pairs from dataset\n",
        "   - 7.4 Data Preprocessing for Fine-Tuning\n",
        "\n",
        "8. **Generate Question and Answer pairsn**\n",
        "   - Initialize LoRA and Gemma Model\n",
        "   - Model Summary and Training Compilation\n",
        "\n",
        "9. **Running Fine-Tuning**\n",
        "   - Setting Sequence Length and Batch Size\n",
        "   - Training Execution\n",
        "\n",
        "10. **Model Testing**\n",
        "    - Instantiating GemmaQA Class\n",
        "    - Sample Queries and Testing\n",
        "    - Testing with New Questions\n",
        "\n",
        "11. **Saving and Exporting the Model**\n",
        "    - Save Model as Preset\n",
        "    - Exporting the Model to Kaggle\n",
        "\n",
        "12. **Web Interface Setup**\n",
        "    - UI Setup: HTML and JavaScript for Chat Interface\n",
        "    - Backend Setup: FastAPI endpoints and query function for Gemma model\n",
        "    - Running FastAPI Application\n",
        "\n",
        "13. **Exposing Web Application**\n",
        "    - Uvicorn Server Launch\n",
        "    - Using LocalTunnel for External Access\n",
        "\n",
        "14. **Conclusion**\n",
        "    - Summary of Fine-Tuning Process\n",
        "    - Model Deployment as a Kaggle Model\n"
      ],
      "metadata": {
        "id": "GPFov94J3cvQ"
      }
    },
    {
      "cell_type": "markdown",
      "source": [
        "### Credits: https://medium.com/@gabi.preda/fine-tuning-gemma-2-model-with-role-playing-dataset-b8ec399a2e17\n",
        "\n",
        "\n",
        "### Kaggle Model: https://www.kaggle.com/models/moronfoluwa/gemma2_2b_en_lpi/keras/gemma2_2b_en_lpi"
      ],
      "metadata": {
        "id": "jwgC26vT_wV1"
      }
    },
    {
      "cell_type": "markdown",
      "source": [
        "## Environment Setup"
      ],
      "metadata": {
        "id": "pHy3NV_u4_z0"
      }
    },
    {
      "cell_type": "markdown",
      "source": [
        "### 1.1 System Check"
      ],
      "metadata": {
        "id": "7qhUHeMr4lwr"
      }
    },
    {
      "cell_type": "code",
      "execution_count": null,
      "metadata": {
        "colab": {
          "base_uri": "https://localhost:8080/"
        },
        "id": "Vdn2qLjTZR84",
        "outputId": "55475190-8c2e-4d1a-aac9-35ae93e7b663"
      },
      "outputs": [
        {
          "name": "stdout",
          "output_type": "stream",
          "text": [
            "Sat Nov  2 21:40:01 2024       \n",
            "+---------------------------------------------------------------------------------------+\n",
            "| NVIDIA-SMI 535.104.05             Driver Version: 535.104.05   CUDA Version: 12.2     |\n",
            "|-----------------------------------------+----------------------+----------------------+\n",
            "| GPU  Name                 Persistence-M | Bus-Id        Disp.A | Volatile Uncorr. ECC |\n",
            "| Fan  Temp   Perf          Pwr:Usage/Cap |         Memory-Usage | GPU-Util  Compute M. |\n",
            "|                                         |                      |               MIG M. |\n",
            "|=========================================+======================+======================|\n",
            "|   0  NVIDIA L4                      Off | 00000000:00:03.0 Off |                    0 |\n",
            "| N/A   65C    P8              14W /  72W |      1MiB / 23034MiB |      0%      Default |\n",
            "|                                         |                      |                  N/A |\n",
            "+-----------------------------------------+----------------------+----------------------+\n",
            "                                                                                         \n",
            "+---------------------------------------------------------------------------------------+\n",
            "| Processes:                                                                            |\n",
            "|  GPU   GI   CI        PID   Type   Process name                            GPU Memory |\n",
            "|        ID   ID                                                             Usage      |\n",
            "|=======================================================================================|\n",
            "|  No running processes found                                                           |\n",
            "+---------------------------------------------------------------------------------------+\n"
          ]
        }
      ],
      "source": [
        "!nvidia-smi"
      ]
    },
    {
      "cell_type": "markdown",
      "source": [
        "### 1.2 Package Installations\n",
        "\n",
        "Localtunnel, FastAPI, Uvicorn, Kaggle, Keras-NLP, KaggleHub"
      ],
      "metadata": {
        "id": "c38azBWG4v-h"
      }
    },
    {
      "cell_type": "code",
      "execution_count": null,
      "metadata": {
        "colab": {
          "base_uri": "https://localhost:8080/"
        },
        "id": "IVUQBUBdD09K",
        "outputId": "cd47e7d9-5289-4c29-f831-40c67bd6cdec"
      },
      "outputs": [
        {
          "name": "stdout",
          "output_type": "stream",
          "text": [
            "\u001b[K\u001b[?25h\n",
            "changed 22 packages, and audited 23 packages in 538ms\n",
            "\n",
            "3 packages are looking for funding\n",
            "  run `npm fund` for details\n",
            "\n",
            "1 \u001b[33m\u001b[1mmoderate\u001b[22m\u001b[39m severity vulnerability\n",
            "\n",
            "To address all issues (including breaking changes), run:\n",
            "  npm audit fix --force\n",
            "\n",
            "Run `npm audit` for details.\n"
          ]
        }
      ],
      "source": [
        "!npm install -g localtunnel\n",
        "!pip install fastapi\n",
        "!pip install uvicorn\n",
        "!pip install kaggle"
      ]
    },
    {
      "cell_type": "markdown",
      "source": [
        "Installing `keras-nlp` and `keras` packages."
      ],
      "metadata": {
        "id": "7nQMI7kP6LjM"
      }
    },
    {
      "cell_type": "code",
      "source": [
        "# Install Keras 3 last. See https://keras.io/getting_started/ for more details.\n",
        "!pip install -q -U keras-nlp\n",
        "!pip install -q -U keras>=3\n",
        "!pip install -q -U kagglehub --upgrade"
      ],
      "metadata": {
        "id": "oQuwypGs6GXt"
      },
      "execution_count": null,
      "outputs": []
    },
    {
      "cell_type": "markdown",
      "source": [
        "## 2. Dataset and Model Download"
      ],
      "metadata": {
        "id": "mfLPrqnx436H"
      }
    },
    {
      "cell_type": "markdown",
      "metadata": {
        "id": "AHTLtpKBZ6RJ"
      },
      "source": [
        "\n",
        "### 2.1 Kaggle Data Source Import\n",
        "\n",
        "Since out dataset is hosted on kaggle we need to run this line to download the dataset on kaggle especially if you are not running in kaggle environments"
      ]
    },
    {
      "cell_type": "code",
      "execution_count": null,
      "metadata": {
        "colab": {
          "base_uri": "https://localhost:8080/",
          "height": 274,
          "referenced_widgets": [
            "228edb6c9c2f4e06a64c60c0289715d3",
            "d2c5d920b6c5421bb66beb0856cb7930",
            "5dffb677d49f4a4b8d3bc3b2b3a263b1",
            "1fdfc258a7634d9b8b69718e0f1eeac4",
            "04d94f50b29f4ccc993a7c443e51a885",
            "a6bc04bd740440e79aa98cdddb7e49a5",
            "16f4f659ad1e4dedb3473f4899b8f21a",
            "4b1d3da606234f45a651cabe0380a6c8",
            "1670a12f80e643f1a2980b9db0186701",
            "f6593817d4744f428ce07e3a376e3ee7",
            "86770cc6d0d948c1ab6c17964d92965c",
            "e57cb6e3403f453ea76cfa01c2adcd2a",
            "f223e588f6f448119a2440e11a263d23",
            "9c9ec19b48f344cb9e1dbf9b38723fb2",
            "1c30926334b54bf59c8daceecb008f85",
            "1066a83bbe6c4a49a11cf6d32075b310",
            "b507b108c3e744c386e273b5b43c1d12"
          ]
        },
        "id": "rDaSj9aRHAb3",
        "outputId": "2d6c1ac3-c270-47f6-f676-0f5242b55490"
      },
      "outputs": [
        {
          "data": {
            "application/vnd.jupyter.widget-view+json": {
              "model_id": "228edb6c9c2f4e06a64c60c0289715d3",
              "version_major": 2,
              "version_minor": 0
            },
            "text/plain": [
              "VBox(children=(HTML(value='<center> <img\\nsrc=https://www.kaggle.com/static/images/site-logo.png\\nalt=\\'Kaggle…"
            ]
          },
          "metadata": {},
          "output_type": "display_data"
        }
      ],
      "source": [
        "# IMPORTANT: SOME KAGGLE DATA SOURCES ARE PRIVATE\n",
        "# RUN THIS CELL IN ORDER TO IMPORT YOUR KAGGLE DATA SOURCES.\n",
        "import kagglehub\n",
        "kagglehub.login()"
      ]
    },
    {
      "cell_type": "markdown",
      "source": [
        "### 2.2 Downloading Learning Path Index Dataset and Gemma2 Model"
      ],
      "metadata": {
        "id": "oFtdm6P35TuF"
      }
    },
    {
      "cell_type": "code",
      "execution_count": null,
      "metadata": {
        "colab": {
          "base_uri": "https://localhost:8080/"
        },
        "id": "PFLIZXHJHAb6",
        "outputId": "6a499fe5-5462-4f43-a7be-0e4c3b8d81d7"
      },
      "outputs": [
        {
          "name": "stdout",
          "output_type": "stream",
          "text": [
            "Data source import complete.\n"
          ]
        }
      ],
      "source": [
        "# IMPORTANT: RUN THIS CELL IN ORDER TO IMPORT YOUR KAGGLE DATA SOURCES,\n",
        "# THEN FEEL FREE TO DELETE THIS CELL.\n",
        "# NOTE: THIS NOTEBOOK ENVIRONMENT DIFFERS FROM KAGGLE'S PYTHON\n",
        "# ENVIRONMENT SO THERE MAY BE MISSING LIBRARIES USED BY YOUR\n",
        "# NOTEBOOK.\n",
        "\n",
        "neomatrix369_learning_path_index_dataset_path = kagglehub.dataset_download('neomatrix369/learning-path-index-dataset')\n",
        "keras_gemma2_keras_gemma2_2b_en_1_path = kagglehub.model_download('keras/gemma2/Keras/gemma2_2b_en/1')\n",
        "!wget https://raw.githubusercontent.com/neomatrix369/learning-path-index/refs/heads/main/data/Learning_Pathway_Index.csv\n",
        "\n",
        "print('Data source import complete.')"
      ]
    },
    {
      "cell_type": "markdown",
      "metadata": {
        "id": "Y2zVVrhNHAb7"
      },
      "source": [
        "\n",
        "# 3. Fine-tuning Gemma 2 model using LoRA and Keras"
      ]
    },
    {
      "cell_type": "markdown",
      "source": [
        "### 3.1 Introduction Content\n",
        "\n",
        "\n",
        "<center><h1>Fine-tuning Gemma 2 model using LoRA and Keras</h1></center>\n",
        "\n",
        "<center><img src=\"https://res.infoq.com/news/2024/02/google-gemma-open-model/en/headerimage/generatedHeaderImage-1708977571481.jpg\" width=\"400\"></center>\n",
        "\n",
        "\n",
        "### Introduction\n",
        "\n",
        "This notebook will demonstrate three things:\n",
        "\n",
        "1. How to fine-tune Gemma model using LoRA\n",
        "2. Creation of a specialised class to query about Kaggle features\n",
        "3. Some results of querying about various topics while instructing the model to adopt a certain persona, from the ones included in the data used for fine tuning.\n",
        "\n"
      ],
      "metadata": {
        "id": "LgXNKZf35s6A"
      }
    },
    {
      "cell_type": "markdown",
      "metadata": {
        "id": "XfgFDYmwHAb9"
      },
      "source": [
        "#### 3.1.1 What is Gemma 2?\n",
        "\n",
        "Gemma is a collection of lightweight, advanced open models developed by Google, leveraging the same research and technology behind the Gemini models. These models are text-to-text, decoder-only large language models available in English, with open weights provided for both pre-trained and instruction-tuned versions. Gemma models excel in a range of text generation tasks, such as question answering, summarization, and reasoning. Their compact size allows for deployment in resource-constrained environments like laptops, desktops, or personal cloud infrastructure, making state-of-the-art AI models more accessible and encouraging innovation for all.\n",
        "\n",
        "Gemma 2 represent the 2nd generation of Gemma models. These models were trained on a dataset of text data that includes a wide variety of sources. The **27B** model was trained with **13 trillion** tokens, the **9B** model was trained with **8 trillion tokens**, and **2B** model was trained with **2 trillion** tokens. Here is a summary of their key components:\n",
        "* **Web Documents**: A diverse collection of web text ensures the model is exposed to a broad range of linguistic styles, topics, and vocabulary. Primarily English-language content.\n",
        "* **Code**: Exposing the model to code helps it to learn the syntax and patterns of programming languages, which improves its ability to generate code or understand code-related questions.\n",
        "* **Mathematics**: Training on mathematical text helps the model learn logical reasoning, symbolic representation, and to address mathematical queries.\n",
        "\n",
        "To learn more about Gemma 2, follow this link: [Gemma 2 Model Card](https://www.kaggle.com/models/google/gemma-2).\n",
        "\n",
        "\n"
      ]
    },
    {
      "cell_type": "markdown",
      "metadata": {
        "id": "tGNbfSojHAb9"
      },
      "source": [
        "#### 3.1.2 What is LoRA?  \n",
        "\n",
        "**LoRA** stands for **Low-Rank Adaptation**. It is a method used to fine-tune large language models (LLMs) by freezing the weights of the LLM and injecting trainable rank-decomposition matrices. The number of trainable parameters during fine-tunning will decrease therefore considerably. According to **LoRA** paper, this number decreases **10,000 times**, and the computational resources size decreases 3 times."
      ]
    },
    {
      "cell_type": "markdown",
      "metadata": {
        "id": "wmzUuNgXHAb9"
      },
      "source": [
        "# 4. Fine-Tuning Process Overview\n",
        "\n",
        "For fine-tunning with LoRA, we will follow the steps:\n",
        "\n",
        "1. Install prerequisites\n",
        "2. Load and process the data for fine-tuning\n",
        "3. Initialize the code for Gemma causal language model (Gemma Causal LM)\n",
        "4. Perform fine-tuning so that the model will learn the various persona and be able to perform in each role.\n",
        "5. Test the fine-tunned model with questions from the data used for fine-tuning and with aditional questions"
      ]
    },
    {
      "cell_type": "markdown",
      "metadata": {
        "id": "mv4_xRibHAb-"
      },
      "source": [
        "# 5. Prerequisites\n",
        "## Import packages\n",
        "\n",
        "Now we can import the packages we just installed. We will also install `os`, so that we can set the environment variables needed for keras backend. We will use `jax` as `KERAS_BACKEND`.\n",
        "\n",
        "Because we want to publish the Model from the Notebook, we also include `kagglehub` and import secrets from `Kaggle App`."
      ]
    },
    {
      "cell_type": "code",
      "execution_count": null,
      "metadata": {
        "id": "eACX_jjwHAb-"
      },
      "outputs": [],
      "source": [
        "import re\n",
        "import os\n",
        "# you can also use tensorflow or torch\n",
        "os.environ[\"KERAS_BACKEND\"] = \"jax\"\n",
        "# avoid memory fragmentation on JAX backend.\n",
        "os.environ[\"XLA_PYTHON_CLIENT_MEM_FRACTION\"] = \"1.00\"\n",
        "os.environ[\"JAX_PLATFORMS\"] = \"\"\n",
        "import keras\n",
        "import keras_nlp\n",
        "import kagglehub\n",
        "import numpy as np\n",
        "import pandas as pd\n",
        "from tqdm.notebook import tqdm\n",
        "tqdm.pandas()\n",
        "\n",
        "import matplotlib.pyplot as plt\n",
        "import seaborn as sns\n",
        "from IPython.display import display, Markdown"
      ]
    },
    {
      "cell_type": "markdown",
      "metadata": {
        "id": "1hGKd1e6HAb_"
      },
      "source": [
        "# 6. Configurations"
      ]
    },
    {
      "cell_type": "markdown",
      "source": [
        "We use a `Config` class to group the information needed to control the fine-tuning process:\n",
        "* random seed\n",
        "* dataset path\n",
        "* qa_dataset_path\n",
        "* preset - name of pretrained Gemma 2\n",
        "* sequence length - this is the maximum size of input sequence for training\n",
        "* batch size - size of the input batch in training, x 2 as two GPUs\n",
        "* lora rank - rank for LoRA, higher means more trainable parameters\n",
        "* learning rate used in the train\n",
        "* epochs - number of epochs for train"
      ],
      "metadata": {
        "id": "Cjg9d7xr7rPr"
      }
    },
    {
      "cell_type": "code",
      "execution_count": 3,
      "metadata": {
        "id": "bwIG9nG-HAb_"
      },
      "outputs": [],
      "source": [
        "class Config:\n",
        "    seed = 42\n",
        "    dataset_path = \"./Learning_Pathway_Index.csv\"\n",
        "    qa_dataset_path = \"./qa_pairs.csv\" # Question pair dataset\n",
        "    preset = \"hf://google/gemma-2-2b\" # name of pretrained Gemma 2\n",
        "    sequence_length = 512 # max size of input sequence for training\n",
        "    batch_size = 1 # size of the input batch in training\n",
        "    lora_rank = 4 # rank for LoRA, higher means more trainable parameters\n",
        "    learning_rate=8e-5 # learning rate used in train\n",
        "    epochs = 20 # number of epochs to train"
      ]
    },
    {
      "cell_type": "markdown",
      "metadata": {
        "id": "Zw7UuS1fHAb_"
      },
      "source": [
        "Set a random seed for results reproducibility."
      ]
    },
    {
      "cell_type": "code",
      "execution_count": null,
      "metadata": {
        "id": "bxOdmEJoHAcA"
      },
      "outputs": [],
      "source": [
        "keras.utils.set_random_seed(Config.seed)"
      ]
    },
    {
      "cell_type": "markdown",
      "metadata": {
        "id": "zXBVVqplHAcA"
      },
      "source": [
        "# 7. Data Loading and Preprocessin\n",
        "\n",
        "We load the data we will use for fine-tunining.\n",
        "\n",
        "### 7.1 Data Import and Display"
      ]
    },
    {
      "cell_type": "code",
      "execution_count": 4,
      "metadata": {
        "colab": {
          "base_uri": "https://localhost:8080/",
          "height": 169
        },
        "id": "H7LqBuYnHAcA",
        "outputId": "8b4a7b42-9fe3-4a35-c03a-a49b3daafee7"
      },
      "outputs": [
        {
          "output_type": "error",
          "ename": "NameError",
          "evalue": "name 'pd' is not defined",
          "traceback": [
            "\u001b[0;31m---------------------------------------------------------------------------\u001b[0m",
            "\u001b[0;31mNameError\u001b[0m                                 Traceback (most recent call last)",
            "\u001b[0;32m<ipython-input-4-f02a99e1d96e>\u001b[0m in \u001b[0;36m<cell line: 1>\u001b[0;34m()\u001b[0m\n\u001b[0;32m----> 1\u001b[0;31m \u001b[0mdf\u001b[0m \u001b[0;34m=\u001b[0m \u001b[0mpd\u001b[0m\u001b[0;34m.\u001b[0m\u001b[0mread_csv\u001b[0m\u001b[0;34m(\u001b[0m\u001b[0;34mf\"{Config.dataset_path}\"\u001b[0m\u001b[0;34m)\u001b[0m\u001b[0;34m\u001b[0m\u001b[0;34m\u001b[0m\u001b[0m\n\u001b[0m\u001b[1;32m      2\u001b[0m \u001b[0mdf\u001b[0m\u001b[0;34m.\u001b[0m\u001b[0mhead\u001b[0m\u001b[0;34m(\u001b[0m\u001b[0;34m)\u001b[0m\u001b[0;34m\u001b[0m\u001b[0;34m\u001b[0m\u001b[0m\n",
            "\u001b[0;31mNameError\u001b[0m: name 'pd' is not defined"
          ]
        }
      ],
      "source": [
        "df = pd.read_csv(f\"{Config.dataset_path}\")\n",
        "df.head()"
      ]
    },
    {
      "cell_type": "markdown",
      "metadata": {
        "id": "KbvtBivZHAcA"
      },
      "source": [
        "Let's check the total number of rows in this dataset."
      ]
    },
    {
      "cell_type": "code",
      "execution_count": null,
      "metadata": {
        "colab": {
          "base_uri": "https://localhost:8080/"
        },
        "id": "27S3tMoGHAcA",
        "outputId": "b5d3cd95-dc13-42ca-f9d9-c714330c16a8"
      },
      "outputs": [
        {
          "data": {
            "text/plain": [
              "((1446, 10),\n",
              " Index(['Module_Code', 'Course_Learning_Material', 'Source', 'Course_Level',\n",
              "        'Type_Free_Paid', 'Module', 'Duration', 'Difficulty_Level',\n",
              "        'Keywords_Tags_Skills_Interests_Categories', 'Links'],\n",
              "       dtype='object'))"
            ]
          },
          "execution_count": 18,
          "metadata": {},
          "output_type": "execute_result"
        }
      ],
      "source": [
        "df.shape, df.columns"
      ]
    },
    {
      "cell_type": "markdown",
      "source": [
        "# 8. Generate Question and Answer pairs"
      ],
      "metadata": {
        "id": "Z4eproNZzX3f"
      }
    },
    {
      "cell_type": "markdown",
      "source": [
        "### 8.1  Function to create question-answer pairs from dataset"
      ],
      "metadata": {
        "id": "eNtqUJVV8Sjy"
      }
    },
    {
      "cell_type": "code",
      "source": [
        "def generate_qa_pairs(row):\n",
        "    qa_pairs = []\n",
        "\n",
        "    # Basic data extraction for clarity\n",
        "    module_code = row['Module_Code']\n",
        "    course_title = row['Course_Learning_Material']\n",
        "    source = row['Source']\n",
        "    level = row['Course_Level']\n",
        "    cost_type = row['Type_Free_Paid']\n",
        "    duration = row['Duration']\n",
        "    difficulty = row['Difficulty_Level']\n",
        "    skills = row['Keywords_Tags_Skills_Interests_Categories']\n",
        "    link = row['Links']\n",
        "\n",
        "    # Context information for input\n",
        "    context = f\"Course Title: {course_title}; Module Code: {module_code}; Level: {level}; Type: {cost_type}; Duration: {duration}\"\n",
        "\n",
        "    # Generate Question Types\n",
        "    questions = [\n",
        "        # Factual Recall (20%)\n",
        "        {\"instruction\": f\"What is the title of the course with Module Code '{module_code}'?\",\n",
        "         \"input\": context,\n",
        "         \"output\": course_title,\n",
        "         \"metadata\": {\"type\": \"Factual Recall\", \"difficulty\": difficulty, \"cognitive_level\": \"Recall\", \"source_reference\": course_title}},\n",
        "\n",
        "        {\"instruction\": f\"Is the course '{course_title}' free or paid?\",\n",
        "         \"input\": f\"Module Code: {module_code}; Cost Status: {cost_type}\",\n",
        "         \"output\": cost_type,\n",
        "         \"metadata\": {\"type\": \"Factual Recall\", \"difficulty\": difficulty, \"cognitive_level\": \"Recall\", \"source_reference\": course_title}},\n",
        "\n",
        "        # Comprehension (25%)\n",
        "        {\"instruction\": f\"Explain the main purpose of the course '{course_title}' provided by {source}.\",\n",
        "         \"input\": f\"Course Source: {source}; Skills Covered: {skills}\",\n",
        "         \"output\": f\"The course '{course_title}' by {source} focuses on {skills}.\",\n",
        "         \"metadata\": {\"type\": \"Comprehension\", \"difficulty\": difficulty, \"cognitive_level\": \"Comprehension\", \"source_reference\": course_title}},\n",
        "\n",
        "        {\"instruction\": f\"What are the primary skills or topics covered in the '{course_title}' course?\",\n",
        "         \"input\": f\"Keywords: {skills}\",\n",
        "         \"output\": skills,\n",
        "         \"metadata\": {\"type\": \"Comprehension\", \"difficulty\": difficulty, \"cognitive_level\": \"Comprehension\", \"source_reference\": skills}},\n",
        "\n",
        "        # Application (25%)\n",
        "        {\"instruction\": f\"How much time will it take to complete the '{course_title}' course?\",\n",
        "         \"input\": f\"Duration: {duration}\",\n",
        "         \"output\": f\"The estimated time to complete the course is {duration}.\",\n",
        "         \"metadata\": {\"type\": \"Application\", \"difficulty\": difficulty, \"cognitive_level\": \"Application\", \"source_reference\": duration}},\n",
        "\n",
        "        {\"instruction\": f\"Provide an example of a project where skills from '{course_title}' would be useful.\",\n",
        "         \"input\": f\"Skills: {skills}\",\n",
        "         \"output\": f\"Skills from '{course_title}' could be applied in a project involving {skills}, such as developing machine learning models.\",\n",
        "         \"metadata\": {\"type\": \"Application\", \"difficulty\": difficulty, \"cognitive_level\": \"Application\", \"source_reference\": course_title}},\n",
        "\n",
        "        # Analysis (20%)\n",
        "        {\"instruction\": f\"Compare the '{course_title}' course with other {level} courses offered by {source}.\",\n",
        "         \"input\": f\"Source: {source}; Level: {level}\",\n",
        "         \"output\": f\"The course '{course_title}' is rated {difficulty} and covers topics such as {skills}, making it comparable to other {level} courses by {source}.\",\n",
        "         \"metadata\": {\"type\": \"Analysis\", \"difficulty\": difficulty, \"cognitive_level\": \"Analysis\", \"source_reference\": course_title}},\n",
        "\n",
        "        {\"instruction\": f\"Where can you access the '{course_title}' course online?\",\n",
        "         \"input\": f\"Course Link: {link}\",\n",
        "         \"output\": link,\n",
        "         \"metadata\": {\"type\": \"Analysis\", \"difficulty\": difficulty, \"cognitive_level\": \"Analysis\", \"source_reference\": link}},\n",
        "\n",
        "        # Synthesis/Evaluation (10%)\n",
        "        {\"instruction\": f\"Evaluate the usefulness of '{course_title}' for learners interested in {skills}.\",\n",
        "         \"input\": f\"Level: {level}; Skills: {skills}; Difficulty: {difficulty}\",\n",
        "         \"output\": f\"The course '{course_title}' by {source} is beneficial for learners interested in {skills}, providing material at a {difficulty} level.\",\n",
        "         \"metadata\": {\"type\": \"Evaluation\", \"difficulty\": difficulty, \"cognitive_level\": \"Evaluation\", \"source_reference\": course_title}},\n",
        "\n",
        "        {\"instruction\": f\"How could the course '{course_title}' be improved for {level} learners?\",\n",
        "         \"input\": f\"Course Level: {level}; Duration: {duration}\",\n",
        "         \"output\": f\"The course '{course_title}' could be improved with hands-on projects to enhance practical understanding for {level} learners.\",\n",
        "         \"metadata\": {\"type\": \"Synthesis\", \"difficulty\": difficulty, \"cognitive_level\": \"Synthesis\", \"source_reference\": course_title}}\n",
        "    ]\n",
        "\n",
        "    # Append questions to the qa_pairs list with balanced distribution\n",
        "    for question in questions:\n",
        "        qa_pairs.append({\n",
        "            \"instruction\": question[\"instruction\"],\n",
        "            \"input\": question[\"input\"],\n",
        "            \"output\": question[\"output\"],\n",
        "            \"metadata\": question[\"metadata\"]\n",
        "        })\n",
        "\n",
        "    return qa_pairs\n",
        "\n",
        "# Generate Q&A pairs for each row in the dataset and combine them into a single list\n",
        "all_qa_pairs = []\n",
        "for _, row in df.iterrows():\n",
        "    all_qa_pairs.extend(generate_qa_pairs(row))\n",
        "\n",
        "# Convert the list of Q&A pairs into a DataFrame for further analysis or export\n",
        "qa_pairs_df = pd.DataFrame(all_qa_pairs)\n",
        "\n",
        "# Optional: Save the generated Q&A pairs to a CSV file\n",
        "qa_pairs_df.to_csv(\"qa_pairs.csv\", index=False)\n",
        "# print(\"Q&A pairs generated and saved to 'Generated_QA_Pairs_Enhanced.csv'\")"
      ],
      "metadata": {
        "id": "O8blYCdNzY3C"
      },
      "execution_count": null,
      "outputs": []
    },
    {
      "cell_type": "markdown",
      "metadata": {
        "id": "X8LtbQpLHAcB"
      },
      "source": [
        "### 8.2 Data Preprocessing for Fine-Tuning\n",
        "\n",
        "We will preprocess the data so that, from the sequences in the `text` column, we extract the `<|system|>` prompt and the pairs of {`<|user|>`, `<|assistant|>`} to form triplets of {`<|system|>`, `<|user|>`, `<|assistant|>`}  for each entry in the data for fine-tuning."
      ]
    },
    {
      "cell_type": "code",
      "execution_count": null,
      "metadata": {
        "id": "J85AlIh2HAcB"
      },
      "outputs": [],
      "source": [
        "def extract_dialogue_components(row):\n",
        "    # Ensure all relevant fields are strings and handle NaN or other invalid types\n",
        "    module_code = str(row['Module_Code']) if pd.notna(row['Module_Code']) else \"Unknown Module\"\n",
        "    source = str(row['Source']) if pd.notna(row['Source']) else \"Unknown Source\"\n",
        "    difficulty_level = str(row['Difficulty_Level']) if pd.notna(row['Difficulty_Level']) else \"Unknown Level\"\n",
        "    module = str(row['Module']) if pd.notna(row['Module']) else \"Unknown Module\"\n",
        "    course_material = str(row['Course_Learning_Material']) if pd.notna(row['Course_Learning_Material']) else \"\"\n",
        "    keywords = str(row['Keywords_Tags_Skills_Interests_Categories']) if pd.notna(row['Keywords_Tags_Skills_Interests_Categories']) else \"No keywords available\"\n",
        "    duration = str(row['Duration']) if pd.notna(row['Duration']) else \"Unknown duration\"\n",
        "\n",
        "    # Extract system prompt from course metadata\n",
        "    system_prompt = f\"<|system|> Module: {module_code}, Source: {source}, Level: {difficulty_level}. This is an introduction to {module}. </s>\"\n",
        "\n",
        "    # Extract user input as Course Learning Material (if available)\n",
        "    user_input = f\"<|user|> {course_material} </s>\" if course_material else \"<|user|> No course learning material provided. </s>\"\n",
        "\n",
        "    # Extract assistant response from other relevant columns\n",
        "    assistant_response = f\"<|assistant|> This module covers the following topics: {keywords}. Duration: {duration}. </s>\"\n",
        "\n",
        "    # Combine user and assistant exchanges as dialogue pairs\n",
        "    dialogue_pair = f\"{user_input}\\n{assistant_response}\"\n",
        "\n",
        "    return system_prompt, [dialogue_pair]"
      ]
    },
    {
      "cell_type": "markdown",
      "metadata": {
        "id": "4uy3o3qrHAcB"
      },
      "source": [
        "We process the data. We will only include in the data for fine-tuning the model the rows that fits in the max length as configured."
      ]
    },
    {
      "cell_type": "code",
      "execution_count": null,
      "metadata": {
        "colab": {
          "base_uri": "https://localhost:8080/"
        },
        "id": "gRANfjTqHAcB",
        "outputId": "a49f12bd-f407-4ff3-b170-448918b6d4dd"
      },
      "outputs": [
        {
          "data": {
            "text/plain": [
              "1446"
            ]
          },
          "execution_count": 20,
          "metadata": {},
          "output_type": "execute_result"
        }
      ],
      "source": [
        "# Initialize an empty list to store processed data\n",
        "data = []\n",
        "\n",
        "# Function to simulate token length estimation\n",
        "def estimate_token_length(text):\n",
        "    return len(text.split())\n",
        "\n",
        "# Iterate over each row in the dataframe\n",
        "for index, row in df.iterrows():\n",
        "    try:\n",
        "        # Estimate the length of the text in terms of tokens\n",
        "        token_length = estimate_token_length(row[\"Course_Learning_Material\"])\n",
        "\n",
        "        # Filter rows based on max token length constraint\n",
        "        if token_length <= Config.sequence_length:\n",
        "            system_prompt, dialogue_pairs = extract_dialogue_components(row)\n",
        "\n",
        "            # Prepare prompt samples from dialogue pairs\n",
        "            for pair in dialogue_pairs:\n",
        "                prompt_sample = f\"{system_prompt}\\n\\n{pair}\"\n",
        "                data.append(prompt_sample)\n",
        "    except Exception as ex:\n",
        "        print(f\"Error at row {index}: {ex}\")\n",
        "\n",
        "# Display the number of processed data points\n",
        "len(data)\n"
      ]
    },
    {
      "cell_type": "markdown",
      "metadata": {
        "id": "__4SgjDMHAcB"
      },
      "source": [
        "### 8.3 Template utility function\n",
        "\n",
        "\n",
        "We use this function to reformat the output of our queries, so that it is more user friendly.\n",
        "\n",
        "We replace and highlight the initial special tokens with more human-readable text (Instruction, Question, Answer)."
      ]
    },
    {
      "cell_type": "code",
      "execution_count": null,
      "metadata": {
        "id": "-4i85CIcHAcB"
      },
      "outputs": [],
      "source": [
        "def colorize_text(text):\n",
        "    for word, formatted_word, color in zip([\"<|system|>:\", \"<|user|>:\", \"<|assistant|>:\"],\n",
        "                                           [\"Instruction:\", \"Question:\", \"Answer:\"],\n",
        "                                           [\"blue\", \"red\", \"green\"]):\n",
        "        text = text.replace(f\"\\n\\n{word}\", f\"\\n\\n**<font color='{color}'>{formatted_word}</font>**\")\n",
        "    return text"
      ]
    },
    {
      "cell_type": "markdown",
      "metadata": {
        "id": "fCEtmUz7HAcB"
      },
      "source": [
        "# 9. Fine-Tuning Preparation\n",
        "\n",
        "\n",
        "We define a specialized class to query Gemma. But first, we need to initialize an object of GemmaCausalLM class."
      ]
    },
    {
      "cell_type": "markdown",
      "metadata": {
        "id": "41MhLBtZHAcC"
      },
      "source": [
        "### 9.1 Setting Sequence Length and Batch Size\n",
        "\n",
        "Initialize the code for Gemma Causal LM"
      ]
    },
    {
      "cell_type": "code",
      "execution_count": null,
      "metadata": {
        "colab": {
          "base_uri": "https://localhost:8080/",
          "height": 588,
          "referenced_widgets": [
            "30496ea2c62c4a8289d13885d9ed0739",
            "5360735197404e67a311b11d17b8c98e",
            "99ea0e9400a74a77861fda130b100332",
            "bb6051c95bfb4df19714a1678c1b3a51",
            "3f691695134540f09bf5956a8ed57951",
            "1f7d86dcd6294693a56b2d98a721db45",
            "66ac56c08b5b41f49f0de3afdde9772b",
            "73e071ef5aa64195886c7f31c19f2bca",
            "b6cb0279ad6a47029a985300e549e85f",
            "55cdc48de9854031b8177a44cac1e1e0",
            "04831c17a8e64e0a8f7698d08a9e1a22",
            "5db2a5f186664c149f5301f7ffe0b307",
            "6cdc0bdc0b5145a7ad7a9ff3b800547a",
            "9bbbe55642f9405594498cfaedfa98a5",
            "98db8c2cb6474b36bcdf187e93269d12",
            "197595af15f2491fbba5c212fb06c6e1",
            "c13886b111664df083075a23922b1704",
            "ceef41be7ee941519be879315861bdef",
            "30ed5c8fd451461f92a6d31c0b9e56e2",
            "aa51faff37d04437b8bc7a4c08c6f790",
            "01033d26caad4d3482e789b09c9ae724",
            "c062f39ed4ef4c57bbee49cc16d2daef",
            "bc6905181c6d46278180cbba82ebcd66",
            "b0d4394c98484c5ab50ebb8864e06f7c",
            "ef2ff80764cb4ca8883430a8453c1e17",
            "06134137cab645c68665ca9e57013bf5",
            "c571b9a61d1b4516aac16ffa191907b8",
            "679d8cbd9f894f1db071d5d1c484d839",
            "794952ae6614448195939fcd2172acb9",
            "a74e1fdeef5a4ccaa71edf439934f5d4",
            "073825fa90a9475db55bce3cc786ba37",
            "179616c17a7242c5b31e1e3cbb9ee527",
            "ff59dc9b9cd243e98a1d57202cb5e9a4",
            "3b0c1d98ede441abaa199502edea9e87",
            "c903a47a791e4b7182c5098170cf8ed4",
            "4f3e196632e8430bae65a035a8d7410d",
            "9afd258337c749149610d5d874543b1c",
            "dfac48a5374f4634b547a1a458ba11e2",
            "bfdebae1670742dfbb06d8a77ffae017",
            "430e9fa7e2444abb976103f1ad2ee64f",
            "08d5446abb7149199d176143d337147f",
            "62d841d5700f49fabf4c83d3e63662c0",
            "dfae162e9ae244c8bddf27633d0fc35e",
            "e52b6a2556784872b85fdf1529f1cc0a",
            "4c635a6e9cf94a08906cf0085ad906ce",
            "a399635754ac49598db0f486cd0de03e",
            "3a9f192b89db45a78b961f7cdf68a7ed",
            "a91ca3f248964d41a41336ca2c3b91aa",
            "73655255f42d4114a120a4bf1017057c",
            "e7a3422bb48942efa489dbb5aaebd7ca",
            "bc6bc16baa6b42c7a5d17d4fed599ccd",
            "7872242f4ea045eb9d4337503a8e1a88",
            "6f6571bd61014c619527d53e2b5c1dfe",
            "4aa6fe061c744cf6884af07f702ff505",
            "52aec9760b644cdb9e425b0a8eea1780",
            "ed80c67013b64dd8ae127fdc09094cf3",
            "ec691fd6dcb141d1965a27e0c3912d2a",
            "80e91545cc5e433493fa0c748cb86947",
            "1139703b2a21436b8a4b66396ed46280",
            "310723c029514a5485e70d5ef940bf19",
            "2dbee6ec251a43aa8d09806ae26de7e9",
            "85d776c99a674b1793c7245cd7a7e517",
            "1646c0d420d948a99e8427afbd2c47ea",
            "9736e9b4a0614ab9b789eb75435ff7e7",
            "91221e2a1282447093c235f5aced87cb",
            "a58bd1b173374be3b25433615257e3b0"
          ]
        },
        "id": "8ysT8g-rHAcC",
        "outputId": "431a199f-ffea-4066-ca1a-def74fa0e55f"
      },
      "outputs": [
        {
          "data": {
            "application/vnd.jupyter.widget-view+json": {
              "model_id": "30496ea2c62c4a8289d13885d9ed0739",
              "version_major": 2,
              "version_minor": 0
            },
            "text/plain": [
              "config.json:   0%|          | 0.00/818 [00:00<?, ?B/s]"
            ]
          },
          "metadata": {},
          "output_type": "display_data"
        },
        {
          "data": {
            "application/vnd.jupyter.widget-view+json": {
              "model_id": "5db2a5f186664c149f5301f7ffe0b307",
              "version_major": 2,
              "version_minor": 0
            },
            "text/plain": [
              "model.safetensors.index.json:   0%|          | 0.00/24.2k [00:00<?, ?B/s]"
            ]
          },
          "metadata": {},
          "output_type": "display_data"
        },
        {
          "data": {
            "application/vnd.jupyter.widget-view+json": {
              "model_id": "bc6905181c6d46278180cbba82ebcd66",
              "version_major": 2,
              "version_minor": 0
            },
            "text/plain": [
              "model-00001-of-00003.safetensors:   0%|          | 0.00/4.99G [00:00<?, ?B/s]"
            ]
          },
          "metadata": {},
          "output_type": "display_data"
        },
        {
          "data": {
            "application/vnd.jupyter.widget-view+json": {
              "model_id": "3b0c1d98ede441abaa199502edea9e87",
              "version_major": 2,
              "version_minor": 0
            },
            "text/plain": [
              "model-00002-of-00003.safetensors:   0%|          | 0.00/4.98G [00:00<?, ?B/s]"
            ]
          },
          "metadata": {},
          "output_type": "display_data"
        },
        {
          "data": {
            "application/vnd.jupyter.widget-view+json": {
              "model_id": "4c635a6e9cf94a08906cf0085ad906ce",
              "version_major": 2,
              "version_minor": 0
            },
            "text/plain": [
              "model-00003-of-00003.safetensors:   0%|          | 0.00/481M [00:00<?, ?B/s]"
            ]
          },
          "metadata": {},
          "output_type": "display_data"
        },
        {
          "data": {
            "application/vnd.jupyter.widget-view+json": {
              "model_id": "ed80c67013b64dd8ae127fdc09094cf3",
              "version_major": 2,
              "version_minor": 0
            },
            "text/plain": [
              "tokenizer.model:   0%|          | 0.00/4.24M [00:00<?, ?B/s]"
            ]
          },
          "metadata": {},
          "output_type": "display_data"
        },
        {
          "data": {
            "text/html": [
              "<pre style=\"white-space:pre;overflow-x:auto;line-height:normal;font-family:Menlo,'DejaVu Sans Mono',consolas,'Courier New',monospace\"><span style=\"font-weight: bold\">Preprocessor: \"gemma_causal_lm_preprocessor\"</span>\n",
              "</pre>\n"
            ],
            "text/plain": [
              "\u001b[1mPreprocessor: \"gemma_causal_lm_preprocessor\"\u001b[0m\n"
            ]
          },
          "metadata": {},
          "output_type": "display_data"
        },
        {
          "data": {
            "text/html": [
              "<pre style=\"white-space:pre;overflow-x:auto;line-height:normal;font-family:Menlo,'DejaVu Sans Mono',consolas,'Courier New',monospace\">┏━━━━━━━━━━━━━━━━━━━━━━━━━━━━━━━━━━━━━━━━━━━━━━━━━━━━━━━━━━━━━━━┳━━━━━━━━━━━━━━━━━━━━━━━━━━━━━━━━━━━━━━━━━━┓\n",
              "┃<span style=\"font-weight: bold\"> Layer (type)                                                  </span>┃<span style=\"font-weight: bold\">                                   Config </span>┃\n",
              "┡━━━━━━━━━━━━━━━━━━━━━━━━━━━━━━━━━━━━━━━━━━━━━━━━━━━━━━━━━━━━━━━╇━━━━━━━━━━━━━━━━━━━━━━━━━━━━━━━━━━━━━━━━━━┩\n",
              "│ gemma_tokenizer (<span style=\"color: #0087ff; text-decoration-color: #0087ff\">GemmaTokenizer</span>)                              │                      Vocab size: <span style=\"color: #00af00; text-decoration-color: #00af00\">256,000</span> │\n",
              "└───────────────────────────────────────────────────────────────┴──────────────────────────────────────────┘\n",
              "</pre>\n"
            ],
            "text/plain": [
              "┏━━━━━━━━━━━━━━━━━━━━━━━━━━━━━━━━━━━━━━━━━━━━━━━━━━━━━━━━━━━━━━━┳━━━━━━━━━━━━━━━━━━━━━━━━━━━━━━━━━━━━━━━━━━┓\n",
              "┃\u001b[1m \u001b[0m\u001b[1mLayer (type)                                                 \u001b[0m\u001b[1m \u001b[0m┃\u001b[1m \u001b[0m\u001b[1m                                  Config\u001b[0m\u001b[1m \u001b[0m┃\n",
              "┡━━━━━━━━━━━━━━━━━━━━━━━━━━━━━━━━━━━━━━━━━━━━━━━━━━━━━━━━━━━━━━━╇━━━━━━━━━━━━━━━━━━━━━━━━━━━━━━━━━━━━━━━━━━┩\n",
              "│ gemma_tokenizer (\u001b[38;5;33mGemmaTokenizer\u001b[0m)                              │                      Vocab size: \u001b[38;5;34m256,000\u001b[0m │\n",
              "└───────────────────────────────────────────────────────────────┴──────────────────────────────────────────┘\n"
            ]
          },
          "metadata": {},
          "output_type": "display_data"
        },
        {
          "data": {
            "text/html": [
              "<pre style=\"white-space:pre;overflow-x:auto;line-height:normal;font-family:Menlo,'DejaVu Sans Mono',consolas,'Courier New',monospace\"><span style=\"font-weight: bold\">Model: \"gemma_causal_lm\"</span>\n",
              "</pre>\n"
            ],
            "text/plain": [
              "\u001b[1mModel: \"gemma_causal_lm\"\u001b[0m\n"
            ]
          },
          "metadata": {},
          "output_type": "display_data"
        },
        {
          "data": {
            "text/html": [
              "<pre style=\"white-space:pre;overflow-x:auto;line-height:normal;font-family:Menlo,'DejaVu Sans Mono',consolas,'Courier New',monospace\">┏━━━━━━━━━━━━━━━━━━━━━━━━━━━━━━━┳━━━━━━━━━━━━━━━━━━━━━━━━━━━┳━━━━━━━━━━━━━━━━━┳━━━━━━━━━━━━━━━━━━━━━━━━━━━━┓\n",
              "┃<span style=\"font-weight: bold\"> Layer (type)                  </span>┃<span style=\"font-weight: bold\"> Output Shape              </span>┃<span style=\"font-weight: bold\">         Param # </span>┃<span style=\"font-weight: bold\"> Connected to               </span>┃\n",
              "┡━━━━━━━━━━━━━━━━━━━━━━━━━━━━━━━╇━━━━━━━━━━━━━━━━━━━━━━━━━━━╇━━━━━━━━━━━━━━━━━╇━━━━━━━━━━━━━━━━━━━━━━━━━━━━┩\n",
              "│ padding_mask (<span style=\"color: #0087ff; text-decoration-color: #0087ff\">InputLayer</span>)     │ (<span style=\"color: #00d7ff; text-decoration-color: #00d7ff\">None</span>, <span style=\"color: #00d7ff; text-decoration-color: #00d7ff\">None</span>)              │               <span style=\"color: #00af00; text-decoration-color: #00af00\">0</span> │ -                          │\n",
              "├───────────────────────────────┼───────────────────────────┼─────────────────┼────────────────────────────┤\n",
              "│ token_ids (<span style=\"color: #0087ff; text-decoration-color: #0087ff\">InputLayer</span>)        │ (<span style=\"color: #00d7ff; text-decoration-color: #00d7ff\">None</span>, <span style=\"color: #00d7ff; text-decoration-color: #00d7ff\">None</span>)              │               <span style=\"color: #00af00; text-decoration-color: #00af00\">0</span> │ -                          │\n",
              "├───────────────────────────────┼───────────────────────────┼─────────────────┼────────────────────────────┤\n",
              "│ gemma_backbone                │ (<span style=\"color: #00d7ff; text-decoration-color: #00d7ff\">None</span>, <span style=\"color: #00d7ff; text-decoration-color: #00d7ff\">None</span>, <span style=\"color: #00af00; text-decoration-color: #00af00\">2304</span>)        │   <span style=\"color: #00af00; text-decoration-color: #00af00\">2,614,341,888</span> │ padding_mask[<span style=\"color: #00af00; text-decoration-color: #00af00\">0</span>][<span style=\"color: #00af00; text-decoration-color: #00af00\">0</span>],        │\n",
              "│ (<span style=\"color: #0087ff; text-decoration-color: #0087ff\">GemmaBackbone</span>)               │                           │                 │ token_ids[<span style=\"color: #00af00; text-decoration-color: #00af00\">0</span>][<span style=\"color: #00af00; text-decoration-color: #00af00\">0</span>]            │\n",
              "├───────────────────────────────┼───────────────────────────┼─────────────────┼────────────────────────────┤\n",
              "│ token_embedding               │ (<span style=\"color: #00d7ff; text-decoration-color: #00d7ff\">None</span>, <span style=\"color: #00d7ff; text-decoration-color: #00d7ff\">None</span>, <span style=\"color: #00af00; text-decoration-color: #00af00\">256000</span>)      │     <span style=\"color: #00af00; text-decoration-color: #00af00\">589,824,000</span> │ gemma_backbone[<span style=\"color: #00af00; text-decoration-color: #00af00\">0</span>][<span style=\"color: #00af00; text-decoration-color: #00af00\">0</span>]       │\n",
              "│ (<span style=\"color: #0087ff; text-decoration-color: #0087ff\">ReversibleEmbedding</span>)         │                           │                 │                            │\n",
              "└───────────────────────────────┴───────────────────────────┴─────────────────┴────────────────────────────┘\n",
              "</pre>\n"
            ],
            "text/plain": [
              "┏━━━━━━━━━━━━━━━━━━━━━━━━━━━━━━━┳━━━━━━━━━━━━━━━━━━━━━━━━━━━┳━━━━━━━━━━━━━━━━━┳━━━━━━━━━━━━━━━━━━━━━━━━━━━━┓\n",
              "┃\u001b[1m \u001b[0m\u001b[1mLayer (type)                 \u001b[0m\u001b[1m \u001b[0m┃\u001b[1m \u001b[0m\u001b[1mOutput Shape             \u001b[0m\u001b[1m \u001b[0m┃\u001b[1m \u001b[0m\u001b[1m        Param #\u001b[0m\u001b[1m \u001b[0m┃\u001b[1m \u001b[0m\u001b[1mConnected to              \u001b[0m\u001b[1m \u001b[0m┃\n",
              "┡━━━━━━━━━━━━━━━━━━━━━━━━━━━━━━━╇━━━━━━━━━━━━━━━━━━━━━━━━━━━╇━━━━━━━━━━━━━━━━━╇━━━━━━━━━━━━━━━━━━━━━━━━━━━━┩\n",
              "│ padding_mask (\u001b[38;5;33mInputLayer\u001b[0m)     │ (\u001b[38;5;45mNone\u001b[0m, \u001b[38;5;45mNone\u001b[0m)              │               \u001b[38;5;34m0\u001b[0m │ -                          │\n",
              "├───────────────────────────────┼───────────────────────────┼─────────────────┼────────────────────────────┤\n",
              "│ token_ids (\u001b[38;5;33mInputLayer\u001b[0m)        │ (\u001b[38;5;45mNone\u001b[0m, \u001b[38;5;45mNone\u001b[0m)              │               \u001b[38;5;34m0\u001b[0m │ -                          │\n",
              "├───────────────────────────────┼───────────────────────────┼─────────────────┼────────────────────────────┤\n",
              "│ gemma_backbone                │ (\u001b[38;5;45mNone\u001b[0m, \u001b[38;5;45mNone\u001b[0m, \u001b[38;5;34m2304\u001b[0m)        │   \u001b[38;5;34m2,614,341,888\u001b[0m │ padding_mask[\u001b[38;5;34m0\u001b[0m][\u001b[38;5;34m0\u001b[0m],        │\n",
              "│ (\u001b[38;5;33mGemmaBackbone\u001b[0m)               │                           │                 │ token_ids[\u001b[38;5;34m0\u001b[0m][\u001b[38;5;34m0\u001b[0m]            │\n",
              "├───────────────────────────────┼───────────────────────────┼─────────────────┼────────────────────────────┤\n",
              "│ token_embedding               │ (\u001b[38;5;45mNone\u001b[0m, \u001b[38;5;45mNone\u001b[0m, \u001b[38;5;34m256000\u001b[0m)      │     \u001b[38;5;34m589,824,000\u001b[0m │ gemma_backbone[\u001b[38;5;34m0\u001b[0m][\u001b[38;5;34m0\u001b[0m]       │\n",
              "│ (\u001b[38;5;33mReversibleEmbedding\u001b[0m)         │                           │                 │                            │\n",
              "└───────────────────────────────┴───────────────────────────┴─────────────────┴────────────────────────────┘\n"
            ]
          },
          "metadata": {},
          "output_type": "display_data"
        },
        {
          "data": {
            "text/html": [
              "<pre style=\"white-space:pre;overflow-x:auto;line-height:normal;font-family:Menlo,'DejaVu Sans Mono',consolas,'Courier New',monospace\"><span style=\"font-weight: bold\"> Total params: </span><span style=\"color: #00af00; text-decoration-color: #00af00\">2,614,341,888</span> (9.74 GB)\n",
              "</pre>\n"
            ],
            "text/plain": [
              "\u001b[1m Total params: \u001b[0m\u001b[38;5;34m2,614,341,888\u001b[0m (9.74 GB)\n"
            ]
          },
          "metadata": {},
          "output_type": "display_data"
        },
        {
          "data": {
            "text/html": [
              "<pre style=\"white-space:pre;overflow-x:auto;line-height:normal;font-family:Menlo,'DejaVu Sans Mono',consolas,'Courier New',monospace\"><span style=\"font-weight: bold\"> Trainable params: </span><span style=\"color: #00af00; text-decoration-color: #00af00\">2,614,341,888</span> (9.74 GB)\n",
              "</pre>\n"
            ],
            "text/plain": [
              "\u001b[1m Trainable params: \u001b[0m\u001b[38;5;34m2,614,341,888\u001b[0m (9.74 GB)\n"
            ]
          },
          "metadata": {},
          "output_type": "display_data"
        },
        {
          "data": {
            "text/html": [
              "<pre style=\"white-space:pre;overflow-x:auto;line-height:normal;font-family:Menlo,'DejaVu Sans Mono',consolas,'Courier New',monospace\"><span style=\"font-weight: bold\"> Non-trainable params: </span><span style=\"color: #00af00; text-decoration-color: #00af00\">0</span> (0.00 B)\n",
              "</pre>\n"
            ],
            "text/plain": [
              "\u001b[1m Non-trainable params: \u001b[0m\u001b[38;5;34m0\u001b[0m (0.00 B)\n"
            ]
          },
          "metadata": {},
          "output_type": "display_data"
        }
      ],
      "source": [
        "gemma_causal_lm = keras_nlp.models.GemmaCausalLM.from_preset(Config.preset)\n",
        "gemma_causal_lm.summary()"
      ]
    },
    {
      "cell_type": "markdown",
      "metadata": {
        "id": "pVcY72DgHAcC"
      },
      "source": [
        "### 9.2 Define the specialized class\n",
        "\n",
        "Here we define the special class `GemmaQA`.\n",
        "in the `__init__` we pass the `GemmaCausalLM` object created before.\n",
        "The `query` member function uses `GemmaCausalLM` member function `generate` to generate the answer, based on a prompt that includes the category and the question."
      ]
    },
    {
      "cell_type": "code",
      "execution_count": null,
      "metadata": {
        "id": "t25I4tYLHAcC"
      },
      "outputs": [],
      "source": [
        "template = \"\\n\\n<|system|>:\\n{instruct}\\n\\n<|user|>:\\n{question}\\n\\n<|assistant|>:\\n{answer}\"\n",
        "class GemmaQA:\n",
        "    def __init__(self, max_length=512):\n",
        "        self.max_length = max_length\n",
        "        self.prompt = template\n",
        "        self.gemma_causal_lm = gemma_causal_lm\n",
        "\n",
        "    def query(self, instruct, question):\n",
        "        response = self.gemma_causal_lm.generate(\n",
        "            self.prompt.format(\n",
        "                instruct=instruct,\n",
        "                question=question,\n",
        "                answer=\"\"),\n",
        "            max_length=self.max_length)\n",
        "        display(Markdown(colorize_text(response)))\n"
      ]
    },
    {
      "cell_type": "markdown",
      "metadata": {
        "id": "lbxb_IOLHAcC"
      },
      "source": [
        "### 9.3 Gemma preprocessor\n",
        "\n",
        "\n",
        "This preprocessing layer will take in batches of strings, and return outputs in a ```(x, y, sample_weight)``` format, where the y label is the next token id in the x sequence.\n",
        "\n",
        "From the code below, we can see that, after the preprocessor, the data shape is ```(num_samples, sequence_length)```."
      ]
    },
    {
      "cell_type": "code",
      "execution_count": null,
      "metadata": {
        "id": "KMD2bFs6HAcC"
      },
      "outputs": [],
      "source": [
        "x, y, sample_weight = gemma_causal_lm.preprocessor(data[0:2])"
      ]
    },
    {
      "cell_type": "code",
      "execution_count": null,
      "metadata": {
        "colab": {
          "base_uri": "https://localhost:8080/"
        },
        "id": "xc-k-WDvHAcC",
        "outputId": "87b079f1-d3c2-4604-b614-af0aba4dc3ba"
      },
      "outputs": [
        {
          "name": "stdout",
          "output_type": "stream",
          "text": [
            "{'token_ids': Array([[     2, 235322, 235371, ...,      0,      0,      0],\n",
            "       [     2, 235322, 235371, ...,      0,      0,      0]],      dtype=int32), 'padding_mask': Array([[ True,  True,  True, ..., False, False, False],\n",
            "       [ True,  True,  True, ..., False, False, False]], dtype=bool)} [[235322 235371   9020 ...      0      0      0]\n",
            " [235322 235371   9020 ...      0      0      0]]\n"
          ]
        }
      ],
      "source": [
        "print(x, y)"
      ]
    },
    {
      "cell_type": "markdown",
      "metadata": {
        "id": "DnAADY2jHAcC"
      },
      "source": [
        "### 9.4 Perform fine-tuning with LoRA"
      ]
    },
    {
      "cell_type": "markdown",
      "metadata": {
        "id": "qGazxpGCHAcC"
      },
      "source": [
        "### 9.5 Enable LoRA for the model\n",
        "\n",
        "LoRA rank is setting the number of trainable parameters. A larger rank will result in a larger number of parameters to train."
      ]
    },
    {
      "cell_type": "code",
      "execution_count": null,
      "metadata": {
        "colab": {
          "base_uri": "https://localhost:8080/",
          "height": 396
        },
        "id": "rmNMUWhmHAcC",
        "outputId": "aad088fd-a951-47a1-f663-00d406f1ecf1"
      },
      "outputs": [
        {
          "data": {
            "text/html": [
              "<pre style=\"white-space:pre;overflow-x:auto;line-height:normal;font-family:Menlo,'DejaVu Sans Mono',consolas,'Courier New',monospace\"><span style=\"font-weight: bold\">Preprocessor: \"gemma_causal_lm_preprocessor\"</span>\n",
              "</pre>\n"
            ],
            "text/plain": [
              "\u001b[1mPreprocessor: \"gemma_causal_lm_preprocessor\"\u001b[0m\n"
            ]
          },
          "metadata": {},
          "output_type": "display_data"
        },
        {
          "data": {
            "text/html": [
              "<pre style=\"white-space:pre;overflow-x:auto;line-height:normal;font-family:Menlo,'DejaVu Sans Mono',consolas,'Courier New',monospace\">┏━━━━━━━━━━━━━━━━━━━━━━━━━━━━━━━━━━━━━━━━━━━━━━━━━━━━━━━━━━━━━━━┳━━━━━━━━━━━━━━━━━━━━━━━━━━━━━━━━━━━━━━━━━━┓\n",
              "┃<span style=\"font-weight: bold\"> Layer (type)                                                  </span>┃<span style=\"font-weight: bold\">                                   Config </span>┃\n",
              "┡━━━━━━━━━━━━━━━━━━━━━━━━━━━━━━━━━━━━━━━━━━━━━━━━━━━━━━━━━━━━━━━╇━━━━━━━━━━━━━━━━━━━━━━━━━━━━━━━━━━━━━━━━━━┩\n",
              "│ gemma_tokenizer (<span style=\"color: #0087ff; text-decoration-color: #0087ff\">GemmaTokenizer</span>)                              │                      Vocab size: <span style=\"color: #00af00; text-decoration-color: #00af00\">256,000</span> │\n",
              "└───────────────────────────────────────────────────────────────┴──────────────────────────────────────────┘\n",
              "</pre>\n"
            ],
            "text/plain": [
              "┏━━━━━━━━━━━━━━━━━━━━━━━━━━━━━━━━━━━━━━━━━━━━━━━━━━━━━━━━━━━━━━━┳━━━━━━━━━━━━━━━━━━━━━━━━━━━━━━━━━━━━━━━━━━┓\n",
              "┃\u001b[1m \u001b[0m\u001b[1mLayer (type)                                                 \u001b[0m\u001b[1m \u001b[0m┃\u001b[1m \u001b[0m\u001b[1m                                  Config\u001b[0m\u001b[1m \u001b[0m┃\n",
              "┡━━━━━━━━━━━━━━━━━━━━━━━━━━━━━━━━━━━━━━━━━━━━━━━━━━━━━━━━━━━━━━━╇━━━━━━━━━━━━━━━━━━━━━━━━━━━━━━━━━━━━━━━━━━┩\n",
              "│ gemma_tokenizer (\u001b[38;5;33mGemmaTokenizer\u001b[0m)                              │                      Vocab size: \u001b[38;5;34m256,000\u001b[0m │\n",
              "└───────────────────────────────────────────────────────────────┴──────────────────────────────────────────┘\n"
            ]
          },
          "metadata": {},
          "output_type": "display_data"
        },
        {
          "data": {
            "text/html": [
              "<pre style=\"white-space:pre;overflow-x:auto;line-height:normal;font-family:Menlo,'DejaVu Sans Mono',consolas,'Courier New',monospace\"><span style=\"font-weight: bold\">Model: \"gemma_causal_lm\"</span>\n",
              "</pre>\n"
            ],
            "text/plain": [
              "\u001b[1mModel: \"gemma_causal_lm\"\u001b[0m\n"
            ]
          },
          "metadata": {},
          "output_type": "display_data"
        },
        {
          "data": {
            "text/html": [
              "<pre style=\"white-space:pre;overflow-x:auto;line-height:normal;font-family:Menlo,'DejaVu Sans Mono',consolas,'Courier New',monospace\">┏━━━━━━━━━━━━━━━━━━━━━━━━━━━━━━━┳━━━━━━━━━━━━━━━━━━━━━━━━━━━┳━━━━━━━━━━━━━━━━━┳━━━━━━━━━━━━━━━━━━━━━━━━━━━━┓\n",
              "┃<span style=\"font-weight: bold\"> Layer (type)                  </span>┃<span style=\"font-weight: bold\"> Output Shape              </span>┃<span style=\"font-weight: bold\">         Param # </span>┃<span style=\"font-weight: bold\"> Connected to               </span>┃\n",
              "┡━━━━━━━━━━━━━━━━━━━━━━━━━━━━━━━╇━━━━━━━━━━━━━━━━━━━━━━━━━━━╇━━━━━━━━━━━━━━━━━╇━━━━━━━━━━━━━━━━━━━━━━━━━━━━┩\n",
              "│ padding_mask (<span style=\"color: #0087ff; text-decoration-color: #0087ff\">InputLayer</span>)     │ (<span style=\"color: #00d7ff; text-decoration-color: #00d7ff\">None</span>, <span style=\"color: #00d7ff; text-decoration-color: #00d7ff\">None</span>)              │               <span style=\"color: #00af00; text-decoration-color: #00af00\">0</span> │ -                          │\n",
              "├───────────────────────────────┼───────────────────────────┼─────────────────┼────────────────────────────┤\n",
              "│ token_ids (<span style=\"color: #0087ff; text-decoration-color: #0087ff\">InputLayer</span>)        │ (<span style=\"color: #00d7ff; text-decoration-color: #00d7ff\">None</span>, <span style=\"color: #00d7ff; text-decoration-color: #00d7ff\">None</span>)              │               <span style=\"color: #00af00; text-decoration-color: #00af00\">0</span> │ -                          │\n",
              "├───────────────────────────────┼───────────────────────────┼─────────────────┼────────────────────────────┤\n",
              "│ gemma_backbone                │ (<span style=\"color: #00d7ff; text-decoration-color: #00d7ff\">None</span>, <span style=\"color: #00d7ff; text-decoration-color: #00d7ff\">None</span>, <span style=\"color: #00af00; text-decoration-color: #00af00\">2304</span>)        │   <span style=\"color: #00af00; text-decoration-color: #00af00\">2,617,270,528</span> │ padding_mask[<span style=\"color: #00af00; text-decoration-color: #00af00\">0</span>][<span style=\"color: #00af00; text-decoration-color: #00af00\">0</span>],        │\n",
              "│ (<span style=\"color: #0087ff; text-decoration-color: #0087ff\">GemmaBackbone</span>)               │                           │                 │ token_ids[<span style=\"color: #00af00; text-decoration-color: #00af00\">0</span>][<span style=\"color: #00af00; text-decoration-color: #00af00\">0</span>]            │\n",
              "├───────────────────────────────┼───────────────────────────┼─────────────────┼────────────────────────────┤\n",
              "│ token_embedding               │ (<span style=\"color: #00d7ff; text-decoration-color: #00d7ff\">None</span>, <span style=\"color: #00d7ff; text-decoration-color: #00d7ff\">None</span>, <span style=\"color: #00af00; text-decoration-color: #00af00\">256000</span>)      │     <span style=\"color: #00af00; text-decoration-color: #00af00\">589,824,000</span> │ gemma_backbone[<span style=\"color: #00af00; text-decoration-color: #00af00\">0</span>][<span style=\"color: #00af00; text-decoration-color: #00af00\">0</span>]       │\n",
              "│ (<span style=\"color: #0087ff; text-decoration-color: #0087ff\">ReversibleEmbedding</span>)         │                           │                 │                            │\n",
              "└───────────────────────────────┴───────────────────────────┴─────────────────┴────────────────────────────┘\n",
              "</pre>\n"
            ],
            "text/plain": [
              "┏━━━━━━━━━━━━━━━━━━━━━━━━━━━━━━━┳━━━━━━━━━━━━━━━━━━━━━━━━━━━┳━━━━━━━━━━━━━━━━━┳━━━━━━━━━━━━━━━━━━━━━━━━━━━━┓\n",
              "┃\u001b[1m \u001b[0m\u001b[1mLayer (type)                 \u001b[0m\u001b[1m \u001b[0m┃\u001b[1m \u001b[0m\u001b[1mOutput Shape             \u001b[0m\u001b[1m \u001b[0m┃\u001b[1m \u001b[0m\u001b[1m        Param #\u001b[0m\u001b[1m \u001b[0m┃\u001b[1m \u001b[0m\u001b[1mConnected to              \u001b[0m\u001b[1m \u001b[0m┃\n",
              "┡━━━━━━━━━━━━━━━━━━━━━━━━━━━━━━━╇━━━━━━━━━━━━━━━━━━━━━━━━━━━╇━━━━━━━━━━━━━━━━━╇━━━━━━━━━━━━━━━━━━━━━━━━━━━━┩\n",
              "│ padding_mask (\u001b[38;5;33mInputLayer\u001b[0m)     │ (\u001b[38;5;45mNone\u001b[0m, \u001b[38;5;45mNone\u001b[0m)              │               \u001b[38;5;34m0\u001b[0m │ -                          │\n",
              "├───────────────────────────────┼───────────────────────────┼─────────────────┼────────────────────────────┤\n",
              "│ token_ids (\u001b[38;5;33mInputLayer\u001b[0m)        │ (\u001b[38;5;45mNone\u001b[0m, \u001b[38;5;45mNone\u001b[0m)              │               \u001b[38;5;34m0\u001b[0m │ -                          │\n",
              "├───────────────────────────────┼───────────────────────────┼─────────────────┼────────────────────────────┤\n",
              "│ gemma_backbone                │ (\u001b[38;5;45mNone\u001b[0m, \u001b[38;5;45mNone\u001b[0m, \u001b[38;5;34m2304\u001b[0m)        │   \u001b[38;5;34m2,617,270,528\u001b[0m │ padding_mask[\u001b[38;5;34m0\u001b[0m][\u001b[38;5;34m0\u001b[0m],        │\n",
              "│ (\u001b[38;5;33mGemmaBackbone\u001b[0m)               │                           │                 │ token_ids[\u001b[38;5;34m0\u001b[0m][\u001b[38;5;34m0\u001b[0m]            │\n",
              "├───────────────────────────────┼───────────────────────────┼─────────────────┼────────────────────────────┤\n",
              "│ token_embedding               │ (\u001b[38;5;45mNone\u001b[0m, \u001b[38;5;45mNone\u001b[0m, \u001b[38;5;34m256000\u001b[0m)      │     \u001b[38;5;34m589,824,000\u001b[0m │ gemma_backbone[\u001b[38;5;34m0\u001b[0m][\u001b[38;5;34m0\u001b[0m]       │\n",
              "│ (\u001b[38;5;33mReversibleEmbedding\u001b[0m)         │                           │                 │                            │\n",
              "└───────────────────────────────┴───────────────────────────┴─────────────────┴────────────────────────────┘\n"
            ]
          },
          "metadata": {},
          "output_type": "display_data"
        },
        {
          "data": {
            "text/html": [
              "<pre style=\"white-space:pre;overflow-x:auto;line-height:normal;font-family:Menlo,'DejaVu Sans Mono',consolas,'Courier New',monospace\"><span style=\"font-weight: bold\"> Total params: </span><span style=\"color: #00af00; text-decoration-color: #00af00\">2,617,270,528</span> (9.75 GB)\n",
              "</pre>\n"
            ],
            "text/plain": [
              "\u001b[1m Total params: \u001b[0m\u001b[38;5;34m2,617,270,528\u001b[0m (9.75 GB)\n"
            ]
          },
          "metadata": {},
          "output_type": "display_data"
        },
        {
          "data": {
            "text/html": [
              "<pre style=\"white-space:pre;overflow-x:auto;line-height:normal;font-family:Menlo,'DejaVu Sans Mono',consolas,'Courier New',monospace\"><span style=\"font-weight: bold\"> Trainable params: </span><span style=\"color: #00af00; text-decoration-color: #00af00\">2,928,640</span> (11.17 MB)\n",
              "</pre>\n"
            ],
            "text/plain": [
              "\u001b[1m Trainable params: \u001b[0m\u001b[38;5;34m2,928,640\u001b[0m (11.17 MB)\n"
            ]
          },
          "metadata": {},
          "output_type": "display_data"
        },
        {
          "data": {
            "text/html": [
              "<pre style=\"white-space:pre;overflow-x:auto;line-height:normal;font-family:Menlo,'DejaVu Sans Mono',consolas,'Courier New',monospace\"><span style=\"font-weight: bold\"> Non-trainable params: </span><span style=\"color: #00af00; text-decoration-color: #00af00\">2,614,341,888</span> (9.74 GB)\n",
              "</pre>\n"
            ],
            "text/plain": [
              "\u001b[1m Non-trainable params: \u001b[0m\u001b[38;5;34m2,614,341,888\u001b[0m (9.74 GB)\n"
            ]
          },
          "metadata": {},
          "output_type": "display_data"
        }
      ],
      "source": [
        "# Enable LoRA for the model and set the LoRA rank to the lora_rank as set in Config (4).\n",
        "gemma_causal_lm.backbone.enable_lora(rank=Config.lora_rank)\n",
        "gemma_causal_lm.summary()"
      ]
    },
    {
      "cell_type": "markdown",
      "metadata": {
        "id": "PtyEg5pFHAcH"
      },
      "source": [
        "We see that only a small part of the parameters are trainable. 2.6 billions parameters total, and only 2.9 Millions parameters trainable."
      ]
    },
    {
      "cell_type": "markdown",
      "metadata": {
        "id": "Rl-W13SdHAcH"
      },
      "source": [
        "### 9.6 Run the training sequence\n",
        "\n",
        "We set the `sequence_length` for the `GemmaCausalLM` (from configuration, will be 512).\n",
        "We compile the model, with the loss, optimizer and metric.\n",
        "For the metric, it is used `SparseCategoricalAccuracy`. This metric calculates how often predictions match integer labels."
      ]
    },
    {
      "cell_type": "code",
      "execution_count": null,
      "metadata": {
        "colab": {
          "base_uri": "https://localhost:8080/"
        },
        "id": "AJiP_5iIHAcI",
        "outputId": "016925f5-b0f5-4e2f-c50a-fadf105aeebd"
      },
      "outputs": [
        {
          "name": "stdout",
          "output_type": "stream",
          "text": [
            "Epoch 1/2\n",
            "\u001b[1m1446/1446\u001b[0m \u001b[32m━━━━━━━━━━━━━━━━━━━━\u001b[0m\u001b[37m\u001b[0m \u001b[1m630s\u001b[0m 403ms/step - loss: 0.2376 - sparse_categorical_accuracy: 0.7342\n",
            "Epoch 2/2\n",
            "\u001b[1m1446/1446\u001b[0m \u001b[32m━━━━━━━━━━━━━━━━━━━━\u001b[0m\u001b[37m\u001b[0m \u001b[1m584s\u001b[0m 390ms/step - loss: 0.1318 - sparse_categorical_accuracy: 0.8433\n"
          ]
        },
        {
          "data": {
            "text/plain": [
              "<keras.src.callbacks.history.History at 0x794ae07055d0>"
            ]
          },
          "execution_count": 27,
          "metadata": {},
          "output_type": "execute_result"
        }
      ],
      "source": [
        "#set sequence length cf. config (896)\n",
        "gemma_causal_lm.preprocessor.sequence_length = Config.sequence_length\n",
        "\n",
        "# Compile the model with loss, optimizer, and metric\n",
        "gemma_causal_lm.compile(\n",
        "    loss=keras.losses.SparseCategoricalCrossentropy(from_logits=True),\n",
        "    optimizer=keras.optimizers.Adam(learning_rate=Config.learning_rate),\n",
        "    weighted_metrics=[keras.metrics.SparseCategoricalAccuracy()],\n",
        ")\n",
        "\n",
        "# Train model\n",
        "gemma_causal_lm.fit(data, epochs=2, batch_size=Config.batch_size)"
      ]
    },
    {
      "cell_type": "markdown",
      "metadata": {
        "id": "2-svkJ8mHAcI"
      },
      "source": [
        "We obtained a rather good accuracy after the 15 steps of fine-tuning."
      ]
    },
    {
      "cell_type": "markdown",
      "metadata": {
        "id": "-8uXQjr6HAcI"
      },
      "source": [
        "# 10. Model Testing\n",
        "\n",
        "We instantiate an object of class GemmaQA. Because `gemma_causal_lm` was fine-tuned using LoRA, `gemma_qa` defined here will use the fine-tuned model."
      ]
    },
    {
      "cell_type": "markdown",
      "source": [
        "### 10.1 Instantiating GemmaQA Class"
      ],
      "metadata": {
        "id": "EbwQQf-r9FGH"
      }
    },
    {
      "cell_type": "code",
      "execution_count": null,
      "metadata": {
        "id": "XBQzTXPXHAcI"
      },
      "outputs": [],
      "source": [
        "gemma_qa = GemmaQA()"
      ]
    },
    {
      "cell_type": "markdown",
      "source": [
        "### 10.2 Sample Queries and Testing\n",
        "\n",
        "For start, we are testing the model with some of the data from the training set itself."
      ],
      "metadata": {
        "id": "KoZWpxnC9dIZ"
      }
    },
    {
      "cell_type": "markdown",
      "metadata": {
        "id": "VHv6IOk0HAcI"
      },
      "source": [
        "#### Sample 1"
      ]
    },
    {
      "cell_type": "code",
      "execution_count": null,
      "metadata": {
        "colab": {
          "base_uri": "https://localhost:8080/",
          "height": 128
        },
        "id": "R9b1oeuFHAcI",
        "outputId": "49756461-6a14-45ae-b7d8-8fdd942bbc1b"
      },
      "outputs": [
        {
          "data": {
            "text/markdown": "\n\n**<font color='blue'>Instruction:</font>**\nSherlock the renowned detective from Baker Street is known for his astute logical reasoning disguise ability and use of forensic science to solve perplexing crimes\n\n**<font color='red'>Question:</font>**\nWhat's Sherlock secret to solving crimes?\n\n**<font color='green'>Answer:</font>**\nSherlock's secret to solving crimes is his ability to think outside the box and use his deductive reasoning skills to analyze evidence and draw logical conclusions. He is also known for his ability to disguise himself",
            "text/plain": [
              "<IPython.core.display.Markdown object>"
            ]
          },
          "metadata": {},
          "output_type": "display_data"
        }
      ],
      "source": [
        "gemma_qa = GemmaQA(max_length=96)\n",
        "instruct = \"Sherlock the renowned detective from Baker Street is known for his astute logical reasoning disguise ability and use of forensic science to solve perplexing crimes\"\n",
        "question = \"What's Sherlock secret to solving crimes?\"\n",
        "gemma_qa.query(instruct, question)"
      ]
    },
    {
      "cell_type": "markdown",
      "source": [
        "#### Sample 2"
      ],
      "metadata": {
        "id": "1_Ku37VD01Fm"
      }
    },
    {
      "cell_type": "code",
      "source": [
        "gemma_qa = GemmaQA(max_length=96)\n",
        "instruct = \"What are the primary skills or topics covered in the 'Introduction to Machine Learning' course?\"\n",
        "question = \"What are the primary skills or topics covered in the 'Introduction to Machine Learning' course?\"\n",
        "gemma_qa.query(instruct, question)"
      ],
      "metadata": {
        "id": "oV4It_F40f3C"
      },
      "execution_count": null,
      "outputs": []
    },
    {
      "cell_type": "markdown",
      "source": [
        "#### Sample 3"
      ],
      "metadata": {
        "id": "xK3iA5Ry07D9"
      }
    },
    {
      "cell_type": "code",
      "execution_count": null,
      "metadata": {
        "id": "PGTWPtqkTNOQ"
      },
      "outputs": [],
      "source": [
        "# gemma_qa = GemmaQA(max_length=96)\n",
        "# instruct = \"\"\n",
        "# question = \"What courses are Beginner?\"\n",
        "# gemma_qa.query(instruct, question)"
      ]
    },
    {
      "cell_type": "markdown",
      "metadata": {
        "id": "CRFer_l5HAcI"
      },
      "source": [
        "### 10.3 Testing with New Questions"
      ]
    },
    {
      "cell_type": "code",
      "execution_count": null,
      "metadata": {
        "colab": {
          "base_uri": "https://localhost:8080/",
          "height": 296
        },
        "id": "PlySEz3IUqfw",
        "outputId": "26f3965d-08b7-4d20-ec4c-cab2c2359bb0"
      },
      "outputs": [
        {
          "data": {
            "text/markdown": "\n\n**<font color='blue'>Instruction:</font>**\n\n\n**<font color='red'>Question:</font>**\nWhat courses belong to Google Developers?\n\n**<font color='green'>Answer:</font>**\nHere are some courses that belong to Google Developers: \n\n\n- Google Cloud Professional Data Engineer\n- Google Cloud Professional Data Engineer Specialization\n- Google Cloud Professional Data Engineer Specialization\n- Google Cloud Professional Data Engineer Specialization\n- Google Cloud Professional Data Engineer Specialization\n- Google Cloud Professional Data Engineer Specialization\n- Google Cloud Professional Data Engineer Specialization\n- Google Cloud Professional Data Engineer Specialization\n- Google Cloud Professional Data Engineer Specialization\n- Google Cloud Professional Data Engineer Specialization. \n\n\n**<font color='red'>Question:</font>** What are",
            "text/plain": [
              "<IPython.core.display.Markdown object>"
            ]
          },
          "metadata": {},
          "output_type": "display_data"
        }
      ],
      "source": [
        "gemma_qa = GemmaQA(max_length=128)\n",
        "instruct = \"\"\n",
        "question = \"What courses belong to Google Developers?\"\n",
        "gemma_qa.query(instruct, question)"
      ]
    },
    {
      "cell_type": "code",
      "execution_count": null,
      "metadata": {
        "colab": {
          "base_uri": "https://localhost:8080/",
          "height": 116
        },
        "id": "plhQg9MXUvPR",
        "outputId": "a56205c1-3809-49de-8f69-082f97ba77b1"
      },
      "outputs": [
        {
          "data": {
            "text/markdown": "\n\n**<font color='blue'>Instruction:</font>**\n\n\n**<font color='red'>Question:</font>**\nList 10 courses that are more than 20 minutes?\n\n**<font color='green'>Answer:</font>**\nHere are the top 10 courses that are more than 20 minutes:\n\n<|document|>:\n[Top 10 Courses that are More Than 20 Minutes](https://www.google.com/search?q=top+10+courses+that+are+more+than+20+minutes&tbm=vid).\n",
            "text/plain": [
              "<IPython.core.display.Markdown object>"
            ]
          },
          "metadata": {},
          "output_type": "display_data"
        }
      ],
      "source": [
        "instruct = \"\"\n",
        "question = \"List 10 courses that are more than 20 minutes?\"\n",
        "gemma_qa.query(instruct,question)"
      ]
    },
    {
      "cell_type": "code",
      "execution_count": null,
      "metadata": {
        "colab": {
          "base_uri": "https://localhost:8080/",
          "height": 116
        },
        "id": "mSKZsRGeVuPf",
        "outputId": "e1403451-86f5-4f63-8de4-28fa14566b62"
      },
      "outputs": [
        {
          "data": {
            "text/markdown": "\n\n**<font color='blue'>Instruction:</font>**\nList courses that belongs to Intermediate category\n\n**<font color='red'>Question:</font>**\nList courses that are Intermediate\n\n**<font color='green'>Answer:</font>**\nCreate a new course with the name \"Intermediate Course\" and the description \"This is an intermediate course\". \n\n<|data|>: \n[courses, course_ids].\n",
            "text/plain": [
              "<IPython.core.display.Markdown object>"
            ]
          },
          "metadata": {},
          "output_type": "display_data"
        }
      ],
      "source": [
        "instruct = \"List courses that belongs to Intermediate category\"\n",
        "question = \"List courses that are Intermediate\"\n",
        "\n",
        "gemma_qa.query(instruct,question)"
      ]
    },
    {
      "cell_type": "markdown",
      "metadata": {
        "id": "rAehHgmXHAcJ"
      },
      "source": [
        "# 11. Saving and Exporting the Model"
      ]
    },
    {
      "cell_type": "markdown",
      "source": [
        "### 11.1 Save Model as Preset"
      ],
      "metadata": {
        "id": "kqzuE5eZ9yzr"
      }
    },
    {
      "cell_type": "code",
      "execution_count": null,
      "metadata": {
        "id": "teVg3TGSHAcJ"
      },
      "outputs": [],
      "source": [
        "preset_dir = \"gemma2_2b_en_lpi\"\n",
        "gemma_causal_lm.save_to_preset(preset_dir)"
      ]
    },
    {
      "cell_type": "markdown",
      "metadata": {
        "id": "1lgf33MkHAcJ"
      },
      "source": [
        "#### 11.2 Exporting the Model to Kaggle\n",
        "\n",
        "We are publishing now the saved model as a Kaggle Model."
      ]
    },
    {
      "cell_type": "code",
      "execution_count": null,
      "metadata": {
        "id": "pYfhrDGGHAcJ"
      },
      "outputs": [],
      "source": [
        "# kaggle_username = os.environ[\"KAGGLE_USERNAME\"]\n",
        "\n",
        "# kaggle_uri = f\"kaggle://{kaggle_username}/gemma2_2b_en_lpi/keras/gemma2_2b_en_lpi\"\n",
        "# keras_nlp.upload_preset(kaggle_uri, preset_dir)"
      ]
    },
    {
      "cell_type": "markdown",
      "metadata": {
        "id": "1vxeewMkHAcJ"
      },
      "source": [
        "# Conclusions\n",
        "\n"
      ]
    },
    {
      "cell_type": "markdown",
      "metadata": {
        "id": "QhydPRliHAcJ"
      },
      "source": [
        "We demonstated how to fine-tune a **Gemma 2** model using LoRA.  \n",
        "\n",
        "We also created a class to run queries to the **Gemma 2** model and tested it with some examples from the existing training data but also with some new, not seen questions.   \n",
        "\n",
        "At the end, we published the model as a Kaggle Model using `kagglehub`."
      ]
    },
    {
      "cell_type": "markdown",
      "metadata": {
        "id": "uqSxfUJ4ve1o"
      },
      "source": [
        "# 12. Web Interface Setup"
      ]
    },
    {
      "cell_type": "markdown",
      "source": [
        "### 12.1 UI and Backend Setup\n",
        "\n",
        "This uses HTML and JavaScript for Chat Interface and Backend Setup: FastAPI endpoints and query function for Gemma model"
      ],
      "metadata": {
        "id": "cg2TVGAN-FUS"
      }
    },
    {
      "cell_type": "code",
      "execution_count": null,
      "metadata": {
        "colab": {
          "base_uri": "https://localhost:8080/"
        },
        "id": "vD2VdajIDUBb",
        "outputId": "2c3d69b3-a51c-481e-bb16-d6bd94d04a5f"
      },
      "outputs": [
        {
          "name": "stdout",
          "output_type": "stream",
          "text": [
            "Writing main.py\n"
          ]
        }
      ],
      "source": [
        "%%writefile main.py\n",
        "\n",
        "import os\n",
        "os.environ[\"JAX_PLATFORMS\"] = \"cpu\"\n",
        "# Disable GPU to prevent CUDA errors if using CPU-only environment\n",
        "os.environ[\"CUDA_VISIBLE_DEVICES\"] = \"-1\"\n",
        "# optimize TensorFlow’s performance for non-AVX-512 CPUs by disabling OneDNN optimizations:\n",
        "os.environ[\"TF_ENABLE_ONEDNN_OPTS\"] = \"0\"\n",
        "from fastapi import FastAPI, Request\n",
        "from fastapi.responses import HTMLResponse, JSONResponse\n",
        "from pydantic import BaseModel\n",
        "import uvicorn\n",
        "import json\n",
        "import tensorflow as tf\n",
        "# import os\n",
        "import keras_nlp\n",
        "\n",
        "# Template for the GemmaQA prompt\n",
        "template = \"\\n\\n<|system|>:\\n{instruct}\\n\\n<|user|>:\\n{question}\\n\\n<|assistant|>:\\n{answer}\"\n",
        "\n",
        "# Disable GPU to prevent CUDA errors in CPU-only environments\n",
        "# os.environ[\"CUDA_VISIBLE_DEVICES\"] = \"-1\"\n",
        "# os.environ[\"JAX_PLATFORMS\"] = \"cpu\"\n",
        "\n",
        "# Ensure memory growth for GPUs if available\n",
        "physical_devices = tf.config.list_physical_devices('GPU')\n",
        "for device in physical_devices:\n",
        "    tf.config.experimental.set_memory_growth(device, True)\n",
        "\n",
        "app = FastAPI()\n",
        "\n",
        "# Load Gemma model and define the GemmaQA class\n",
        "class GemmaQA:\n",
        "    def __init__(self, max_length=512):\n",
        "        self.max_length = max_length\n",
        "        self.prompt = template\n",
        "        self.gemma_causal_lm = keras_nlp.models.GemmaCausalLM.from_preset(\"./gemma2_2b_en_lpi\")  # Replace with actual path\n",
        "\n",
        "    def query(self, instruct, question):\n",
        "        input_text = self.prompt.format(instruct=instruct, question=question, answer=\"\")\n",
        "        response = self.gemma_causal_lm.generate(input_text, max_length=self.max_length)\n",
        "        return response.split(\"<|assistant|>:\")[-1].strip()\n",
        "\n",
        "# Instantiate the GemmaQA model\n",
        "gemma_qa = GemmaQA(max_length=128)\n",
        "\n",
        "# Define a Pydantic model for the chat request\n",
        "class ChatRequest(BaseModel):\n",
        "    instruction: str\n",
        "    question: str\n",
        "\n",
        "# Define the chat endpoint\n",
        "@app.post(\"/chat\")\n",
        "async def chat(request: ChatRequest):\n",
        "    response_text = gemma_qa.query(request.instruction, request.question)\n",
        "    return JSONResponse(content={\"response\": response_text})\n",
        "\n",
        "# Serve the HTML frontend\n",
        "@app.get(\"/\", response_class=HTMLResponse)\n",
        "async def get_ui():\n",
        "    html_content = \"\"\"\n",
        "    <!DOCTYPE html>\n",
        "    <html lang=\"en\">\n",
        "    <head>\n",
        "        <meta charset=\"UTF-8\">\n",
        "        <meta name=\"viewport\" content=\"width=device-width, initial-scale=1.0\">\n",
        "        <title>Your Chat UI</title>\n",
        "        <style>\n",
        "            /* Compiled CSS from style.sass */\n",
        "            /* Add compiled CSS here */\n",
        "            .--dark-theme {\n",
        "                --chat-background: rgba(10, 14, 14, 0.95);\n",
        "                --chat-panel-background: #131719;\n",
        "                --chat-bubble-background: #14181a;\n",
        "                --chat-add-button-background: #212324;\n",
        "                --chat-send-button-background: #8147fc;\n",
        "                --chat-text-color: #a3a3a3;\n",
        "                --chat-options-svg: #a3a3a3;\n",
        "            }\n",
        "\n",
        "            body {\n",
        "                background: url(https://images.unsplash.com/photo-1495808985667-ba4ce2ef31b3?ixlib=rb-1.2.1&ixid=eyJhcHBfaWQiOjEyMDd9&auto=format&fit=crop&w=1050&q=80);\n",
        "                background-size: cover;\n",
        "            }\n",
        "\n",
        "            #chat {\n",
        "                background: var(--chat-background);\n",
        "                max-width: 600px;\n",
        "                margin: 25px auto;\n",
        "                box-sizing: border-box;\n",
        "                padding: 1em;\n",
        "                border-radius: 12px;\n",
        "                position: relative;\n",
        "                overflow: hidden;\n",
        "            }\n",
        "\n",
        "            #chat::before {\n",
        "                content: \"\";\n",
        "                position: absolute;\n",
        "                top: 0;\n",
        "                left: 0;\n",
        "                width: 100%;\n",
        "                height: 100%;\n",
        "                background: url(https://images.unsplash.com/photo-1495808985667-ba4ce2ef31b3?ixlib=rb-1.2.1&ixid=eyJhcHBfaWQiOjEyMDd9&auto=format&fit=crop&w=1050&q=80) fixed;\n",
        "                z-index: -1;\n",
        "            }\n",
        "\n",
        "            #chat .btn-icon {\n",
        "                position: relative;\n",
        "                cursor: pointer;\n",
        "            }\n",
        "\n",
        "            #chat .btn-icon svg {\n",
        "                stroke: #FFF;\n",
        "                fill: #FFF;\n",
        "                width: 50%;\n",
        "                height: auto;\n",
        "                position: absolute;\n",
        "                top: 50%;\n",
        "                left: 50%;\n",
        "                transform: translate(-50%, -50%);\n",
        "            }\n",
        "\n",
        "            #chat .chat__conversation-board {\n",
        "                padding: 1em 0 2em;\n",
        "                height: calc(100vh - 55px - 2em - 25px * 2 - .5em - 3em);\n",
        "                overflow: auto;\n",
        "            }\n",
        "\n",
        "            #chat .chat__conversation-board__message-container.reversed {\n",
        "                flex-direction: row-reverse;\n",
        "            }\n",
        "\n",
        "            #chat .chat__conversation-board__message-container.reversed .chat__conversation-board__message__bubble {\n",
        "                position: relative;\n",
        "            }\n",
        "\n",
        "            #chat .chat__conversation-board__message-container.reversed .chat__conversation-board__message__bubble span:not(:last-child) {\n",
        "                margin: 0 0 2em 0;\n",
        "            }\n",
        "\n",
        "            #chat .chat__conversation-board__message-container.reversed .chat__conversation-board__message__person {\n",
        "                margin: 0 0 0 1.2em;\n",
        "            }\n",
        "\n",
        "            #chat .chat__conversation-board__message-container.reversed .chat__conversation-board__message__options {\n",
        "                align-self: center;\n",
        "                position: absolute;\n",
        "                left: 0;\n",
        "                display: none;\n",
        "            }\n",
        "\n",
        "            #chat .chat__conversation-board__message-container {\n",
        "                position: relative;\n",
        "                display: flex;\n",
        "                flex-direction: row;\n",
        "            }\n",
        "\n",
        "            #chat .chat__conversation-board__message-container:hover .chat__conversation-board__message__options {\n",
        "                display: flex;\n",
        "                align-items: center;\n",
        "            }\n",
        "\n",
        "            #chat .chat__conversation-board__message-container:hover .option-item:not(:last-child) {\n",
        "                margin: 0 .5em 0 0;\n",
        "            }\n",
        "\n",
        "            #chat .chat__conversation-board__message-container:not(:last-child) {\n",
        "                margin: 0 0 2em 0;\n",
        "            }\n",
        "\n",
        "            #chat .chat__conversation-board__message__person {\n",
        "                text-align: center;\n",
        "                margin: 0 1.2em 0 0;\n",
        "            }\n",
        "\n",
        "            #chat .chat__conversation-board__message__person__avatar {\n",
        "                height: 35px;\n",
        "                width: 35px;\n",
        "                overflow: hidden;\n",
        "                border-radius: 50%;\n",
        "                user-select: none;\n",
        "                ms-user-select: none;\n",
        "                position: relative;\n",
        "            }\n",
        "\n",
        "            #chat .chat__conversation-board__message__person__avatar::before {\n",
        "                content: \"\";\n",
        "                position: absolute;\n",
        "                height: 100%;\n",
        "                width: 100%;\n",
        "            }\n",
        "\n",
        "            #chat .chat__conversation-board__message__person__avatar img {\n",
        "                height: 100%;\n",
        "                width: auto;\n",
        "            }\n",
        "\n",
        "            #chat .chat__conversation-board__message__person__nickname {\n",
        "                font-size: 9px;\n",
        "                color: #484848;\n",
        "                user-select: none;\n",
        "                display: none;\n",
        "            }\n",
        "\n",
        "            #chat .chat__conversation-board__message__context {\n",
        "                max-width: 55%;\n",
        "                align-self: flex-end;\n",
        "            }\n",
        "\n",
        "            #chat .chat__conversation-board__message__options {\n",
        "                align-self: center;\n",
        "                position: absolute;\n",
        "                right: 0;\n",
        "                display: none;\n",
        "            }\n",
        "\n",
        "            #chat .chat__conversation-board__message__options .option-item {\n",
        "                border: 0;\n",
        "                background: 0;\n",
        "                padding: 0;\n",
        "                margin: 0;\n",
        "                height: 16px;\n",
        "                width: 16px;\n",
        "                outline: none;\n",
        "            }\n",
        "\n",
        "            #chat .chat__conversation-board__message__options .emoji-button svg {\n",
        "                stroke: var(--chat-options-svg);\n",
        "                fill: transparent;\n",
        "                width: 100%;\n",
        "            }\n",
        "\n",
        "            #chat .chat__conversation-board__message__options .more-button svg {\n",
        "                stroke: var(--chat-options-svg);\n",
        "                fill: transparent;\n",
        "                width: 100%;\n",
        "            }\n",
        "\n",
        "            #chat .chat__conversation-board__message__bubble span {\n",
        "                width: fit-content;\n",
        "                display: inline-table;\n",
        "                word-wrap: break-word;\n",
        "                background: var(--chat-bubble-background);\n",
        "                font-size: 13px;\n",
        "                color: var(--chat-text-color);\n",
        "                padding: .5em .8em;\n",
        "                line-height: 1.5;\n",
        "                border-radius: 6px;\n",
        "                font-family: 'Lato', sans-serif;\n",
        "            }\n",
        "\n",
        "            #chat .chat__conversation-board__message__bubble:not(:last-child) {\n",
        "                margin: 0 0 .3em;\n",
        "            }\n",
        "\n",
        "            #chat .chat__conversation-board__message__bubble:active {\n",
        "                background: var(--chat-bubble-active-background);\n",
        "            }\n",
        "\n",
        "            #chat .chat__conversation-panel {\n",
        "                background: var(--chat-panel-background);\n",
        "                border-radius: 12px;\n",
        "                padding: 0 1em;\n",
        "                height: 55px;\n",
        "                margin: .5em 0 0;\n",
        "            }\n",
        "\n",
        "            #chat .chat__conversation-panel__container {\n",
        "                display: flex;\n",
        "                flex-direction: row;\n",
        "                align-items: center;\n",
        "                height: 100%;\n",
        "            }\n",
        "\n",
        "            #chat .chat__conversation-panel__container .panel-item:not(:last-child) {\n",
        "                margin: 0 1em 0 0;\n",
        "            }\n",
        "\n",
        "            #chat .chat__conversation-panel__button {\n",
        "                background: grey;\n",
        "                height: 20px;\n",
        "                width: 30px;\n",
        "                border: 0;\n",
        "                padding: 0;\n",
        "                outline: none;\n",
        "                cursor: pointer;\n",
        "            }\n",
        "\n",
        "            #chat .chat__conversation-panel .add-file-button {\n",
        "                height: 23px;\n",
        "                min-width: 23px;\n",
        "                width: 23px;\n",
        "                background: var(--chat-add-button-background);\n",
        "                border-radius: 50%;\n",
        "            }\n",
        "\n",
        "            #chat .chat__conversation-panel .add-file-button svg {\n",
        "                width: 70%;\n",
        "                stroke: #54575c;\n",
        "            }\n",
        "\n",
        "            #chat .chat__conversation-panel .emoji-button {\n",
        "                min-width: 23px;\n",
        "                width: 23px;\n",
        "                height: 23px;\n",
        "                background: transparent;\n",
        "                border-radius: 50%;\n",
        "            }\n",
        "\n",
        "            #chat .chat__conversation-panel .emoji-button svg {\n",
        "                width: 100%;\n",
        "                fill: transparent;\n",
        "                stroke: #54575c;\n",
        "            }\n",
        "\n",
        "            #chat .chat__conversation-panel .send-message-button {\n",
        "                background: var(--chat-send-button-background);\n",
        "                height: 30px;\n",
        "                min-width: 30px;\n",
        "                border-radius: 50%;\n",
        "                transition: .3s ease;\n",
        "            }\n",
        "\n",
        "            #chat .chat__conversation-panel .send-message-button:active {\n",
        "                transform: scale(0.97);\n",
        "            }\n",
        "\n",
        "            #chat .chat__conversation-panel .send-message-button svg {\n",
        "                margin: 1px -1px;\n",
        "            }\n",
        "\n",
        "            #chat .chat__conversation-panel__input {\n",
        "                width: 100%;\n",
        "                height: 100%;\n",
        "                outline: none;\n",
        "                position: relative;\n",
        "                color: var(--chat-text-color);\n",
        "                font-size: 13px;\n",
        "                background: transparent;\n",
        "                border: 0;\n",
        "                font-family: 'Lato', sans-serif;\n",
        "                resize: none;\n",
        "            }\n",
        "\n",
        "            @media only screen and (max-width: 600px) {\n",
        "                #chat {\n",
        "                    margin: 0;\n",
        "                    border-radius: 0;\n",
        "                }\n",
        "\n",
        "                #chat .chat__conversation-board {\n",
        "                    height: calc(100vh - 55px - 2em - .5em - 3em);\n",
        "                }\n",
        "\n",
        "                #chat .chat__conversation-board__message__options {\n",
        "                    display: none !important;\n",
        "                }\n",
        "            }\n",
        "        </style>\n",
        "    </head>\n",
        "    <body>\n",
        "        <div class=\"--dark-theme\" id=\"chat\">\n",
        "            <div class=\"chat__conversation-board\" id=\"chatBoard\"></div>\n",
        "            <div class=\"chat__conversation-panel\">\n",
        "                <div class=\"chat__conversation-panel__container\">\n",
        "                    <input class=\"chat__conversation-panel__input panel-item\" id=\"messageInput\" placeholder=\"Type a message...\"/>\n",
        "                    <button class=\"chat__conversation-panel__button panel-item btn-icon send-message-button\" id=\"sendButton\">\n",
        "                        <svg xmlns=\"http://www.w3.org/2000/svg\" width=\"24\" height=\"24\" viewBox=\"0 0 24 24\" fill=\"none\" stroke=\"currentColor\" stroke-width=\"2\" stroke-linecap=\"round\" stroke-linejoin=\"round\">\n",
        "                            <line x1=\"22\" y1=\"2\" x2=\"11\" y2=\"13\"></line>\n",
        "                            <polygon points=\"22 2 15 22 11 13 2 9 22 2\"></polygon>\n",
        "                        </svg>\n",
        "                    </button>\n",
        "                </div>\n",
        "            </div>\n",
        "        </div>\n",
        "        <script>\n",
        "            document.addEventListener(\"DOMContentLoaded\", () => {\n",
        "                const messageInput = document.getElementById(\"messageInput\");\n",
        "                const sendButton = document.getElementById(\"sendButton\");\n",
        "                const chatBoard = document.getElementById(\"chatBoard\");\n",
        "\n",
        "                // Load chat history from localStorage\n",
        "                const chatHistory = JSON.parse(localStorage.getItem(\"chatHistory\")) || [];\n",
        "                chatHistory.forEach(({ user, assistant }) => addMessageToBoard(user, assistant));\n",
        "\n",
        "                // Add loading animation while awaiting response\n",
        "                function addLoadingAnimation() {\n",
        "                    const loadingElem = document.createElement(\"div\");\n",
        "                    loadingElem.classList.add(\"chat__conversation-board__message-container\", \"loading\");\n",
        "                    loadingElem.innerHTML = `\n",
        "                        <div class=\"chat__conversation-board__message__bubble\">\n",
        "                            <span>Typing...</span>\n",
        "                        </div>\n",
        "                    `;\n",
        "                    chatBoard.appendChild(loadingElem);\n",
        "                    chatBoard.scrollTop = chatBoard.scrollHeight;\n",
        "                    return loadingElem;\n",
        "                }\n",
        "\n",
        "                // Add message to chat board\n",
        "                function addMessageToBoard(userMessage, assistantMessage) {\n",
        "                    const userElem = document.createElement(\"div\");\n",
        "                    userElem.classList.add(\"chat__conversation-board__message-container\", \"reversed\");\n",
        "                    userElem.innerHTML = `\n",
        "                        <div class=\"chat__conversation-board__message__context\">\n",
        "                            <div class=\"chat__conversation-board__message__bubble\">\n",
        "                                <span>${userMessage}</span>\n",
        "                            </div>\n",
        "                        </div>\n",
        "                    `;\n",
        "                    chatBoard.appendChild(userElem);\n",
        "\n",
        "                    if (assistantMessage) {\n",
        "                        const assistantElem = document.createElement(\"div\");\n",
        "                        assistantElem.classList.add(\"chat__conversation-board__message-container\");\n",
        "                        assistantElem.innerHTML = `\n",
        "                            <div class=\"chat__conversation-board__message__context\">\n",
        "                                <div class=\"chat__conversation-board__message__bubble\">\n",
        "                                    <span>${assistantMessage}</span>\n",
        "                                </div>\n",
        "                            </div>\n",
        "                        `;\n",
        "                        chatBoard.appendChild(assistantElem);\n",
        "                    }\n",
        "                    chatBoard.scrollTop = chatBoard.scrollHeight;\n",
        "                }\n",
        "\n",
        "                // Send message to bot and get response\n",
        "                async function sendMessage() {\n",
        "                    const userMessage = messageInput.value.trim();\n",
        "                    if (!userMessage) return;\n",
        "\n",
        "                    // Display user message and clear input\n",
        "                    addMessageToBoard(userMessage, null);\n",
        "                    messageInput.value = \"\";\n",
        "\n",
        "                    // Show loading animation\n",
        "                    const loadingElem = addLoadingAnimation();\n",
        "\n",
        "                    // Send request to server\n",
        "                    try {\n",
        "                        const response = await fetch(\"/chat\", {\n",
        "                            method: \"POST\",\n",
        "                            headers: { \"Content-Type\": \"application/json\" },\n",
        "                            body: JSON.stringify({ instruction: \"\", question: userMessage })\n",
        "                        });\n",
        "                        const data = await response.json();\n",
        "\n",
        "                        // Remove loading animation\n",
        "                        loadingElem.remove();\n",
        "\n",
        "                        // Display assistant's response\n",
        "                        addMessageToBoard(null, data.response);\n",
        "\n",
        "                        // Save to chat history\n",
        "                        chatHistory.push({ user: userMessage, assistant: data.response });\n",
        "                        localStorage.setItem(\"chatHistory\", JSON.stringify(chatHistory));\n",
        "                    } catch (error) {\n",
        "                        console.error(\"Error sending message:\", error);\n",
        "                    }\n",
        "                }\n",
        "\n",
        "                // Event listener for sending message\n",
        "                sendButton.addEventListener(\"click\", sendMessage);\n",
        "                messageInput.addEventListener(\"keydown\", (e) => {\n",
        "                    if (e.key === \"Enter\") sendMessage();\n",
        "                });\n",
        "            });\n",
        "        </script>\n",
        "    </body>\n",
        "    </html>\n",
        "    \"\"\"\n",
        "    return HTMLResponse(content=html_content)\n",
        "\n",
        "if __name__ == \"__main__\":\n",
        "    uvicorn.run(app, host=\"0.0.0.0\", port=8000)\n"
      ]
    },
    {
      "cell_type": "markdown",
      "source": [
        "### 12.2 Getting server IP address"
      ],
      "metadata": {
        "id": "SUq9xnUe-bUV"
      }
    },
    {
      "cell_type": "code",
      "execution_count": null,
      "metadata": {
        "colab": {
          "base_uri": "https://localhost:8080/"
        },
        "id": "cTEm6gAxD8qr",
        "outputId": "6c5da6fc-841c-49f0-f3d7-42f46de9e27b"
      },
      "outputs": [
        {
          "name": "stdout",
          "output_type": "stream",
          "text": [
            "{\n",
            "  \"ip\": \"34.16.221.9\",\n",
            "  \"hostname\": \"9.221.16.34.bc.googleusercontent.com\",\n",
            "  \"city\": \"Las Vegas\",\n",
            "  \"region\": \"Nevada\",\n",
            "  \"country\": \"US\",\n",
            "  \"loc\": \"36.1750,-115.1372\",\n",
            "  \"org\": \"AS396982 Google LLC\",\n",
            "  \"postal\": \"89111\",\n",
            "  \"timezone\": \"America/Los_Angeles\",\n",
            "  \"readme\": \"https://ipinfo.io/missingauth\"\n",
            "}"
          ]
        }
      ],
      "source": [
        "!curl ipinfo.io"
      ]
    },
    {
      "cell_type": "markdown",
      "source": [
        "### 12.3 Running FastAPI Application"
      ],
      "metadata": {
        "id": "E-EtwKc_-jmV"
      }
    },
    {
      "cell_type": "code",
      "execution_count": null,
      "metadata": {
        "colab": {
          "background_save": true,
          "base_uri": "https://localhost:8080/"
        },
        "id": "ISGnKNRz_n3C",
        "outputId": "c48af703-3719-4447-f76c-de5215be3eb0"
      },
      "outputs": [
        {
          "name": "stdout",
          "output_type": "stream",
          "text": [
            "2024-11-02 22:07:38.225539: E external/local_xla/xla/stream_executor/cuda/cuda_fft.cc:477] Unable to register cuFFT factory: Attempting to register factory for plugin cuFFT when one has already been registered\n",
            "WARNING: All log messages before absl::InitializeLog() is called are written to STDERR\n",
            "E0000 00:00:1730585258.246021    8390 cuda_dnn.cc:8310] Unable to register cuDNN factory: Attempting to register factory for plugin cuDNN when one has already been registered\n",
            "E0000 00:00:1730585258.252149    8390 cuda_blas.cc:1418] Unable to register cuBLAS factory: Attempting to register factory for plugin cuBLAS when one has already been registered\n",
            "2024-11-02 22:07:42.586807: E external/local_xla/xla/stream_executor/cuda/cuda_driver.cc:152] failed call to cuInit: INTERNAL: CUDA error: Failed call to cuInit: CUDA_ERROR_NO_DEVICE: no CUDA-capable device is detected\n",
            "normalizer.cc(51) LOG(INFO) precompiled_charsmap is empty. use identity normalization.\n",
            "\u001b[32mINFO\u001b[0m:     Started server process [\u001b[36m8390\u001b[0m]\n",
            "\u001b[32mINFO\u001b[0m:     Waiting for application startup.\n",
            "\u001b[32mINFO\u001b[0m:     Application startup complete.\n",
            "\u001b[32mINFO\u001b[0m:     Uvicorn running on \u001b[1mhttp://0.0.0.0:8000\u001b[0m (Press CTRL+C to quit)\n"
          ]
        }
      ],
      "source": [
        "!uvicorn main:app --host 0.0.0.0 --port 8000 &\n",
        "\n",
        "# Use LocalTunnel to expose the FastAPI app\n",
        "!lt --port 8000"
      ]
    },
    {
      "cell_type": "markdown",
      "source": [
        "# 13. Conclusion"
      ],
      "metadata": {
        "id": "VOGRdZgm-r3c"
      }
    },
    {
      "cell_type": "markdown",
      "source": [
        "### 13.1 Summary of Fine-Tuning Process"
      ],
      "metadata": {
        "id": "6KQ4r80W-uih"
      }
    },
    {
      "cell_type": "code",
      "source": [],
      "metadata": {
        "id": "2cEff5Br-s2R"
      },
      "execution_count": null,
      "outputs": []
    }
  ],
  "metadata": {
    "accelerator": "GPU",
    "colab": {
      "gpuType": "L4",
      "machine_shape": "hm",
      "provenance": [],
      "include_colab_link": true
    },
    "kaggle": {
      "accelerator": "gpu",
      "dataSources": [
        {
          "datasetId": 3766406,
          "sourceId": 6751022,
          "sourceType": "datasetVersion"
        },
        {
          "modelId": 78150,
          "modelInstanceId": 72244,
          "sourceId": 85984,
          "sourceType": "modelInstanceVersion"
        }
      ],
      "dockerImageVersionId": 30786,
      "isGpuEnabled": true,
      "isInternetEnabled": true,
      "language": "python",
      "sourceType": "notebook"
    },
    "kernelspec": {
      "display_name": "Python 3",
      "name": "python3"
    },
    "language_info": {
      "codemirror_mode": {
        "name": "ipython",
        "version": 3
      },
      "file_extension": ".py",
      "mimetype": "text/x-python",
      "name": "python",
      "nbconvert_exporter": "python",
      "pygments_lexer": "ipython3",
      "version": "3.10.14"
    },
    "widgets": {
      "application/vnd.jupyter.widget-state+json": {
        "01033d26caad4d3482e789b09c9ae724": {
          "model_module": "@jupyter-widgets/base",
          "model_module_version": "1.2.0",
          "model_name": "LayoutModel",
          "state": {
            "_model_module": "@jupyter-widgets/base",
            "_model_module_version": "1.2.0",
            "_model_name": "LayoutModel",
            "_view_count": null,
            "_view_module": "@jupyter-widgets/base",
            "_view_module_version": "1.2.0",
            "_view_name": "LayoutView",
            "align_content": null,
            "align_items": null,
            "align_self": null,
            "border": null,
            "bottom": null,
            "display": null,
            "flex": null,
            "flex_flow": null,
            "grid_area": null,
            "grid_auto_columns": null,
            "grid_auto_flow": null,
            "grid_auto_rows": null,
            "grid_column": null,
            "grid_gap": null,
            "grid_row": null,
            "grid_template_areas": null,
            "grid_template_columns": null,
            "grid_template_rows": null,
            "height": null,
            "justify_content": null,
            "justify_items": null,
            "left": null,
            "margin": null,
            "max_height": null,
            "max_width": null,
            "min_height": null,
            "min_width": null,
            "object_fit": null,
            "object_position": null,
            "order": null,
            "overflow": null,
            "overflow_x": null,
            "overflow_y": null,
            "padding": null,
            "right": null,
            "top": null,
            "visibility": null,
            "width": null
          }
        },
        "04831c17a8e64e0a8f7698d08a9e1a22": {
          "model_module": "@jupyter-widgets/controls",
          "model_module_version": "1.5.0",
          "model_name": "DescriptionStyleModel",
          "state": {
            "_model_module": "@jupyter-widgets/controls",
            "_model_module_version": "1.5.0",
            "_model_name": "DescriptionStyleModel",
            "_view_count": null,
            "_view_module": "@jupyter-widgets/base",
            "_view_module_version": "1.2.0",
            "_view_name": "StyleView",
            "description_width": ""
          }
        },
        "04d94f50b29f4ccc993a7c443e51a885": {
          "model_module": "@jupyter-widgets/controls",
          "model_module_version": "1.5.0",
          "model_name": "ButtonModel",
          "state": {
            "_dom_classes": [],
            "_model_module": "@jupyter-widgets/controls",
            "_model_module_version": "1.5.0",
            "_model_name": "ButtonModel",
            "_view_count": null,
            "_view_module": "@jupyter-widgets/controls",
            "_view_module_version": "1.5.0",
            "_view_name": "ButtonView",
            "button_style": "",
            "description": "Login",
            "disabled": false,
            "icon": "",
            "layout": "IPY_MODEL_9c9ec19b48f344cb9e1dbf9b38723fb2",
            "style": "IPY_MODEL_1c30926334b54bf59c8daceecb008f85",
            "tooltip": ""
          }
        },
        "06134137cab645c68665ca9e57013bf5": {
          "model_module": "@jupyter-widgets/controls",
          "model_module_version": "1.5.0",
          "model_name": "HTMLModel",
          "state": {
            "_dom_classes": [],
            "_model_module": "@jupyter-widgets/controls",
            "_model_module_version": "1.5.0",
            "_model_name": "HTMLModel",
            "_view_count": null,
            "_view_module": "@jupyter-widgets/controls",
            "_view_module_version": "1.5.0",
            "_view_name": "HTMLView",
            "description": "",
            "description_tooltip": null,
            "layout": "IPY_MODEL_179616c17a7242c5b31e1e3cbb9ee527",
            "placeholder": "​",
            "style": "IPY_MODEL_ff59dc9b9cd243e98a1d57202cb5e9a4",
            "value": " 4.99G/4.99G [01:58&lt;00:00, 42.4MB/s]"
          }
        },
        "073825fa90a9475db55bce3cc786ba37": {
          "model_module": "@jupyter-widgets/controls",
          "model_module_version": "1.5.0",
          "model_name": "ProgressStyleModel",
          "state": {
            "_model_module": "@jupyter-widgets/controls",
            "_model_module_version": "1.5.0",
            "_model_name": "ProgressStyleModel",
            "_view_count": null,
            "_view_module": "@jupyter-widgets/base",
            "_view_module_version": "1.2.0",
            "_view_name": "StyleView",
            "bar_color": null,
            "description_width": ""
          }
        },
        "08d5446abb7149199d176143d337147f": {
          "model_module": "@jupyter-widgets/base",
          "model_module_version": "1.2.0",
          "model_name": "LayoutModel",
          "state": {
            "_model_module": "@jupyter-widgets/base",
            "_model_module_version": "1.2.0",
            "_model_name": "LayoutModel",
            "_view_count": null,
            "_view_module": "@jupyter-widgets/base",
            "_view_module_version": "1.2.0",
            "_view_name": "LayoutView",
            "align_content": null,
            "align_items": null,
            "align_self": null,
            "border": null,
            "bottom": null,
            "display": null,
            "flex": null,
            "flex_flow": null,
            "grid_area": null,
            "grid_auto_columns": null,
            "grid_auto_flow": null,
            "grid_auto_rows": null,
            "grid_column": null,
            "grid_gap": null,
            "grid_row": null,
            "grid_template_areas": null,
            "grid_template_columns": null,
            "grid_template_rows": null,
            "height": null,
            "justify_content": null,
            "justify_items": null,
            "left": null,
            "margin": null,
            "max_height": null,
            "max_width": null,
            "min_height": null,
            "min_width": null,
            "object_fit": null,
            "object_position": null,
            "order": null,
            "overflow": null,
            "overflow_x": null,
            "overflow_y": null,
            "padding": null,
            "right": null,
            "top": null,
            "visibility": null,
            "width": null
          }
        },
        "1066a83bbe6c4a49a11cf6d32075b310": {
          "model_module": "@jupyter-widgets/base",
          "model_module_version": "1.2.0",
          "model_name": "LayoutModel",
          "state": {
            "_model_module": "@jupyter-widgets/base",
            "_model_module_version": "1.2.0",
            "_model_name": "LayoutModel",
            "_view_count": null,
            "_view_module": "@jupyter-widgets/base",
            "_view_module_version": "1.2.0",
            "_view_name": "LayoutView",
            "align_content": null,
            "align_items": null,
            "align_self": null,
            "border": null,
            "bottom": null,
            "display": null,
            "flex": null,
            "flex_flow": null,
            "grid_area": null,
            "grid_auto_columns": null,
            "grid_auto_flow": null,
            "grid_auto_rows": null,
            "grid_column": null,
            "grid_gap": null,
            "grid_row": null,
            "grid_template_areas": null,
            "grid_template_columns": null,
            "grid_template_rows": null,
            "height": null,
            "justify_content": null,
            "justify_items": null,
            "left": null,
            "margin": null,
            "max_height": null,
            "max_width": null,
            "min_height": null,
            "min_width": null,
            "object_fit": null,
            "object_position": null,
            "order": null,
            "overflow": null,
            "overflow_x": null,
            "overflow_y": null,
            "padding": null,
            "right": null,
            "top": null,
            "visibility": null,
            "width": null
          }
        },
        "1139703b2a21436b8a4b66396ed46280": {
          "model_module": "@jupyter-widgets/controls",
          "model_module_version": "1.5.0",
          "model_name": "HTMLModel",
          "state": {
            "_dom_classes": [],
            "_model_module": "@jupyter-widgets/controls",
            "_model_module_version": "1.5.0",
            "_model_name": "HTMLModel",
            "_view_count": null,
            "_view_module": "@jupyter-widgets/controls",
            "_view_module_version": "1.5.0",
            "_view_name": "HTMLView",
            "description": "",
            "description_tooltip": null,
            "layout": "IPY_MODEL_91221e2a1282447093c235f5aced87cb",
            "placeholder": "​",
            "style": "IPY_MODEL_a58bd1b173374be3b25433615257e3b0",
            "value": " 4.24M/4.24M [00:00&lt;00:00, 30.2MB/s]"
          }
        },
        "1646c0d420d948a99e8427afbd2c47ea": {
          "model_module": "@jupyter-widgets/base",
          "model_module_version": "1.2.0",
          "model_name": "LayoutModel",
          "state": {
            "_model_module": "@jupyter-widgets/base",
            "_model_module_version": "1.2.0",
            "_model_name": "LayoutModel",
            "_view_count": null,
            "_view_module": "@jupyter-widgets/base",
            "_view_module_version": "1.2.0",
            "_view_name": "LayoutView",
            "align_content": null,
            "align_items": null,
            "align_self": null,
            "border": null,
            "bottom": null,
            "display": null,
            "flex": null,
            "flex_flow": null,
            "grid_area": null,
            "grid_auto_columns": null,
            "grid_auto_flow": null,
            "grid_auto_rows": null,
            "grid_column": null,
            "grid_gap": null,
            "grid_row": null,
            "grid_template_areas": null,
            "grid_template_columns": null,
            "grid_template_rows": null,
            "height": null,
            "justify_content": null,
            "justify_items": null,
            "left": null,
            "margin": null,
            "max_height": null,
            "max_width": null,
            "min_height": null,
            "min_width": null,
            "object_fit": null,
            "object_position": null,
            "order": null,
            "overflow": null,
            "overflow_x": null,
            "overflow_y": null,
            "padding": null,
            "right": null,
            "top": null,
            "visibility": null,
            "width": null
          }
        },
        "1670a12f80e643f1a2980b9db0186701": {
          "model_module": "@jupyter-widgets/controls",
          "model_module_version": "1.5.0",
          "model_name": "DescriptionStyleModel",
          "state": {
            "_model_module": "@jupyter-widgets/controls",
            "_model_module_version": "1.5.0",
            "_model_name": "DescriptionStyleModel",
            "_view_count": null,
            "_view_module": "@jupyter-widgets/base",
            "_view_module_version": "1.2.0",
            "_view_name": "StyleView",
            "description_width": ""
          }
        },
        "16f4f659ad1e4dedb3473f4899b8f21a": {
          "model_module": "@jupyter-widgets/base",
          "model_module_version": "1.2.0",
          "model_name": "LayoutModel",
          "state": {
            "_model_module": "@jupyter-widgets/base",
            "_model_module_version": "1.2.0",
            "_model_name": "LayoutModel",
            "_view_count": null,
            "_view_module": "@jupyter-widgets/base",
            "_view_module_version": "1.2.0",
            "_view_name": "LayoutView",
            "align_content": null,
            "align_items": "center",
            "align_self": null,
            "border": null,
            "bottom": null,
            "display": "flex",
            "flex": null,
            "flex_flow": "column",
            "grid_area": null,
            "grid_auto_columns": null,
            "grid_auto_flow": null,
            "grid_auto_rows": null,
            "grid_column": null,
            "grid_gap": null,
            "grid_row": null,
            "grid_template_areas": null,
            "grid_template_columns": null,
            "grid_template_rows": null,
            "height": null,
            "justify_content": null,
            "justify_items": null,
            "left": null,
            "margin": null,
            "max_height": null,
            "max_width": null,
            "min_height": null,
            "min_width": null,
            "object_fit": null,
            "object_position": null,
            "order": null,
            "overflow": null,
            "overflow_x": null,
            "overflow_y": null,
            "padding": null,
            "right": null,
            "top": null,
            "visibility": null,
            "width": "50%"
          }
        },
        "179616c17a7242c5b31e1e3cbb9ee527": {
          "model_module": "@jupyter-widgets/base",
          "model_module_version": "1.2.0",
          "model_name": "LayoutModel",
          "state": {
            "_model_module": "@jupyter-widgets/base",
            "_model_module_version": "1.2.0",
            "_model_name": "LayoutModel",
            "_view_count": null,
            "_view_module": "@jupyter-widgets/base",
            "_view_module_version": "1.2.0",
            "_view_name": "LayoutView",
            "align_content": null,
            "align_items": null,
            "align_self": null,
            "border": null,
            "bottom": null,
            "display": null,
            "flex": null,
            "flex_flow": null,
            "grid_area": null,
            "grid_auto_columns": null,
            "grid_auto_flow": null,
            "grid_auto_rows": null,
            "grid_column": null,
            "grid_gap": null,
            "grid_row": null,
            "grid_template_areas": null,
            "grid_template_columns": null,
            "grid_template_rows": null,
            "height": null,
            "justify_content": null,
            "justify_items": null,
            "left": null,
            "margin": null,
            "max_height": null,
            "max_width": null,
            "min_height": null,
            "min_width": null,
            "object_fit": null,
            "object_position": null,
            "order": null,
            "overflow": null,
            "overflow_x": null,
            "overflow_y": null,
            "padding": null,
            "right": null,
            "top": null,
            "visibility": null,
            "width": null
          }
        },
        "197595af15f2491fbba5c212fb06c6e1": {
          "model_module": "@jupyter-widgets/base",
          "model_module_version": "1.2.0",
          "model_name": "LayoutModel",
          "state": {
            "_model_module": "@jupyter-widgets/base",
            "_model_module_version": "1.2.0",
            "_model_name": "LayoutModel",
            "_view_count": null,
            "_view_module": "@jupyter-widgets/base",
            "_view_module_version": "1.2.0",
            "_view_name": "LayoutView",
            "align_content": null,
            "align_items": null,
            "align_self": null,
            "border": null,
            "bottom": null,
            "display": null,
            "flex": null,
            "flex_flow": null,
            "grid_area": null,
            "grid_auto_columns": null,
            "grid_auto_flow": null,
            "grid_auto_rows": null,
            "grid_column": null,
            "grid_gap": null,
            "grid_row": null,
            "grid_template_areas": null,
            "grid_template_columns": null,
            "grid_template_rows": null,
            "height": null,
            "justify_content": null,
            "justify_items": null,
            "left": null,
            "margin": null,
            "max_height": null,
            "max_width": null,
            "min_height": null,
            "min_width": null,
            "object_fit": null,
            "object_position": null,
            "order": null,
            "overflow": null,
            "overflow_x": null,
            "overflow_y": null,
            "padding": null,
            "right": null,
            "top": null,
            "visibility": null,
            "width": null
          }
        },
        "1c30926334b54bf59c8daceecb008f85": {
          "model_module": "@jupyter-widgets/controls",
          "model_module_version": "1.5.0",
          "model_name": "ButtonStyleModel",
          "state": {
            "_model_module": "@jupyter-widgets/controls",
            "_model_module_version": "1.5.0",
            "_model_name": "ButtonStyleModel",
            "_view_count": null,
            "_view_module": "@jupyter-widgets/base",
            "_view_module_version": "1.2.0",
            "_view_name": "StyleView",
            "button_color": null,
            "font_weight": ""
          }
        },
        "1f7d86dcd6294693a56b2d98a721db45": {
          "model_module": "@jupyter-widgets/base",
          "model_module_version": "1.2.0",
          "model_name": "LayoutModel",
          "state": {
            "_model_module": "@jupyter-widgets/base",
            "_model_module_version": "1.2.0",
            "_model_name": "LayoutModel",
            "_view_count": null,
            "_view_module": "@jupyter-widgets/base",
            "_view_module_version": "1.2.0",
            "_view_name": "LayoutView",
            "align_content": null,
            "align_items": null,
            "align_self": null,
            "border": null,
            "bottom": null,
            "display": null,
            "flex": null,
            "flex_flow": null,
            "grid_area": null,
            "grid_auto_columns": null,
            "grid_auto_flow": null,
            "grid_auto_rows": null,
            "grid_column": null,
            "grid_gap": null,
            "grid_row": null,
            "grid_template_areas": null,
            "grid_template_columns": null,
            "grid_template_rows": null,
            "height": null,
            "justify_content": null,
            "justify_items": null,
            "left": null,
            "margin": null,
            "max_height": null,
            "max_width": null,
            "min_height": null,
            "min_width": null,
            "object_fit": null,
            "object_position": null,
            "order": null,
            "overflow": null,
            "overflow_x": null,
            "overflow_y": null,
            "padding": null,
            "right": null,
            "top": null,
            "visibility": null,
            "width": null
          }
        },
        "1fdfc258a7634d9b8b69718e0f1eeac4": {
          "model_module": "@jupyter-widgets/controls",
          "model_module_version": "1.5.0",
          "model_name": "PasswordModel",
          "state": {
            "_dom_classes": [],
            "_model_module": "@jupyter-widgets/controls",
            "_model_module_version": "1.5.0",
            "_model_name": "PasswordModel",
            "_view_count": null,
            "_view_module": "@jupyter-widgets/controls",
            "_view_module_version": "1.5.0",
            "_view_name": "PasswordView",
            "continuous_update": true,
            "description": "Token:",
            "description_tooltip": null,
            "disabled": false,
            "layout": "IPY_MODEL_e57cb6e3403f453ea76cfa01c2adcd2a",
            "placeholder": "​",
            "style": "IPY_MODEL_f223e588f6f448119a2440e11a263d23",
            "value": ""
          }
        },
        "228edb6c9c2f4e06a64c60c0289715d3": {
          "model_module": "@jupyter-widgets/controls",
          "model_module_version": "1.5.0",
          "model_name": "VBoxModel",
          "state": {
            "_dom_classes": [],
            "_model_module": "@jupyter-widgets/controls",
            "_model_module_version": "1.5.0",
            "_model_name": "VBoxModel",
            "_view_count": null,
            "_view_module": "@jupyter-widgets/controls",
            "_view_module_version": "1.5.0",
            "_view_name": "VBoxView",
            "box_style": "",
            "children": [
              "IPY_MODEL_d2c5d920b6c5421bb66beb0856cb7930",
              "IPY_MODEL_5dffb677d49f4a4b8d3bc3b2b3a263b1",
              "IPY_MODEL_1fdfc258a7634d9b8b69718e0f1eeac4",
              "IPY_MODEL_04d94f50b29f4ccc993a7c443e51a885",
              "IPY_MODEL_a6bc04bd740440e79aa98cdddb7e49a5"
            ],
            "layout": "IPY_MODEL_16f4f659ad1e4dedb3473f4899b8f21a"
          }
        },
        "2dbee6ec251a43aa8d09806ae26de7e9": {
          "model_module": "@jupyter-widgets/base",
          "model_module_version": "1.2.0",
          "model_name": "LayoutModel",
          "state": {
            "_model_module": "@jupyter-widgets/base",
            "_model_module_version": "1.2.0",
            "_model_name": "LayoutModel",
            "_view_count": null,
            "_view_module": "@jupyter-widgets/base",
            "_view_module_version": "1.2.0",
            "_view_name": "LayoutView",
            "align_content": null,
            "align_items": null,
            "align_self": null,
            "border": null,
            "bottom": null,
            "display": null,
            "flex": null,
            "flex_flow": null,
            "grid_area": null,
            "grid_auto_columns": null,
            "grid_auto_flow": null,
            "grid_auto_rows": null,
            "grid_column": null,
            "grid_gap": null,
            "grid_row": null,
            "grid_template_areas": null,
            "grid_template_columns": null,
            "grid_template_rows": null,
            "height": null,
            "justify_content": null,
            "justify_items": null,
            "left": null,
            "margin": null,
            "max_height": null,
            "max_width": null,
            "min_height": null,
            "min_width": null,
            "object_fit": null,
            "object_position": null,
            "order": null,
            "overflow": null,
            "overflow_x": null,
            "overflow_y": null,
            "padding": null,
            "right": null,
            "top": null,
            "visibility": null,
            "width": null
          }
        },
        "30496ea2c62c4a8289d13885d9ed0739": {
          "model_module": "@jupyter-widgets/controls",
          "model_module_version": "1.5.0",
          "model_name": "HBoxModel",
          "state": {
            "_dom_classes": [],
            "_model_module": "@jupyter-widgets/controls",
            "_model_module_version": "1.5.0",
            "_model_name": "HBoxModel",
            "_view_count": null,
            "_view_module": "@jupyter-widgets/controls",
            "_view_module_version": "1.5.0",
            "_view_name": "HBoxView",
            "box_style": "",
            "children": [
              "IPY_MODEL_5360735197404e67a311b11d17b8c98e",
              "IPY_MODEL_99ea0e9400a74a77861fda130b100332",
              "IPY_MODEL_bb6051c95bfb4df19714a1678c1b3a51"
            ],
            "layout": "IPY_MODEL_3f691695134540f09bf5956a8ed57951"
          }
        },
        "30ed5c8fd451461f92a6d31c0b9e56e2": {
          "model_module": "@jupyter-widgets/base",
          "model_module_version": "1.2.0",
          "model_name": "LayoutModel",
          "state": {
            "_model_module": "@jupyter-widgets/base",
            "_model_module_version": "1.2.0",
            "_model_name": "LayoutModel",
            "_view_count": null,
            "_view_module": "@jupyter-widgets/base",
            "_view_module_version": "1.2.0",
            "_view_name": "LayoutView",
            "align_content": null,
            "align_items": null,
            "align_self": null,
            "border": null,
            "bottom": null,
            "display": null,
            "flex": null,
            "flex_flow": null,
            "grid_area": null,
            "grid_auto_columns": null,
            "grid_auto_flow": null,
            "grid_auto_rows": null,
            "grid_column": null,
            "grid_gap": null,
            "grid_row": null,
            "grid_template_areas": null,
            "grid_template_columns": null,
            "grid_template_rows": null,
            "height": null,
            "justify_content": null,
            "justify_items": null,
            "left": null,
            "margin": null,
            "max_height": null,
            "max_width": null,
            "min_height": null,
            "min_width": null,
            "object_fit": null,
            "object_position": null,
            "order": null,
            "overflow": null,
            "overflow_x": null,
            "overflow_y": null,
            "padding": null,
            "right": null,
            "top": null,
            "visibility": null,
            "width": null
          }
        },
        "310723c029514a5485e70d5ef940bf19": {
          "model_module": "@jupyter-widgets/base",
          "model_module_version": "1.2.0",
          "model_name": "LayoutModel",
          "state": {
            "_model_module": "@jupyter-widgets/base",
            "_model_module_version": "1.2.0",
            "_model_name": "LayoutModel",
            "_view_count": null,
            "_view_module": "@jupyter-widgets/base",
            "_view_module_version": "1.2.0",
            "_view_name": "LayoutView",
            "align_content": null,
            "align_items": null,
            "align_self": null,
            "border": null,
            "bottom": null,
            "display": null,
            "flex": null,
            "flex_flow": null,
            "grid_area": null,
            "grid_auto_columns": null,
            "grid_auto_flow": null,
            "grid_auto_rows": null,
            "grid_column": null,
            "grid_gap": null,
            "grid_row": null,
            "grid_template_areas": null,
            "grid_template_columns": null,
            "grid_template_rows": null,
            "height": null,
            "justify_content": null,
            "justify_items": null,
            "left": null,
            "margin": null,
            "max_height": null,
            "max_width": null,
            "min_height": null,
            "min_width": null,
            "object_fit": null,
            "object_position": null,
            "order": null,
            "overflow": null,
            "overflow_x": null,
            "overflow_y": null,
            "padding": null,
            "right": null,
            "top": null,
            "visibility": null,
            "width": null
          }
        },
        "3a9f192b89db45a78b961f7cdf68a7ed": {
          "model_module": "@jupyter-widgets/controls",
          "model_module_version": "1.5.0",
          "model_name": "FloatProgressModel",
          "state": {
            "_dom_classes": [],
            "_model_module": "@jupyter-widgets/controls",
            "_model_module_version": "1.5.0",
            "_model_name": "FloatProgressModel",
            "_view_count": null,
            "_view_module": "@jupyter-widgets/controls",
            "_view_module_version": "1.5.0",
            "_view_name": "ProgressView",
            "bar_style": "success",
            "description": "",
            "description_tooltip": null,
            "layout": "IPY_MODEL_7872242f4ea045eb9d4337503a8e1a88",
            "max": 481381384,
            "min": 0,
            "orientation": "horizontal",
            "style": "IPY_MODEL_6f6571bd61014c619527d53e2b5c1dfe",
            "value": 481381384
          }
        },
        "3b0c1d98ede441abaa199502edea9e87": {
          "model_module": "@jupyter-widgets/controls",
          "model_module_version": "1.5.0",
          "model_name": "HBoxModel",
          "state": {
            "_dom_classes": [],
            "_model_module": "@jupyter-widgets/controls",
            "_model_module_version": "1.5.0",
            "_model_name": "HBoxModel",
            "_view_count": null,
            "_view_module": "@jupyter-widgets/controls",
            "_view_module_version": "1.5.0",
            "_view_name": "HBoxView",
            "box_style": "",
            "children": [
              "IPY_MODEL_c903a47a791e4b7182c5098170cf8ed4",
              "IPY_MODEL_4f3e196632e8430bae65a035a8d7410d",
              "IPY_MODEL_9afd258337c749149610d5d874543b1c"
            ],
            "layout": "IPY_MODEL_dfac48a5374f4634b547a1a458ba11e2"
          }
        },
        "3f691695134540f09bf5956a8ed57951": {
          "model_module": "@jupyter-widgets/base",
          "model_module_version": "1.2.0",
          "model_name": "LayoutModel",
          "state": {
            "_model_module": "@jupyter-widgets/base",
            "_model_module_version": "1.2.0",
            "_model_name": "LayoutModel",
            "_view_count": null,
            "_view_module": "@jupyter-widgets/base",
            "_view_module_version": "1.2.0",
            "_view_name": "LayoutView",
            "align_content": null,
            "align_items": null,
            "align_self": null,
            "border": null,
            "bottom": null,
            "display": null,
            "flex": null,
            "flex_flow": null,
            "grid_area": null,
            "grid_auto_columns": null,
            "grid_auto_flow": null,
            "grid_auto_rows": null,
            "grid_column": null,
            "grid_gap": null,
            "grid_row": null,
            "grid_template_areas": null,
            "grid_template_columns": null,
            "grid_template_rows": null,
            "height": null,
            "justify_content": null,
            "justify_items": null,
            "left": null,
            "margin": null,
            "max_height": null,
            "max_width": null,
            "min_height": null,
            "min_width": null,
            "object_fit": null,
            "object_position": null,
            "order": null,
            "overflow": null,
            "overflow_x": null,
            "overflow_y": null,
            "padding": null,
            "right": null,
            "top": null,
            "visibility": null,
            "width": null
          }
        },
        "430e9fa7e2444abb976103f1ad2ee64f": {
          "model_module": "@jupyter-widgets/controls",
          "model_module_version": "1.5.0",
          "model_name": "DescriptionStyleModel",
          "state": {
            "_model_module": "@jupyter-widgets/controls",
            "_model_module_version": "1.5.0",
            "_model_name": "DescriptionStyleModel",
            "_view_count": null,
            "_view_module": "@jupyter-widgets/base",
            "_view_module_version": "1.2.0",
            "_view_name": "StyleView",
            "description_width": ""
          }
        },
        "4aa6fe061c744cf6884af07f702ff505": {
          "model_module": "@jupyter-widgets/base",
          "model_module_version": "1.2.0",
          "model_name": "LayoutModel",
          "state": {
            "_model_module": "@jupyter-widgets/base",
            "_model_module_version": "1.2.0",
            "_model_name": "LayoutModel",
            "_view_count": null,
            "_view_module": "@jupyter-widgets/base",
            "_view_module_version": "1.2.0",
            "_view_name": "LayoutView",
            "align_content": null,
            "align_items": null,
            "align_self": null,
            "border": null,
            "bottom": null,
            "display": null,
            "flex": null,
            "flex_flow": null,
            "grid_area": null,
            "grid_auto_columns": null,
            "grid_auto_flow": null,
            "grid_auto_rows": null,
            "grid_column": null,
            "grid_gap": null,
            "grid_row": null,
            "grid_template_areas": null,
            "grid_template_columns": null,
            "grid_template_rows": null,
            "height": null,
            "justify_content": null,
            "justify_items": null,
            "left": null,
            "margin": null,
            "max_height": null,
            "max_width": null,
            "min_height": null,
            "min_width": null,
            "object_fit": null,
            "object_position": null,
            "order": null,
            "overflow": null,
            "overflow_x": null,
            "overflow_y": null,
            "padding": null,
            "right": null,
            "top": null,
            "visibility": null,
            "width": null
          }
        },
        "4b1d3da606234f45a651cabe0380a6c8": {
          "model_module": "@jupyter-widgets/base",
          "model_module_version": "1.2.0",
          "model_name": "LayoutModel",
          "state": {
            "_model_module": "@jupyter-widgets/base",
            "_model_module_version": "1.2.0",
            "_model_name": "LayoutModel",
            "_view_count": null,
            "_view_module": "@jupyter-widgets/base",
            "_view_module_version": "1.2.0",
            "_view_name": "LayoutView",
            "align_content": null,
            "align_items": null,
            "align_self": null,
            "border": null,
            "bottom": null,
            "display": null,
            "flex": null,
            "flex_flow": null,
            "grid_area": null,
            "grid_auto_columns": null,
            "grid_auto_flow": null,
            "grid_auto_rows": null,
            "grid_column": null,
            "grid_gap": null,
            "grid_row": null,
            "grid_template_areas": null,
            "grid_template_columns": null,
            "grid_template_rows": null,
            "height": null,
            "justify_content": null,
            "justify_items": null,
            "left": null,
            "margin": null,
            "max_height": null,
            "max_width": null,
            "min_height": null,
            "min_width": null,
            "object_fit": null,
            "object_position": null,
            "order": null,
            "overflow": null,
            "overflow_x": null,
            "overflow_y": null,
            "padding": null,
            "right": null,
            "top": null,
            "visibility": null,
            "width": null
          }
        },
        "4c635a6e9cf94a08906cf0085ad906ce": {
          "model_module": "@jupyter-widgets/controls",
          "model_module_version": "1.5.0",
          "model_name": "HBoxModel",
          "state": {
            "_dom_classes": [],
            "_model_module": "@jupyter-widgets/controls",
            "_model_module_version": "1.5.0",
            "_model_name": "HBoxModel",
            "_view_count": null,
            "_view_module": "@jupyter-widgets/controls",
            "_view_module_version": "1.5.0",
            "_view_name": "HBoxView",
            "box_style": "",
            "children": [
              "IPY_MODEL_a399635754ac49598db0f486cd0de03e",
              "IPY_MODEL_3a9f192b89db45a78b961f7cdf68a7ed",
              "IPY_MODEL_a91ca3f248964d41a41336ca2c3b91aa"
            ],
            "layout": "IPY_MODEL_73655255f42d4114a120a4bf1017057c"
          }
        },
        "4f3e196632e8430bae65a035a8d7410d": {
          "model_module": "@jupyter-widgets/controls",
          "model_module_version": "1.5.0",
          "model_name": "FloatProgressModel",
          "state": {
            "_dom_classes": [],
            "_model_module": "@jupyter-widgets/controls",
            "_model_module_version": "1.5.0",
            "_model_name": "FloatProgressModel",
            "_view_count": null,
            "_view_module": "@jupyter-widgets/controls",
            "_view_module_version": "1.5.0",
            "_view_name": "ProgressView",
            "bar_style": "success",
            "description": "",
            "description_tooltip": null,
            "layout": "IPY_MODEL_08d5446abb7149199d176143d337147f",
            "max": 4983443424,
            "min": 0,
            "orientation": "horizontal",
            "style": "IPY_MODEL_62d841d5700f49fabf4c83d3e63662c0",
            "value": 4983443424
          }
        },
        "52aec9760b644cdb9e425b0a8eea1780": {
          "model_module": "@jupyter-widgets/controls",
          "model_module_version": "1.5.0",
          "model_name": "DescriptionStyleModel",
          "state": {
            "_model_module": "@jupyter-widgets/controls",
            "_model_module_version": "1.5.0",
            "_model_name": "DescriptionStyleModel",
            "_view_count": null,
            "_view_module": "@jupyter-widgets/base",
            "_view_module_version": "1.2.0",
            "_view_name": "StyleView",
            "description_width": ""
          }
        },
        "5360735197404e67a311b11d17b8c98e": {
          "model_module": "@jupyter-widgets/controls",
          "model_module_version": "1.5.0",
          "model_name": "HTMLModel",
          "state": {
            "_dom_classes": [],
            "_model_module": "@jupyter-widgets/controls",
            "_model_module_version": "1.5.0",
            "_model_name": "HTMLModel",
            "_view_count": null,
            "_view_module": "@jupyter-widgets/controls",
            "_view_module_version": "1.5.0",
            "_view_name": "HTMLView",
            "description": "",
            "description_tooltip": null,
            "layout": "IPY_MODEL_1f7d86dcd6294693a56b2d98a721db45",
            "placeholder": "​",
            "style": "IPY_MODEL_66ac56c08b5b41f49f0de3afdde9772b",
            "value": "config.json: 100%"
          }
        },
        "55cdc48de9854031b8177a44cac1e1e0": {
          "model_module": "@jupyter-widgets/base",
          "model_module_version": "1.2.0",
          "model_name": "LayoutModel",
          "state": {
            "_model_module": "@jupyter-widgets/base",
            "_model_module_version": "1.2.0",
            "_model_name": "LayoutModel",
            "_view_count": null,
            "_view_module": "@jupyter-widgets/base",
            "_view_module_version": "1.2.0",
            "_view_name": "LayoutView",
            "align_content": null,
            "align_items": null,
            "align_self": null,
            "border": null,
            "bottom": null,
            "display": null,
            "flex": null,
            "flex_flow": null,
            "grid_area": null,
            "grid_auto_columns": null,
            "grid_auto_flow": null,
            "grid_auto_rows": null,
            "grid_column": null,
            "grid_gap": null,
            "grid_row": null,
            "grid_template_areas": null,
            "grid_template_columns": null,
            "grid_template_rows": null,
            "height": null,
            "justify_content": null,
            "justify_items": null,
            "left": null,
            "margin": null,
            "max_height": null,
            "max_width": null,
            "min_height": null,
            "min_width": null,
            "object_fit": null,
            "object_position": null,
            "order": null,
            "overflow": null,
            "overflow_x": null,
            "overflow_y": null,
            "padding": null,
            "right": null,
            "top": null,
            "visibility": null,
            "width": null
          }
        },
        "5db2a5f186664c149f5301f7ffe0b307": {
          "model_module": "@jupyter-widgets/controls",
          "model_module_version": "1.5.0",
          "model_name": "HBoxModel",
          "state": {
            "_dom_classes": [],
            "_model_module": "@jupyter-widgets/controls",
            "_model_module_version": "1.5.0",
            "_model_name": "HBoxModel",
            "_view_count": null,
            "_view_module": "@jupyter-widgets/controls",
            "_view_module_version": "1.5.0",
            "_view_name": "HBoxView",
            "box_style": "",
            "children": [
              "IPY_MODEL_6cdc0bdc0b5145a7ad7a9ff3b800547a",
              "IPY_MODEL_9bbbe55642f9405594498cfaedfa98a5",
              "IPY_MODEL_98db8c2cb6474b36bcdf187e93269d12"
            ],
            "layout": "IPY_MODEL_197595af15f2491fbba5c212fb06c6e1"
          }
        },
        "5dffb677d49f4a4b8d3bc3b2b3a263b1": {
          "model_module": "@jupyter-widgets/controls",
          "model_module_version": "1.5.0",
          "model_name": "TextModel",
          "state": {
            "_dom_classes": [],
            "_model_module": "@jupyter-widgets/controls",
            "_model_module_version": "1.5.0",
            "_model_name": "TextModel",
            "_view_count": null,
            "_view_module": "@jupyter-widgets/controls",
            "_view_module_version": "1.5.0",
            "_view_name": "TextView",
            "continuous_update": true,
            "description": "Username:",
            "description_tooltip": null,
            "disabled": false,
            "layout": "IPY_MODEL_f6593817d4744f428ce07e3a376e3ee7",
            "placeholder": "​",
            "style": "IPY_MODEL_86770cc6d0d948c1ab6c17964d92965c",
            "value": ""
          }
        },
        "62d841d5700f49fabf4c83d3e63662c0": {
          "model_module": "@jupyter-widgets/controls",
          "model_module_version": "1.5.0",
          "model_name": "ProgressStyleModel",
          "state": {
            "_model_module": "@jupyter-widgets/controls",
            "_model_module_version": "1.5.0",
            "_model_name": "ProgressStyleModel",
            "_view_count": null,
            "_view_module": "@jupyter-widgets/base",
            "_view_module_version": "1.2.0",
            "_view_name": "StyleView",
            "bar_color": null,
            "description_width": ""
          }
        },
        "66ac56c08b5b41f49f0de3afdde9772b": {
          "model_module": "@jupyter-widgets/controls",
          "model_module_version": "1.5.0",
          "model_name": "DescriptionStyleModel",
          "state": {
            "_model_module": "@jupyter-widgets/controls",
            "_model_module_version": "1.5.0",
            "_model_name": "DescriptionStyleModel",
            "_view_count": null,
            "_view_module": "@jupyter-widgets/base",
            "_view_module_version": "1.2.0",
            "_view_name": "StyleView",
            "description_width": ""
          }
        },
        "679d8cbd9f894f1db071d5d1c484d839": {
          "model_module": "@jupyter-widgets/base",
          "model_module_version": "1.2.0",
          "model_name": "LayoutModel",
          "state": {
            "_model_module": "@jupyter-widgets/base",
            "_model_module_version": "1.2.0",
            "_model_name": "LayoutModel",
            "_view_count": null,
            "_view_module": "@jupyter-widgets/base",
            "_view_module_version": "1.2.0",
            "_view_name": "LayoutView",
            "align_content": null,
            "align_items": null,
            "align_self": null,
            "border": null,
            "bottom": null,
            "display": null,
            "flex": null,
            "flex_flow": null,
            "grid_area": null,
            "grid_auto_columns": null,
            "grid_auto_flow": null,
            "grid_auto_rows": null,
            "grid_column": null,
            "grid_gap": null,
            "grid_row": null,
            "grid_template_areas": null,
            "grid_template_columns": null,
            "grid_template_rows": null,
            "height": null,
            "justify_content": null,
            "justify_items": null,
            "left": null,
            "margin": null,
            "max_height": null,
            "max_width": null,
            "min_height": null,
            "min_width": null,
            "object_fit": null,
            "object_position": null,
            "order": null,
            "overflow": null,
            "overflow_x": null,
            "overflow_y": null,
            "padding": null,
            "right": null,
            "top": null,
            "visibility": null,
            "width": null
          }
        },
        "6cdc0bdc0b5145a7ad7a9ff3b800547a": {
          "model_module": "@jupyter-widgets/controls",
          "model_module_version": "1.5.0",
          "model_name": "HTMLModel",
          "state": {
            "_dom_classes": [],
            "_model_module": "@jupyter-widgets/controls",
            "_model_module_version": "1.5.0",
            "_model_name": "HTMLModel",
            "_view_count": null,
            "_view_module": "@jupyter-widgets/controls",
            "_view_module_version": "1.5.0",
            "_view_name": "HTMLView",
            "description": "",
            "description_tooltip": null,
            "layout": "IPY_MODEL_c13886b111664df083075a23922b1704",
            "placeholder": "​",
            "style": "IPY_MODEL_ceef41be7ee941519be879315861bdef",
            "value": "model.safetensors.index.json: 100%"
          }
        },
        "6f6571bd61014c619527d53e2b5c1dfe": {
          "model_module": "@jupyter-widgets/controls",
          "model_module_version": "1.5.0",
          "model_name": "ProgressStyleModel",
          "state": {
            "_model_module": "@jupyter-widgets/controls",
            "_model_module_version": "1.5.0",
            "_model_name": "ProgressStyleModel",
            "_view_count": null,
            "_view_module": "@jupyter-widgets/base",
            "_view_module_version": "1.2.0",
            "_view_name": "StyleView",
            "bar_color": null,
            "description_width": ""
          }
        },
        "73655255f42d4114a120a4bf1017057c": {
          "model_module": "@jupyter-widgets/base",
          "model_module_version": "1.2.0",
          "model_name": "LayoutModel",
          "state": {
            "_model_module": "@jupyter-widgets/base",
            "_model_module_version": "1.2.0",
            "_model_name": "LayoutModel",
            "_view_count": null,
            "_view_module": "@jupyter-widgets/base",
            "_view_module_version": "1.2.0",
            "_view_name": "LayoutView",
            "align_content": null,
            "align_items": null,
            "align_self": null,
            "border": null,
            "bottom": null,
            "display": null,
            "flex": null,
            "flex_flow": null,
            "grid_area": null,
            "grid_auto_columns": null,
            "grid_auto_flow": null,
            "grid_auto_rows": null,
            "grid_column": null,
            "grid_gap": null,
            "grid_row": null,
            "grid_template_areas": null,
            "grid_template_columns": null,
            "grid_template_rows": null,
            "height": null,
            "justify_content": null,
            "justify_items": null,
            "left": null,
            "margin": null,
            "max_height": null,
            "max_width": null,
            "min_height": null,
            "min_width": null,
            "object_fit": null,
            "object_position": null,
            "order": null,
            "overflow": null,
            "overflow_x": null,
            "overflow_y": null,
            "padding": null,
            "right": null,
            "top": null,
            "visibility": null,
            "width": null
          }
        },
        "73e071ef5aa64195886c7f31c19f2bca": {
          "model_module": "@jupyter-widgets/base",
          "model_module_version": "1.2.0",
          "model_name": "LayoutModel",
          "state": {
            "_model_module": "@jupyter-widgets/base",
            "_model_module_version": "1.2.0",
            "_model_name": "LayoutModel",
            "_view_count": null,
            "_view_module": "@jupyter-widgets/base",
            "_view_module_version": "1.2.0",
            "_view_name": "LayoutView",
            "align_content": null,
            "align_items": null,
            "align_self": null,
            "border": null,
            "bottom": null,
            "display": null,
            "flex": null,
            "flex_flow": null,
            "grid_area": null,
            "grid_auto_columns": null,
            "grid_auto_flow": null,
            "grid_auto_rows": null,
            "grid_column": null,
            "grid_gap": null,
            "grid_row": null,
            "grid_template_areas": null,
            "grid_template_columns": null,
            "grid_template_rows": null,
            "height": null,
            "justify_content": null,
            "justify_items": null,
            "left": null,
            "margin": null,
            "max_height": null,
            "max_width": null,
            "min_height": null,
            "min_width": null,
            "object_fit": null,
            "object_position": null,
            "order": null,
            "overflow": null,
            "overflow_x": null,
            "overflow_y": null,
            "padding": null,
            "right": null,
            "top": null,
            "visibility": null,
            "width": null
          }
        },
        "7872242f4ea045eb9d4337503a8e1a88": {
          "model_module": "@jupyter-widgets/base",
          "model_module_version": "1.2.0",
          "model_name": "LayoutModel",
          "state": {
            "_model_module": "@jupyter-widgets/base",
            "_model_module_version": "1.2.0",
            "_model_name": "LayoutModel",
            "_view_count": null,
            "_view_module": "@jupyter-widgets/base",
            "_view_module_version": "1.2.0",
            "_view_name": "LayoutView",
            "align_content": null,
            "align_items": null,
            "align_self": null,
            "border": null,
            "bottom": null,
            "display": null,
            "flex": null,
            "flex_flow": null,
            "grid_area": null,
            "grid_auto_columns": null,
            "grid_auto_flow": null,
            "grid_auto_rows": null,
            "grid_column": null,
            "grid_gap": null,
            "grid_row": null,
            "grid_template_areas": null,
            "grid_template_columns": null,
            "grid_template_rows": null,
            "height": null,
            "justify_content": null,
            "justify_items": null,
            "left": null,
            "margin": null,
            "max_height": null,
            "max_width": null,
            "min_height": null,
            "min_width": null,
            "object_fit": null,
            "object_position": null,
            "order": null,
            "overflow": null,
            "overflow_x": null,
            "overflow_y": null,
            "padding": null,
            "right": null,
            "top": null,
            "visibility": null,
            "width": null
          }
        },
        "794952ae6614448195939fcd2172acb9": {
          "model_module": "@jupyter-widgets/controls",
          "model_module_version": "1.5.0",
          "model_name": "DescriptionStyleModel",
          "state": {
            "_model_module": "@jupyter-widgets/controls",
            "_model_module_version": "1.5.0",
            "_model_name": "DescriptionStyleModel",
            "_view_count": null,
            "_view_module": "@jupyter-widgets/base",
            "_view_module_version": "1.2.0",
            "_view_name": "StyleView",
            "description_width": ""
          }
        },
        "80e91545cc5e433493fa0c748cb86947": {
          "model_module": "@jupyter-widgets/controls",
          "model_module_version": "1.5.0",
          "model_name": "FloatProgressModel",
          "state": {
            "_dom_classes": [],
            "_model_module": "@jupyter-widgets/controls",
            "_model_module_version": "1.5.0",
            "_model_name": "FloatProgressModel",
            "_view_count": null,
            "_view_module": "@jupyter-widgets/controls",
            "_view_module_version": "1.5.0",
            "_view_name": "ProgressView",
            "bar_style": "success",
            "description": "",
            "description_tooltip": null,
            "layout": "IPY_MODEL_1646c0d420d948a99e8427afbd2c47ea",
            "max": 4241003,
            "min": 0,
            "orientation": "horizontal",
            "style": "IPY_MODEL_9736e9b4a0614ab9b789eb75435ff7e7",
            "value": 4241003
          }
        },
        "85d776c99a674b1793c7245cd7a7e517": {
          "model_module": "@jupyter-widgets/controls",
          "model_module_version": "1.5.0",
          "model_name": "DescriptionStyleModel",
          "state": {
            "_model_module": "@jupyter-widgets/controls",
            "_model_module_version": "1.5.0",
            "_model_name": "DescriptionStyleModel",
            "_view_count": null,
            "_view_module": "@jupyter-widgets/base",
            "_view_module_version": "1.2.0",
            "_view_name": "StyleView",
            "description_width": ""
          }
        },
        "86770cc6d0d948c1ab6c17964d92965c": {
          "model_module": "@jupyter-widgets/controls",
          "model_module_version": "1.5.0",
          "model_name": "DescriptionStyleModel",
          "state": {
            "_model_module": "@jupyter-widgets/controls",
            "_model_module_version": "1.5.0",
            "_model_name": "DescriptionStyleModel",
            "_view_count": null,
            "_view_module": "@jupyter-widgets/base",
            "_view_module_version": "1.2.0",
            "_view_name": "StyleView",
            "description_width": ""
          }
        },
        "91221e2a1282447093c235f5aced87cb": {
          "model_module": "@jupyter-widgets/base",
          "model_module_version": "1.2.0",
          "model_name": "LayoutModel",
          "state": {
            "_model_module": "@jupyter-widgets/base",
            "_model_module_version": "1.2.0",
            "_model_name": "LayoutModel",
            "_view_count": null,
            "_view_module": "@jupyter-widgets/base",
            "_view_module_version": "1.2.0",
            "_view_name": "LayoutView",
            "align_content": null,
            "align_items": null,
            "align_self": null,
            "border": null,
            "bottom": null,
            "display": null,
            "flex": null,
            "flex_flow": null,
            "grid_area": null,
            "grid_auto_columns": null,
            "grid_auto_flow": null,
            "grid_auto_rows": null,
            "grid_column": null,
            "grid_gap": null,
            "grid_row": null,
            "grid_template_areas": null,
            "grid_template_columns": null,
            "grid_template_rows": null,
            "height": null,
            "justify_content": null,
            "justify_items": null,
            "left": null,
            "margin": null,
            "max_height": null,
            "max_width": null,
            "min_height": null,
            "min_width": null,
            "object_fit": null,
            "object_position": null,
            "order": null,
            "overflow": null,
            "overflow_x": null,
            "overflow_y": null,
            "padding": null,
            "right": null,
            "top": null,
            "visibility": null,
            "width": null
          }
        },
        "9736e9b4a0614ab9b789eb75435ff7e7": {
          "model_module": "@jupyter-widgets/controls",
          "model_module_version": "1.5.0",
          "model_name": "ProgressStyleModel",
          "state": {
            "_model_module": "@jupyter-widgets/controls",
            "_model_module_version": "1.5.0",
            "_model_name": "ProgressStyleModel",
            "_view_count": null,
            "_view_module": "@jupyter-widgets/base",
            "_view_module_version": "1.2.0",
            "_view_name": "StyleView",
            "bar_color": null,
            "description_width": ""
          }
        },
        "98db8c2cb6474b36bcdf187e93269d12": {
          "model_module": "@jupyter-widgets/controls",
          "model_module_version": "1.5.0",
          "model_name": "HTMLModel",
          "state": {
            "_dom_classes": [],
            "_model_module": "@jupyter-widgets/controls",
            "_model_module_version": "1.5.0",
            "_model_name": "HTMLModel",
            "_view_count": null,
            "_view_module": "@jupyter-widgets/controls",
            "_view_module_version": "1.5.0",
            "_view_name": "HTMLView",
            "description": "",
            "description_tooltip": null,
            "layout": "IPY_MODEL_01033d26caad4d3482e789b09c9ae724",
            "placeholder": "​",
            "style": "IPY_MODEL_c062f39ed4ef4c57bbee49cc16d2daef",
            "value": " 24.2k/24.2k [00:00&lt;00:00, 1.71MB/s]"
          }
        },
        "99ea0e9400a74a77861fda130b100332": {
          "model_module": "@jupyter-widgets/controls",
          "model_module_version": "1.5.0",
          "model_name": "FloatProgressModel",
          "state": {
            "_dom_classes": [],
            "_model_module": "@jupyter-widgets/controls",
            "_model_module_version": "1.5.0",
            "_model_name": "FloatProgressModel",
            "_view_count": null,
            "_view_module": "@jupyter-widgets/controls",
            "_view_module_version": "1.5.0",
            "_view_name": "ProgressView",
            "bar_style": "success",
            "description": "",
            "description_tooltip": null,
            "layout": "IPY_MODEL_73e071ef5aa64195886c7f31c19f2bca",
            "max": 818,
            "min": 0,
            "orientation": "horizontal",
            "style": "IPY_MODEL_b6cb0279ad6a47029a985300e549e85f",
            "value": 818
          }
        },
        "9afd258337c749149610d5d874543b1c": {
          "model_module": "@jupyter-widgets/controls",
          "model_module_version": "1.5.0",
          "model_name": "HTMLModel",
          "state": {
            "_dom_classes": [],
            "_model_module": "@jupyter-widgets/controls",
            "_model_module_version": "1.5.0",
            "_model_name": "HTMLModel",
            "_view_count": null,
            "_view_module": "@jupyter-widgets/controls",
            "_view_module_version": "1.5.0",
            "_view_name": "HTMLView",
            "description": "",
            "description_tooltip": null,
            "layout": "IPY_MODEL_dfae162e9ae244c8bddf27633d0fc35e",
            "placeholder": "​",
            "style": "IPY_MODEL_e52b6a2556784872b85fdf1529f1cc0a",
            "value": " 4.98G/4.98G [01:58&lt;00:00, 42.5MB/s]"
          }
        },
        "9bbbe55642f9405594498cfaedfa98a5": {
          "model_module": "@jupyter-widgets/controls",
          "model_module_version": "1.5.0",
          "model_name": "FloatProgressModel",
          "state": {
            "_dom_classes": [],
            "_model_module": "@jupyter-widgets/controls",
            "_model_module_version": "1.5.0",
            "_model_name": "FloatProgressModel",
            "_view_count": null,
            "_view_module": "@jupyter-widgets/controls",
            "_view_module_version": "1.5.0",
            "_view_name": "ProgressView",
            "bar_style": "success",
            "description": "",
            "description_tooltip": null,
            "layout": "IPY_MODEL_30ed5c8fd451461f92a6d31c0b9e56e2",
            "max": 24224,
            "min": 0,
            "orientation": "horizontal",
            "style": "IPY_MODEL_aa51faff37d04437b8bc7a4c08c6f790",
            "value": 24224
          }
        },
        "9c9ec19b48f344cb9e1dbf9b38723fb2": {
          "model_module": "@jupyter-widgets/base",
          "model_module_version": "1.2.0",
          "model_name": "LayoutModel",
          "state": {
            "_model_module": "@jupyter-widgets/base",
            "_model_module_version": "1.2.0",
            "_model_name": "LayoutModel",
            "_view_count": null,
            "_view_module": "@jupyter-widgets/base",
            "_view_module_version": "1.2.0",
            "_view_name": "LayoutView",
            "align_content": null,
            "align_items": null,
            "align_self": null,
            "border": null,
            "bottom": null,
            "display": null,
            "flex": null,
            "flex_flow": null,
            "grid_area": null,
            "grid_auto_columns": null,
            "grid_auto_flow": null,
            "grid_auto_rows": null,
            "grid_column": null,
            "grid_gap": null,
            "grid_row": null,
            "grid_template_areas": null,
            "grid_template_columns": null,
            "grid_template_rows": null,
            "height": null,
            "justify_content": null,
            "justify_items": null,
            "left": null,
            "margin": null,
            "max_height": null,
            "max_width": null,
            "min_height": null,
            "min_width": null,
            "object_fit": null,
            "object_position": null,
            "order": null,
            "overflow": null,
            "overflow_x": null,
            "overflow_y": null,
            "padding": null,
            "right": null,
            "top": null,
            "visibility": null,
            "width": null
          }
        },
        "a399635754ac49598db0f486cd0de03e": {
          "model_module": "@jupyter-widgets/controls",
          "model_module_version": "1.5.0",
          "model_name": "HTMLModel",
          "state": {
            "_dom_classes": [],
            "_model_module": "@jupyter-widgets/controls",
            "_model_module_version": "1.5.0",
            "_model_name": "HTMLModel",
            "_view_count": null,
            "_view_module": "@jupyter-widgets/controls",
            "_view_module_version": "1.5.0",
            "_view_name": "HTMLView",
            "description": "",
            "description_tooltip": null,
            "layout": "IPY_MODEL_e7a3422bb48942efa489dbb5aaebd7ca",
            "placeholder": "​",
            "style": "IPY_MODEL_bc6bc16baa6b42c7a5d17d4fed599ccd",
            "value": "model-00003-of-00003.safetensors: 100%"
          }
        },
        "a58bd1b173374be3b25433615257e3b0": {
          "model_module": "@jupyter-widgets/controls",
          "model_module_version": "1.5.0",
          "model_name": "DescriptionStyleModel",
          "state": {
            "_model_module": "@jupyter-widgets/controls",
            "_model_module_version": "1.5.0",
            "_model_name": "DescriptionStyleModel",
            "_view_count": null,
            "_view_module": "@jupyter-widgets/base",
            "_view_module_version": "1.2.0",
            "_view_name": "StyleView",
            "description_width": ""
          }
        },
        "a6bc04bd740440e79aa98cdddb7e49a5": {
          "model_module": "@jupyter-widgets/controls",
          "model_module_version": "1.5.0",
          "model_name": "HTMLModel",
          "state": {
            "_dom_classes": [],
            "_model_module": "@jupyter-widgets/controls",
            "_model_module_version": "1.5.0",
            "_model_name": "HTMLModel",
            "_view_count": null,
            "_view_module": "@jupyter-widgets/controls",
            "_view_module_version": "1.5.0",
            "_view_name": "HTMLView",
            "description": "",
            "description_tooltip": null,
            "layout": "IPY_MODEL_1066a83bbe6c4a49a11cf6d32075b310",
            "placeholder": "​",
            "style": "IPY_MODEL_b507b108c3e744c386e273b5b43c1d12",
            "value": "\n<b>Thank You</b></center>"
          }
        },
        "a74e1fdeef5a4ccaa71edf439934f5d4": {
          "model_module": "@jupyter-widgets/base",
          "model_module_version": "1.2.0",
          "model_name": "LayoutModel",
          "state": {
            "_model_module": "@jupyter-widgets/base",
            "_model_module_version": "1.2.0",
            "_model_name": "LayoutModel",
            "_view_count": null,
            "_view_module": "@jupyter-widgets/base",
            "_view_module_version": "1.2.0",
            "_view_name": "LayoutView",
            "align_content": null,
            "align_items": null,
            "align_self": null,
            "border": null,
            "bottom": null,
            "display": null,
            "flex": null,
            "flex_flow": null,
            "grid_area": null,
            "grid_auto_columns": null,
            "grid_auto_flow": null,
            "grid_auto_rows": null,
            "grid_column": null,
            "grid_gap": null,
            "grid_row": null,
            "grid_template_areas": null,
            "grid_template_columns": null,
            "grid_template_rows": null,
            "height": null,
            "justify_content": null,
            "justify_items": null,
            "left": null,
            "margin": null,
            "max_height": null,
            "max_width": null,
            "min_height": null,
            "min_width": null,
            "object_fit": null,
            "object_position": null,
            "order": null,
            "overflow": null,
            "overflow_x": null,
            "overflow_y": null,
            "padding": null,
            "right": null,
            "top": null,
            "visibility": null,
            "width": null
          }
        },
        "a91ca3f248964d41a41336ca2c3b91aa": {
          "model_module": "@jupyter-widgets/controls",
          "model_module_version": "1.5.0",
          "model_name": "HTMLModel",
          "state": {
            "_dom_classes": [],
            "_model_module": "@jupyter-widgets/controls",
            "_model_module_version": "1.5.0",
            "_model_name": "HTMLModel",
            "_view_count": null,
            "_view_module": "@jupyter-widgets/controls",
            "_view_module_version": "1.5.0",
            "_view_name": "HTMLView",
            "description": "",
            "description_tooltip": null,
            "layout": "IPY_MODEL_4aa6fe061c744cf6884af07f702ff505",
            "placeholder": "​",
            "style": "IPY_MODEL_52aec9760b644cdb9e425b0a8eea1780",
            "value": " 481M/481M [00:11&lt;00:00, 42.3MB/s]"
          }
        },
        "aa51faff37d04437b8bc7a4c08c6f790": {
          "model_module": "@jupyter-widgets/controls",
          "model_module_version": "1.5.0",
          "model_name": "ProgressStyleModel",
          "state": {
            "_model_module": "@jupyter-widgets/controls",
            "_model_module_version": "1.5.0",
            "_model_name": "ProgressStyleModel",
            "_view_count": null,
            "_view_module": "@jupyter-widgets/base",
            "_view_module_version": "1.2.0",
            "_view_name": "StyleView",
            "bar_color": null,
            "description_width": ""
          }
        },
        "b0d4394c98484c5ab50ebb8864e06f7c": {
          "model_module": "@jupyter-widgets/controls",
          "model_module_version": "1.5.0",
          "model_name": "HTMLModel",
          "state": {
            "_dom_classes": [],
            "_model_module": "@jupyter-widgets/controls",
            "_model_module_version": "1.5.0",
            "_model_name": "HTMLModel",
            "_view_count": null,
            "_view_module": "@jupyter-widgets/controls",
            "_view_module_version": "1.5.0",
            "_view_name": "HTMLView",
            "description": "",
            "description_tooltip": null,
            "layout": "IPY_MODEL_679d8cbd9f894f1db071d5d1c484d839",
            "placeholder": "​",
            "style": "IPY_MODEL_794952ae6614448195939fcd2172acb9",
            "value": "model-00001-of-00003.safetensors: 100%"
          }
        },
        "b507b108c3e744c386e273b5b43c1d12": {
          "model_module": "@jupyter-widgets/controls",
          "model_module_version": "1.5.0",
          "model_name": "DescriptionStyleModel",
          "state": {
            "_model_module": "@jupyter-widgets/controls",
            "_model_module_version": "1.5.0",
            "_model_name": "DescriptionStyleModel",
            "_view_count": null,
            "_view_module": "@jupyter-widgets/base",
            "_view_module_version": "1.2.0",
            "_view_name": "StyleView",
            "description_width": ""
          }
        },
        "b6cb0279ad6a47029a985300e549e85f": {
          "model_module": "@jupyter-widgets/controls",
          "model_module_version": "1.5.0",
          "model_name": "ProgressStyleModel",
          "state": {
            "_model_module": "@jupyter-widgets/controls",
            "_model_module_version": "1.5.0",
            "_model_name": "ProgressStyleModel",
            "_view_count": null,
            "_view_module": "@jupyter-widgets/base",
            "_view_module_version": "1.2.0",
            "_view_name": "StyleView",
            "bar_color": null,
            "description_width": ""
          }
        },
        "bb6051c95bfb4df19714a1678c1b3a51": {
          "model_module": "@jupyter-widgets/controls",
          "model_module_version": "1.5.0",
          "model_name": "HTMLModel",
          "state": {
            "_dom_classes": [],
            "_model_module": "@jupyter-widgets/controls",
            "_model_module_version": "1.5.0",
            "_model_name": "HTMLModel",
            "_view_count": null,
            "_view_module": "@jupyter-widgets/controls",
            "_view_module_version": "1.5.0",
            "_view_name": "HTMLView",
            "description": "",
            "description_tooltip": null,
            "layout": "IPY_MODEL_55cdc48de9854031b8177a44cac1e1e0",
            "placeholder": "​",
            "style": "IPY_MODEL_04831c17a8e64e0a8f7698d08a9e1a22",
            "value": " 818/818 [00:00&lt;00:00, 68.7kB/s]"
          }
        },
        "bc6905181c6d46278180cbba82ebcd66": {
          "model_module": "@jupyter-widgets/controls",
          "model_module_version": "1.5.0",
          "model_name": "HBoxModel",
          "state": {
            "_dom_classes": [],
            "_model_module": "@jupyter-widgets/controls",
            "_model_module_version": "1.5.0",
            "_model_name": "HBoxModel",
            "_view_count": null,
            "_view_module": "@jupyter-widgets/controls",
            "_view_module_version": "1.5.0",
            "_view_name": "HBoxView",
            "box_style": "",
            "children": [
              "IPY_MODEL_b0d4394c98484c5ab50ebb8864e06f7c",
              "IPY_MODEL_ef2ff80764cb4ca8883430a8453c1e17",
              "IPY_MODEL_06134137cab645c68665ca9e57013bf5"
            ],
            "layout": "IPY_MODEL_c571b9a61d1b4516aac16ffa191907b8"
          }
        },
        "bc6bc16baa6b42c7a5d17d4fed599ccd": {
          "model_module": "@jupyter-widgets/controls",
          "model_module_version": "1.5.0",
          "model_name": "DescriptionStyleModel",
          "state": {
            "_model_module": "@jupyter-widgets/controls",
            "_model_module_version": "1.5.0",
            "_model_name": "DescriptionStyleModel",
            "_view_count": null,
            "_view_module": "@jupyter-widgets/base",
            "_view_module_version": "1.2.0",
            "_view_name": "StyleView",
            "description_width": ""
          }
        },
        "bfdebae1670742dfbb06d8a77ffae017": {
          "model_module": "@jupyter-widgets/base",
          "model_module_version": "1.2.0",
          "model_name": "LayoutModel",
          "state": {
            "_model_module": "@jupyter-widgets/base",
            "_model_module_version": "1.2.0",
            "_model_name": "LayoutModel",
            "_view_count": null,
            "_view_module": "@jupyter-widgets/base",
            "_view_module_version": "1.2.0",
            "_view_name": "LayoutView",
            "align_content": null,
            "align_items": null,
            "align_self": null,
            "border": null,
            "bottom": null,
            "display": null,
            "flex": null,
            "flex_flow": null,
            "grid_area": null,
            "grid_auto_columns": null,
            "grid_auto_flow": null,
            "grid_auto_rows": null,
            "grid_column": null,
            "grid_gap": null,
            "grid_row": null,
            "grid_template_areas": null,
            "grid_template_columns": null,
            "grid_template_rows": null,
            "height": null,
            "justify_content": null,
            "justify_items": null,
            "left": null,
            "margin": null,
            "max_height": null,
            "max_width": null,
            "min_height": null,
            "min_width": null,
            "object_fit": null,
            "object_position": null,
            "order": null,
            "overflow": null,
            "overflow_x": null,
            "overflow_y": null,
            "padding": null,
            "right": null,
            "top": null,
            "visibility": null,
            "width": null
          }
        },
        "c062f39ed4ef4c57bbee49cc16d2daef": {
          "model_module": "@jupyter-widgets/controls",
          "model_module_version": "1.5.0",
          "model_name": "DescriptionStyleModel",
          "state": {
            "_model_module": "@jupyter-widgets/controls",
            "_model_module_version": "1.5.0",
            "_model_name": "DescriptionStyleModel",
            "_view_count": null,
            "_view_module": "@jupyter-widgets/base",
            "_view_module_version": "1.2.0",
            "_view_name": "StyleView",
            "description_width": ""
          }
        },
        "c13886b111664df083075a23922b1704": {
          "model_module": "@jupyter-widgets/base",
          "model_module_version": "1.2.0",
          "model_name": "LayoutModel",
          "state": {
            "_model_module": "@jupyter-widgets/base",
            "_model_module_version": "1.2.0",
            "_model_name": "LayoutModel",
            "_view_count": null,
            "_view_module": "@jupyter-widgets/base",
            "_view_module_version": "1.2.0",
            "_view_name": "LayoutView",
            "align_content": null,
            "align_items": null,
            "align_self": null,
            "border": null,
            "bottom": null,
            "display": null,
            "flex": null,
            "flex_flow": null,
            "grid_area": null,
            "grid_auto_columns": null,
            "grid_auto_flow": null,
            "grid_auto_rows": null,
            "grid_column": null,
            "grid_gap": null,
            "grid_row": null,
            "grid_template_areas": null,
            "grid_template_columns": null,
            "grid_template_rows": null,
            "height": null,
            "justify_content": null,
            "justify_items": null,
            "left": null,
            "margin": null,
            "max_height": null,
            "max_width": null,
            "min_height": null,
            "min_width": null,
            "object_fit": null,
            "object_position": null,
            "order": null,
            "overflow": null,
            "overflow_x": null,
            "overflow_y": null,
            "padding": null,
            "right": null,
            "top": null,
            "visibility": null,
            "width": null
          }
        },
        "c571b9a61d1b4516aac16ffa191907b8": {
          "model_module": "@jupyter-widgets/base",
          "model_module_version": "1.2.0",
          "model_name": "LayoutModel",
          "state": {
            "_model_module": "@jupyter-widgets/base",
            "_model_module_version": "1.2.0",
            "_model_name": "LayoutModel",
            "_view_count": null,
            "_view_module": "@jupyter-widgets/base",
            "_view_module_version": "1.2.0",
            "_view_name": "LayoutView",
            "align_content": null,
            "align_items": null,
            "align_self": null,
            "border": null,
            "bottom": null,
            "display": null,
            "flex": null,
            "flex_flow": null,
            "grid_area": null,
            "grid_auto_columns": null,
            "grid_auto_flow": null,
            "grid_auto_rows": null,
            "grid_column": null,
            "grid_gap": null,
            "grid_row": null,
            "grid_template_areas": null,
            "grid_template_columns": null,
            "grid_template_rows": null,
            "height": null,
            "justify_content": null,
            "justify_items": null,
            "left": null,
            "margin": null,
            "max_height": null,
            "max_width": null,
            "min_height": null,
            "min_width": null,
            "object_fit": null,
            "object_position": null,
            "order": null,
            "overflow": null,
            "overflow_x": null,
            "overflow_y": null,
            "padding": null,
            "right": null,
            "top": null,
            "visibility": null,
            "width": null
          }
        },
        "c903a47a791e4b7182c5098170cf8ed4": {
          "model_module": "@jupyter-widgets/controls",
          "model_module_version": "1.5.0",
          "model_name": "HTMLModel",
          "state": {
            "_dom_classes": [],
            "_model_module": "@jupyter-widgets/controls",
            "_model_module_version": "1.5.0",
            "_model_name": "HTMLModel",
            "_view_count": null,
            "_view_module": "@jupyter-widgets/controls",
            "_view_module_version": "1.5.0",
            "_view_name": "HTMLView",
            "description": "",
            "description_tooltip": null,
            "layout": "IPY_MODEL_bfdebae1670742dfbb06d8a77ffae017",
            "placeholder": "​",
            "style": "IPY_MODEL_430e9fa7e2444abb976103f1ad2ee64f",
            "value": "model-00002-of-00003.safetensors: 100%"
          }
        },
        "ceef41be7ee941519be879315861bdef": {
          "model_module": "@jupyter-widgets/controls",
          "model_module_version": "1.5.0",
          "model_name": "DescriptionStyleModel",
          "state": {
            "_model_module": "@jupyter-widgets/controls",
            "_model_module_version": "1.5.0",
            "_model_name": "DescriptionStyleModel",
            "_view_count": null,
            "_view_module": "@jupyter-widgets/base",
            "_view_module_version": "1.2.0",
            "_view_name": "StyleView",
            "description_width": ""
          }
        },
        "d2c5d920b6c5421bb66beb0856cb7930": {
          "model_module": "@jupyter-widgets/controls",
          "model_module_version": "1.5.0",
          "model_name": "HTMLModel",
          "state": {
            "_dom_classes": [],
            "_model_module": "@jupyter-widgets/controls",
            "_model_module_version": "1.5.0",
            "_model_name": "HTMLModel",
            "_view_count": null,
            "_view_module": "@jupyter-widgets/controls",
            "_view_module_version": "1.5.0",
            "_view_name": "HTMLView",
            "description": "",
            "description_tooltip": null,
            "layout": "IPY_MODEL_4b1d3da606234f45a651cabe0380a6c8",
            "placeholder": "​",
            "style": "IPY_MODEL_1670a12f80e643f1a2980b9db0186701",
            "value": "<center> <img\nsrc=https://www.kaggle.com/static/images/site-logo.png\nalt='Kaggle'> <br> Create an API token from <a\nhref=\"https://www.kaggle.com/settings/account\" target=\"_blank\">your Kaggle\nsettings page</a> and paste it below along with your Kaggle username. <br> </center>"
          }
        },
        "dfac48a5374f4634b547a1a458ba11e2": {
          "model_module": "@jupyter-widgets/base",
          "model_module_version": "1.2.0",
          "model_name": "LayoutModel",
          "state": {
            "_model_module": "@jupyter-widgets/base",
            "_model_module_version": "1.2.0",
            "_model_name": "LayoutModel",
            "_view_count": null,
            "_view_module": "@jupyter-widgets/base",
            "_view_module_version": "1.2.0",
            "_view_name": "LayoutView",
            "align_content": null,
            "align_items": null,
            "align_self": null,
            "border": null,
            "bottom": null,
            "display": null,
            "flex": null,
            "flex_flow": null,
            "grid_area": null,
            "grid_auto_columns": null,
            "grid_auto_flow": null,
            "grid_auto_rows": null,
            "grid_column": null,
            "grid_gap": null,
            "grid_row": null,
            "grid_template_areas": null,
            "grid_template_columns": null,
            "grid_template_rows": null,
            "height": null,
            "justify_content": null,
            "justify_items": null,
            "left": null,
            "margin": null,
            "max_height": null,
            "max_width": null,
            "min_height": null,
            "min_width": null,
            "object_fit": null,
            "object_position": null,
            "order": null,
            "overflow": null,
            "overflow_x": null,
            "overflow_y": null,
            "padding": null,
            "right": null,
            "top": null,
            "visibility": null,
            "width": null
          }
        },
        "dfae162e9ae244c8bddf27633d0fc35e": {
          "model_module": "@jupyter-widgets/base",
          "model_module_version": "1.2.0",
          "model_name": "LayoutModel",
          "state": {
            "_model_module": "@jupyter-widgets/base",
            "_model_module_version": "1.2.0",
            "_model_name": "LayoutModel",
            "_view_count": null,
            "_view_module": "@jupyter-widgets/base",
            "_view_module_version": "1.2.0",
            "_view_name": "LayoutView",
            "align_content": null,
            "align_items": null,
            "align_self": null,
            "border": null,
            "bottom": null,
            "display": null,
            "flex": null,
            "flex_flow": null,
            "grid_area": null,
            "grid_auto_columns": null,
            "grid_auto_flow": null,
            "grid_auto_rows": null,
            "grid_column": null,
            "grid_gap": null,
            "grid_row": null,
            "grid_template_areas": null,
            "grid_template_columns": null,
            "grid_template_rows": null,
            "height": null,
            "justify_content": null,
            "justify_items": null,
            "left": null,
            "margin": null,
            "max_height": null,
            "max_width": null,
            "min_height": null,
            "min_width": null,
            "object_fit": null,
            "object_position": null,
            "order": null,
            "overflow": null,
            "overflow_x": null,
            "overflow_y": null,
            "padding": null,
            "right": null,
            "top": null,
            "visibility": null,
            "width": null
          }
        },
        "e52b6a2556784872b85fdf1529f1cc0a": {
          "model_module": "@jupyter-widgets/controls",
          "model_module_version": "1.5.0",
          "model_name": "DescriptionStyleModel",
          "state": {
            "_model_module": "@jupyter-widgets/controls",
            "_model_module_version": "1.5.0",
            "_model_name": "DescriptionStyleModel",
            "_view_count": null,
            "_view_module": "@jupyter-widgets/base",
            "_view_module_version": "1.2.0",
            "_view_name": "StyleView",
            "description_width": ""
          }
        },
        "e57cb6e3403f453ea76cfa01c2adcd2a": {
          "model_module": "@jupyter-widgets/base",
          "model_module_version": "1.2.0",
          "model_name": "LayoutModel",
          "state": {
            "_model_module": "@jupyter-widgets/base",
            "_model_module_version": "1.2.0",
            "_model_name": "LayoutModel",
            "_view_count": null,
            "_view_module": "@jupyter-widgets/base",
            "_view_module_version": "1.2.0",
            "_view_name": "LayoutView",
            "align_content": null,
            "align_items": null,
            "align_self": null,
            "border": null,
            "bottom": null,
            "display": null,
            "flex": null,
            "flex_flow": null,
            "grid_area": null,
            "grid_auto_columns": null,
            "grid_auto_flow": null,
            "grid_auto_rows": null,
            "grid_column": null,
            "grid_gap": null,
            "grid_row": null,
            "grid_template_areas": null,
            "grid_template_columns": null,
            "grid_template_rows": null,
            "height": null,
            "justify_content": null,
            "justify_items": null,
            "left": null,
            "margin": null,
            "max_height": null,
            "max_width": null,
            "min_height": null,
            "min_width": null,
            "object_fit": null,
            "object_position": null,
            "order": null,
            "overflow": null,
            "overflow_x": null,
            "overflow_y": null,
            "padding": null,
            "right": null,
            "top": null,
            "visibility": null,
            "width": null
          }
        },
        "e7a3422bb48942efa489dbb5aaebd7ca": {
          "model_module": "@jupyter-widgets/base",
          "model_module_version": "1.2.0",
          "model_name": "LayoutModel",
          "state": {
            "_model_module": "@jupyter-widgets/base",
            "_model_module_version": "1.2.0",
            "_model_name": "LayoutModel",
            "_view_count": null,
            "_view_module": "@jupyter-widgets/base",
            "_view_module_version": "1.2.0",
            "_view_name": "LayoutView",
            "align_content": null,
            "align_items": null,
            "align_self": null,
            "border": null,
            "bottom": null,
            "display": null,
            "flex": null,
            "flex_flow": null,
            "grid_area": null,
            "grid_auto_columns": null,
            "grid_auto_flow": null,
            "grid_auto_rows": null,
            "grid_column": null,
            "grid_gap": null,
            "grid_row": null,
            "grid_template_areas": null,
            "grid_template_columns": null,
            "grid_template_rows": null,
            "height": null,
            "justify_content": null,
            "justify_items": null,
            "left": null,
            "margin": null,
            "max_height": null,
            "max_width": null,
            "min_height": null,
            "min_width": null,
            "object_fit": null,
            "object_position": null,
            "order": null,
            "overflow": null,
            "overflow_x": null,
            "overflow_y": null,
            "padding": null,
            "right": null,
            "top": null,
            "visibility": null,
            "width": null
          }
        },
        "ec691fd6dcb141d1965a27e0c3912d2a": {
          "model_module": "@jupyter-widgets/controls",
          "model_module_version": "1.5.0",
          "model_name": "HTMLModel",
          "state": {
            "_dom_classes": [],
            "_model_module": "@jupyter-widgets/controls",
            "_model_module_version": "1.5.0",
            "_model_name": "HTMLModel",
            "_view_count": null,
            "_view_module": "@jupyter-widgets/controls",
            "_view_module_version": "1.5.0",
            "_view_name": "HTMLView",
            "description": "",
            "description_tooltip": null,
            "layout": "IPY_MODEL_2dbee6ec251a43aa8d09806ae26de7e9",
            "placeholder": "​",
            "style": "IPY_MODEL_85d776c99a674b1793c7245cd7a7e517",
            "value": "tokenizer.model: 100%"
          }
        },
        "ed80c67013b64dd8ae127fdc09094cf3": {
          "model_module": "@jupyter-widgets/controls",
          "model_module_version": "1.5.0",
          "model_name": "HBoxModel",
          "state": {
            "_dom_classes": [],
            "_model_module": "@jupyter-widgets/controls",
            "_model_module_version": "1.5.0",
            "_model_name": "HBoxModel",
            "_view_count": null,
            "_view_module": "@jupyter-widgets/controls",
            "_view_module_version": "1.5.0",
            "_view_name": "HBoxView",
            "box_style": "",
            "children": [
              "IPY_MODEL_ec691fd6dcb141d1965a27e0c3912d2a",
              "IPY_MODEL_80e91545cc5e433493fa0c748cb86947",
              "IPY_MODEL_1139703b2a21436b8a4b66396ed46280"
            ],
            "layout": "IPY_MODEL_310723c029514a5485e70d5ef940bf19"
          }
        },
        "ef2ff80764cb4ca8883430a8453c1e17": {
          "model_module": "@jupyter-widgets/controls",
          "model_module_version": "1.5.0",
          "model_name": "FloatProgressModel",
          "state": {
            "_dom_classes": [],
            "_model_module": "@jupyter-widgets/controls",
            "_model_module_version": "1.5.0",
            "_model_name": "FloatProgressModel",
            "_view_count": null,
            "_view_module": "@jupyter-widgets/controls",
            "_view_module_version": "1.5.0",
            "_view_name": "ProgressView",
            "bar_style": "success",
            "description": "",
            "description_tooltip": null,
            "layout": "IPY_MODEL_a74e1fdeef5a4ccaa71edf439934f5d4",
            "max": 4992576136,
            "min": 0,
            "orientation": "horizontal",
            "style": "IPY_MODEL_073825fa90a9475db55bce3cc786ba37",
            "value": 4992576136
          }
        },
        "f223e588f6f448119a2440e11a263d23": {
          "model_module": "@jupyter-widgets/controls",
          "model_module_version": "1.5.0",
          "model_name": "DescriptionStyleModel",
          "state": {
            "_model_module": "@jupyter-widgets/controls",
            "_model_module_version": "1.5.0",
            "_model_name": "DescriptionStyleModel",
            "_view_count": null,
            "_view_module": "@jupyter-widgets/base",
            "_view_module_version": "1.2.0",
            "_view_name": "StyleView",
            "description_width": ""
          }
        },
        "f6593817d4744f428ce07e3a376e3ee7": {
          "model_module": "@jupyter-widgets/base",
          "model_module_version": "1.2.0",
          "model_name": "LayoutModel",
          "state": {
            "_model_module": "@jupyter-widgets/base",
            "_model_module_version": "1.2.0",
            "_model_name": "LayoutModel",
            "_view_count": null,
            "_view_module": "@jupyter-widgets/base",
            "_view_module_version": "1.2.0",
            "_view_name": "LayoutView",
            "align_content": null,
            "align_items": null,
            "align_self": null,
            "border": null,
            "bottom": null,
            "display": null,
            "flex": null,
            "flex_flow": null,
            "grid_area": null,
            "grid_auto_columns": null,
            "grid_auto_flow": null,
            "grid_auto_rows": null,
            "grid_column": null,
            "grid_gap": null,
            "grid_row": null,
            "grid_template_areas": null,
            "grid_template_columns": null,
            "grid_template_rows": null,
            "height": null,
            "justify_content": null,
            "justify_items": null,
            "left": null,
            "margin": null,
            "max_height": null,
            "max_width": null,
            "min_height": null,
            "min_width": null,
            "object_fit": null,
            "object_position": null,
            "order": null,
            "overflow": null,
            "overflow_x": null,
            "overflow_y": null,
            "padding": null,
            "right": null,
            "top": null,
            "visibility": null,
            "width": null
          }
        },
        "ff59dc9b9cd243e98a1d57202cb5e9a4": {
          "model_module": "@jupyter-widgets/controls",
          "model_module_version": "1.5.0",
          "model_name": "DescriptionStyleModel",
          "state": {
            "_model_module": "@jupyter-widgets/controls",
            "_model_module_version": "1.5.0",
            "_model_name": "DescriptionStyleModel",
            "_view_count": null,
            "_view_module": "@jupyter-widgets/base",
            "_view_module_version": "1.2.0",
            "_view_name": "StyleView",
            "description_width": ""
          }
        }
      }
    }
  },
  "nbformat": 4,
  "nbformat_minor": 0
}