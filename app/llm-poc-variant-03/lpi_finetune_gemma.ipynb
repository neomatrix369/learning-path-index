{
  "metadata": {
    "kernelspec": {
      "display_name": "Python 3",
      "name": "python3"
    },
    "language_info": {
      "name": "python",
      "version": "3.10.14",
      "mimetype": "text/x-python",
      "codemirror_mode": {
        "name": "ipython",
        "version": 3
      },
      "pygments_lexer": "ipython3",
      "nbconvert_exporter": "python",
      "file_extension": ".py"
    },
    "kaggle": {
      "accelerator": "gpu",
      "dataSources": [
        {
          "sourceId": 6751022,
          "sourceType": "datasetVersion",
          "datasetId": 3766406
        },
        {
          "sourceId": 85984,
          "sourceType": "modelInstanceVersion",
          "modelInstanceId": 72244,
          "modelId": 78150
        }
      ],
      "dockerImageVersionId": 30786,
      "isInternetEnabled": true,
      "language": "python",
      "sourceType": "notebook",
      "isGpuEnabled": true
    },
    "colab": {
      "provenance": [],
      "machine_shape": "hm",
      "gpuType": "A100",
      "include_colab_link": true
    },
    "widgets": {
      "application/vnd.jupyter.widget-state+json": {
        "7abd5ea2da6648f6ad9786971f5dce3d": {
          "model_module": "@jupyter-widgets/controls",
          "model_name": "VBoxModel",
          "model_module_version": "1.5.0",
          "state": {
            "_dom_classes": [],
            "_model_module": "@jupyter-widgets/controls",
            "_model_module_version": "1.5.0",
            "_model_name": "VBoxModel",
            "_view_count": null,
            "_view_module": "@jupyter-widgets/controls",
            "_view_module_version": "1.5.0",
            "_view_name": "VBoxView",
            "box_style": "",
            "children": [
              "IPY_MODEL_cc072646d73c4fa3ba3a2f1cb9dbad53"
            ],
            "layout": "IPY_MODEL_d599a4ca429f4682894223bbda22551d"
          }
        },
        "912167c704f6450bb358d295b16e0ce4": {
          "model_module": "@jupyter-widgets/controls",
          "model_name": "HTMLModel",
          "model_module_version": "1.5.0",
          "state": {
            "_dom_classes": [],
            "_model_module": "@jupyter-widgets/controls",
            "_model_module_version": "1.5.0",
            "_model_name": "HTMLModel",
            "_view_count": null,
            "_view_module": "@jupyter-widgets/controls",
            "_view_module_version": "1.5.0",
            "_view_name": "HTMLView",
            "description": "",
            "description_tooltip": null,
            "layout": "IPY_MODEL_2409b7cda18d42759290a1e301b40ca5",
            "placeholder": "​",
            "style": "IPY_MODEL_42e9da8147494368a7571f84d0e71b7b",
            "value": "<center> <img\nsrc=https://www.kaggle.com/static/images/site-logo.png\nalt='Kaggle'> <br> Create an API token from <a\nhref=\"https://www.kaggle.com/settings/account\" target=\"_blank\">your Kaggle\nsettings page</a> and paste it below along with your Kaggle username. <br> </center>"
          }
        },
        "9ed496e4ebd14dd9a2ced809a22aec3d": {
          "model_module": "@jupyter-widgets/controls",
          "model_name": "TextModel",
          "model_module_version": "1.5.0",
          "state": {
            "_dom_classes": [],
            "_model_module": "@jupyter-widgets/controls",
            "_model_module_version": "1.5.0",
            "_model_name": "TextModel",
            "_view_count": null,
            "_view_module": "@jupyter-widgets/controls",
            "_view_module_version": "1.5.0",
            "_view_name": "TextView",
            "continuous_update": true,
            "description": "Username:",
            "description_tooltip": null,
            "disabled": false,
            "layout": "IPY_MODEL_69f5b5e92dff4dbeacaa385c5db01331",
            "placeholder": "​",
            "style": "IPY_MODEL_1db63479fb6041e796e3b06961456353",
            "value": "2b80f1d92fb35419622037da53153975"
          }
        },
        "c668723f6d7547a38c34e1c4564d4609": {
          "model_module": "@jupyter-widgets/controls",
          "model_name": "PasswordModel",
          "model_module_version": "1.5.0",
          "state": {
            "_dom_classes": [],
            "_model_module": "@jupyter-widgets/controls",
            "_model_module_version": "1.5.0",
            "_model_name": "PasswordModel",
            "_view_count": null,
            "_view_module": "@jupyter-widgets/controls",
            "_view_module_version": "1.5.0",
            "_view_name": "PasswordView",
            "continuous_update": true,
            "description": "Token:",
            "description_tooltip": null,
            "disabled": false,
            "layout": "IPY_MODEL_51f674950ae6441e8de3e916e7759836",
            "placeholder": "​",
            "style": "IPY_MODEL_c60c8462c7d2403396e0ae909e74a6a3",
            "value": ""
          }
        },
        "d6945e28b33e4fec8aebfa3b2c0867df": {
          "model_module": "@jupyter-widgets/controls",
          "model_name": "ButtonModel",
          "model_module_version": "1.5.0",
          "state": {
            "_dom_classes": [],
            "_model_module": "@jupyter-widgets/controls",
            "_model_module_version": "1.5.0",
            "_model_name": "ButtonModel",
            "_view_count": null,
            "_view_module": "@jupyter-widgets/controls",
            "_view_module_version": "1.5.0",
            "_view_name": "ButtonView",
            "button_style": "",
            "description": "Login",
            "disabled": false,
            "icon": "",
            "layout": "IPY_MODEL_94b298938c83453baaae3463304cb501",
            "style": "IPY_MODEL_77d4095efc50498c89d0ddde5628c95c",
            "tooltip": ""
          }
        },
        "55791ea3f91948bdb033a9cc5580b71f": {
          "model_module": "@jupyter-widgets/controls",
          "model_name": "HTMLModel",
          "model_module_version": "1.5.0",
          "state": {
            "_dom_classes": [],
            "_model_module": "@jupyter-widgets/controls",
            "_model_module_version": "1.5.0",
            "_model_name": "HTMLModel",
            "_view_count": null,
            "_view_module": "@jupyter-widgets/controls",
            "_view_module_version": "1.5.0",
            "_view_name": "HTMLView",
            "description": "",
            "description_tooltip": null,
            "layout": "IPY_MODEL_4f52a58644b140249ddf1d36a8e78077",
            "placeholder": "​",
            "style": "IPY_MODEL_e727d57b5a0e430eae7fd214ad09b10e",
            "value": "\n<b>Thank You</b></center>"
          }
        },
        "d599a4ca429f4682894223bbda22551d": {
          "model_module": "@jupyter-widgets/base",
          "model_name": "LayoutModel",
          "model_module_version": "1.2.0",
          "state": {
            "_model_module": "@jupyter-widgets/base",
            "_model_module_version": "1.2.0",
            "_model_name": "LayoutModel",
            "_view_count": null,
            "_view_module": "@jupyter-widgets/base",
            "_view_module_version": "1.2.0",
            "_view_name": "LayoutView",
            "align_content": null,
            "align_items": "center",
            "align_self": null,
            "border": null,
            "bottom": null,
            "display": "flex",
            "flex": null,
            "flex_flow": "column",
            "grid_area": null,
            "grid_auto_columns": null,
            "grid_auto_flow": null,
            "grid_auto_rows": null,
            "grid_column": null,
            "grid_gap": null,
            "grid_row": null,
            "grid_template_areas": null,
            "grid_template_columns": null,
            "grid_template_rows": null,
            "height": null,
            "justify_content": null,
            "justify_items": null,
            "left": null,
            "margin": null,
            "max_height": null,
            "max_width": null,
            "min_height": null,
            "min_width": null,
            "object_fit": null,
            "object_position": null,
            "order": null,
            "overflow": null,
            "overflow_x": null,
            "overflow_y": null,
            "padding": null,
            "right": null,
            "top": null,
            "visibility": null,
            "width": "50%"
          }
        },
        "2409b7cda18d42759290a1e301b40ca5": {
          "model_module": "@jupyter-widgets/base",
          "model_name": "LayoutModel",
          "model_module_version": "1.2.0",
          "state": {
            "_model_module": "@jupyter-widgets/base",
            "_model_module_version": "1.2.0",
            "_model_name": "LayoutModel",
            "_view_count": null,
            "_view_module": "@jupyter-widgets/base",
            "_view_module_version": "1.2.0",
            "_view_name": "LayoutView",
            "align_content": null,
            "align_items": null,
            "align_self": null,
            "border": null,
            "bottom": null,
            "display": null,
            "flex": null,
            "flex_flow": null,
            "grid_area": null,
            "grid_auto_columns": null,
            "grid_auto_flow": null,
            "grid_auto_rows": null,
            "grid_column": null,
            "grid_gap": null,
            "grid_row": null,
            "grid_template_areas": null,
            "grid_template_columns": null,
            "grid_template_rows": null,
            "height": null,
            "justify_content": null,
            "justify_items": null,
            "left": null,
            "margin": null,
            "max_height": null,
            "max_width": null,
            "min_height": null,
            "min_width": null,
            "object_fit": null,
            "object_position": null,
            "order": null,
            "overflow": null,
            "overflow_x": null,
            "overflow_y": null,
            "padding": null,
            "right": null,
            "top": null,
            "visibility": null,
            "width": null
          }
        },
        "42e9da8147494368a7571f84d0e71b7b": {
          "model_module": "@jupyter-widgets/controls",
          "model_name": "DescriptionStyleModel",
          "model_module_version": "1.5.0",
          "state": {
            "_model_module": "@jupyter-widgets/controls",
            "_model_module_version": "1.5.0",
            "_model_name": "DescriptionStyleModel",
            "_view_count": null,
            "_view_module": "@jupyter-widgets/base",
            "_view_module_version": "1.2.0",
            "_view_name": "StyleView",
            "description_width": ""
          }
        },
        "69f5b5e92dff4dbeacaa385c5db01331": {
          "model_module": "@jupyter-widgets/base",
          "model_name": "LayoutModel",
          "model_module_version": "1.2.0",
          "state": {
            "_model_module": "@jupyter-widgets/base",
            "_model_module_version": "1.2.0",
            "_model_name": "LayoutModel",
            "_view_count": null,
            "_view_module": "@jupyter-widgets/base",
            "_view_module_version": "1.2.0",
            "_view_name": "LayoutView",
            "align_content": null,
            "align_items": null,
            "align_self": null,
            "border": null,
            "bottom": null,
            "display": null,
            "flex": null,
            "flex_flow": null,
            "grid_area": null,
            "grid_auto_columns": null,
            "grid_auto_flow": null,
            "grid_auto_rows": null,
            "grid_column": null,
            "grid_gap": null,
            "grid_row": null,
            "grid_template_areas": null,
            "grid_template_columns": null,
            "grid_template_rows": null,
            "height": null,
            "justify_content": null,
            "justify_items": null,
            "left": null,
            "margin": null,
            "max_height": null,
            "max_width": null,
            "min_height": null,
            "min_width": null,
            "object_fit": null,
            "object_position": null,
            "order": null,
            "overflow": null,
            "overflow_x": null,
            "overflow_y": null,
            "padding": null,
            "right": null,
            "top": null,
            "visibility": null,
            "width": null
          }
        },
        "1db63479fb6041e796e3b06961456353": {
          "model_module": "@jupyter-widgets/controls",
          "model_name": "DescriptionStyleModel",
          "model_module_version": "1.5.0",
          "state": {
            "_model_module": "@jupyter-widgets/controls",
            "_model_module_version": "1.5.0",
            "_model_name": "DescriptionStyleModel",
            "_view_count": null,
            "_view_module": "@jupyter-widgets/base",
            "_view_module_version": "1.2.0",
            "_view_name": "StyleView",
            "description_width": ""
          }
        },
        "51f674950ae6441e8de3e916e7759836": {
          "model_module": "@jupyter-widgets/base",
          "model_name": "LayoutModel",
          "model_module_version": "1.2.0",
          "state": {
            "_model_module": "@jupyter-widgets/base",
            "_model_module_version": "1.2.0",
            "_model_name": "LayoutModel",
            "_view_count": null,
            "_view_module": "@jupyter-widgets/base",
            "_view_module_version": "1.2.0",
            "_view_name": "LayoutView",
            "align_content": null,
            "align_items": null,
            "align_self": null,
            "border": null,
            "bottom": null,
            "display": null,
            "flex": null,
            "flex_flow": null,
            "grid_area": null,
            "grid_auto_columns": null,
            "grid_auto_flow": null,
            "grid_auto_rows": null,
            "grid_column": null,
            "grid_gap": null,
            "grid_row": null,
            "grid_template_areas": null,
            "grid_template_columns": null,
            "grid_template_rows": null,
            "height": null,
            "justify_content": null,
            "justify_items": null,
            "left": null,
            "margin": null,
            "max_height": null,
            "max_width": null,
            "min_height": null,
            "min_width": null,
            "object_fit": null,
            "object_position": null,
            "order": null,
            "overflow": null,
            "overflow_x": null,
            "overflow_y": null,
            "padding": null,
            "right": null,
            "top": null,
            "visibility": null,
            "width": null
          }
        },
        "c60c8462c7d2403396e0ae909e74a6a3": {
          "model_module": "@jupyter-widgets/controls",
          "model_name": "DescriptionStyleModel",
          "model_module_version": "1.5.0",
          "state": {
            "_model_module": "@jupyter-widgets/controls",
            "_model_module_version": "1.5.0",
            "_model_name": "DescriptionStyleModel",
            "_view_count": null,
            "_view_module": "@jupyter-widgets/base",
            "_view_module_version": "1.2.0",
            "_view_name": "StyleView",
            "description_width": ""
          }
        },
        "94b298938c83453baaae3463304cb501": {
          "model_module": "@jupyter-widgets/base",
          "model_name": "LayoutModel",
          "model_module_version": "1.2.0",
          "state": {
            "_model_module": "@jupyter-widgets/base",
            "_model_module_version": "1.2.0",
            "_model_name": "LayoutModel",
            "_view_count": null,
            "_view_module": "@jupyter-widgets/base",
            "_view_module_version": "1.2.0",
            "_view_name": "LayoutView",
            "align_content": null,
            "align_items": null,
            "align_self": null,
            "border": null,
            "bottom": null,
            "display": null,
            "flex": null,
            "flex_flow": null,
            "grid_area": null,
            "grid_auto_columns": null,
            "grid_auto_flow": null,
            "grid_auto_rows": null,
            "grid_column": null,
            "grid_gap": null,
            "grid_row": null,
            "grid_template_areas": null,
            "grid_template_columns": null,
            "grid_template_rows": null,
            "height": null,
            "justify_content": null,
            "justify_items": null,
            "left": null,
            "margin": null,
            "max_height": null,
            "max_width": null,
            "min_height": null,
            "min_width": null,
            "object_fit": null,
            "object_position": null,
            "order": null,
            "overflow": null,
            "overflow_x": null,
            "overflow_y": null,
            "padding": null,
            "right": null,
            "top": null,
            "visibility": null,
            "width": null
          }
        },
        "77d4095efc50498c89d0ddde5628c95c": {
          "model_module": "@jupyter-widgets/controls",
          "model_name": "ButtonStyleModel",
          "model_module_version": "1.5.0",
          "state": {
            "_model_module": "@jupyter-widgets/controls",
            "_model_module_version": "1.5.0",
            "_model_name": "ButtonStyleModel",
            "_view_count": null,
            "_view_module": "@jupyter-widgets/base",
            "_view_module_version": "1.2.0",
            "_view_name": "StyleView",
            "button_color": null,
            "font_weight": ""
          }
        },
        "4f52a58644b140249ddf1d36a8e78077": {
          "model_module": "@jupyter-widgets/base",
          "model_name": "LayoutModel",
          "model_module_version": "1.2.0",
          "state": {
            "_model_module": "@jupyter-widgets/base",
            "_model_module_version": "1.2.0",
            "_model_name": "LayoutModel",
            "_view_count": null,
            "_view_module": "@jupyter-widgets/base",
            "_view_module_version": "1.2.0",
            "_view_name": "LayoutView",
            "align_content": null,
            "align_items": null,
            "align_self": null,
            "border": null,
            "bottom": null,
            "display": null,
            "flex": null,
            "flex_flow": null,
            "grid_area": null,
            "grid_auto_columns": null,
            "grid_auto_flow": null,
            "grid_auto_rows": null,
            "grid_column": null,
            "grid_gap": null,
            "grid_row": null,
            "grid_template_areas": null,
            "grid_template_columns": null,
            "grid_template_rows": null,
            "height": null,
            "justify_content": null,
            "justify_items": null,
            "left": null,
            "margin": null,
            "max_height": null,
            "max_width": null,
            "min_height": null,
            "min_width": null,
            "object_fit": null,
            "object_position": null,
            "order": null,
            "overflow": null,
            "overflow_x": null,
            "overflow_y": null,
            "padding": null,
            "right": null,
            "top": null,
            "visibility": null,
            "width": null
          }
        },
        "e727d57b5a0e430eae7fd214ad09b10e": {
          "model_module": "@jupyter-widgets/controls",
          "model_name": "DescriptionStyleModel",
          "model_module_version": "1.5.0",
          "state": {
            "_model_module": "@jupyter-widgets/controls",
            "_model_module_version": "1.5.0",
            "_model_name": "DescriptionStyleModel",
            "_view_count": null,
            "_view_module": "@jupyter-widgets/base",
            "_view_module_version": "1.2.0",
            "_view_name": "StyleView",
            "description_width": ""
          }
        },
        "595a3b9c89e746468bd87941e61d92f2": {
          "model_module": "@jupyter-widgets/controls",
          "model_name": "HBoxModel",
          "model_module_version": "1.5.0",
          "state": {
            "_dom_classes": [],
            "_model_module": "@jupyter-widgets/controls",
            "_model_module_version": "1.5.0",
            "_model_name": "HBoxModel",
            "_view_count": null,
            "_view_module": "@jupyter-widgets/controls",
            "_view_module_version": "1.5.0",
            "_view_name": "HBoxView",
            "box_style": "",
            "children": [
              "IPY_MODEL_7a571616934a412ba2fc41870aab8be7",
              "IPY_MODEL_ef64062da4224437bda309282f9087b1",
              "IPY_MODEL_b7d7039f6ac14a31824516ddd8a3bf60"
            ],
            "layout": "IPY_MODEL_d3dbc548cd2945d3bbc4001ab1abfbe3"
          }
        },
        "7a571616934a412ba2fc41870aab8be7": {
          "model_module": "@jupyter-widgets/controls",
          "model_name": "HTMLModel",
          "model_module_version": "1.5.0",
          "state": {
            "_dom_classes": [],
            "_model_module": "@jupyter-widgets/controls",
            "_model_module_version": "1.5.0",
            "_model_name": "HTMLModel",
            "_view_count": null,
            "_view_module": "@jupyter-widgets/controls",
            "_view_module_version": "1.5.0",
            "_view_name": "HTMLView",
            "description": "",
            "description_tooltip": null,
            "layout": "IPY_MODEL_ee8c1894b04149bcbb49743d74764929",
            "placeholder": "​",
            "style": "IPY_MODEL_e500d47a507c48fbb8d018c4ffbecd40",
            "value": "config.json: 100%"
          }
        },
        "ef64062da4224437bda309282f9087b1": {
          "model_module": "@jupyter-widgets/controls",
          "model_name": "FloatProgressModel",
          "model_module_version": "1.5.0",
          "state": {
            "_dom_classes": [],
            "_model_module": "@jupyter-widgets/controls",
            "_model_module_version": "1.5.0",
            "_model_name": "FloatProgressModel",
            "_view_count": null,
            "_view_module": "@jupyter-widgets/controls",
            "_view_module_version": "1.5.0",
            "_view_name": "ProgressView",
            "bar_style": "success",
            "description": "",
            "description_tooltip": null,
            "layout": "IPY_MODEL_219a72668df14dc9951add9a809ed70b",
            "max": 818,
            "min": 0,
            "orientation": "horizontal",
            "style": "IPY_MODEL_0775ff78f3c646bbbda551a4cae8cb50",
            "value": 818
          }
        },
        "b7d7039f6ac14a31824516ddd8a3bf60": {
          "model_module": "@jupyter-widgets/controls",
          "model_name": "HTMLModel",
          "model_module_version": "1.5.0",
          "state": {
            "_dom_classes": [],
            "_model_module": "@jupyter-widgets/controls",
            "_model_module_version": "1.5.0",
            "_model_name": "HTMLModel",
            "_view_count": null,
            "_view_module": "@jupyter-widgets/controls",
            "_view_module_version": "1.5.0",
            "_view_name": "HTMLView",
            "description": "",
            "description_tooltip": null,
            "layout": "IPY_MODEL_59b04749178c49a8a9f2d988e1a3b95b",
            "placeholder": "​",
            "style": "IPY_MODEL_430cdb661030427b8a5eb9f35c7d6073",
            "value": " 818/818 [00:00&lt;00:00, 62.0kB/s]"
          }
        },
        "d3dbc548cd2945d3bbc4001ab1abfbe3": {
          "model_module": "@jupyter-widgets/base",
          "model_name": "LayoutModel",
          "model_module_version": "1.2.0",
          "state": {
            "_model_module": "@jupyter-widgets/base",
            "_model_module_version": "1.2.0",
            "_model_name": "LayoutModel",
            "_view_count": null,
            "_view_module": "@jupyter-widgets/base",
            "_view_module_version": "1.2.0",
            "_view_name": "LayoutView",
            "align_content": null,
            "align_items": null,
            "align_self": null,
            "border": null,
            "bottom": null,
            "display": null,
            "flex": null,
            "flex_flow": null,
            "grid_area": null,
            "grid_auto_columns": null,
            "grid_auto_flow": null,
            "grid_auto_rows": null,
            "grid_column": null,
            "grid_gap": null,
            "grid_row": null,
            "grid_template_areas": null,
            "grid_template_columns": null,
            "grid_template_rows": null,
            "height": null,
            "justify_content": null,
            "justify_items": null,
            "left": null,
            "margin": null,
            "max_height": null,
            "max_width": null,
            "min_height": null,
            "min_width": null,
            "object_fit": null,
            "object_position": null,
            "order": null,
            "overflow": null,
            "overflow_x": null,
            "overflow_y": null,
            "padding": null,
            "right": null,
            "top": null,
            "visibility": null,
            "width": null
          }
        },
        "ee8c1894b04149bcbb49743d74764929": {
          "model_module": "@jupyter-widgets/base",
          "model_name": "LayoutModel",
          "model_module_version": "1.2.0",
          "state": {
            "_model_module": "@jupyter-widgets/base",
            "_model_module_version": "1.2.0",
            "_model_name": "LayoutModel",
            "_view_count": null,
            "_view_module": "@jupyter-widgets/base",
            "_view_module_version": "1.2.0",
            "_view_name": "LayoutView",
            "align_content": null,
            "align_items": null,
            "align_self": null,
            "border": null,
            "bottom": null,
            "display": null,
            "flex": null,
            "flex_flow": null,
            "grid_area": null,
            "grid_auto_columns": null,
            "grid_auto_flow": null,
            "grid_auto_rows": null,
            "grid_column": null,
            "grid_gap": null,
            "grid_row": null,
            "grid_template_areas": null,
            "grid_template_columns": null,
            "grid_template_rows": null,
            "height": null,
            "justify_content": null,
            "justify_items": null,
            "left": null,
            "margin": null,
            "max_height": null,
            "max_width": null,
            "min_height": null,
            "min_width": null,
            "object_fit": null,
            "object_position": null,
            "order": null,
            "overflow": null,
            "overflow_x": null,
            "overflow_y": null,
            "padding": null,
            "right": null,
            "top": null,
            "visibility": null,
            "width": null
          }
        },
        "e500d47a507c48fbb8d018c4ffbecd40": {
          "model_module": "@jupyter-widgets/controls",
          "model_name": "DescriptionStyleModel",
          "model_module_version": "1.5.0",
          "state": {
            "_model_module": "@jupyter-widgets/controls",
            "_model_module_version": "1.5.0",
            "_model_name": "DescriptionStyleModel",
            "_view_count": null,
            "_view_module": "@jupyter-widgets/base",
            "_view_module_version": "1.2.0",
            "_view_name": "StyleView",
            "description_width": ""
          }
        },
        "219a72668df14dc9951add9a809ed70b": {
          "model_module": "@jupyter-widgets/base",
          "model_name": "LayoutModel",
          "model_module_version": "1.2.0",
          "state": {
            "_model_module": "@jupyter-widgets/base",
            "_model_module_version": "1.2.0",
            "_model_name": "LayoutModel",
            "_view_count": null,
            "_view_module": "@jupyter-widgets/base",
            "_view_module_version": "1.2.0",
            "_view_name": "LayoutView",
            "align_content": null,
            "align_items": null,
            "align_self": null,
            "border": null,
            "bottom": null,
            "display": null,
            "flex": null,
            "flex_flow": null,
            "grid_area": null,
            "grid_auto_columns": null,
            "grid_auto_flow": null,
            "grid_auto_rows": null,
            "grid_column": null,
            "grid_gap": null,
            "grid_row": null,
            "grid_template_areas": null,
            "grid_template_columns": null,
            "grid_template_rows": null,
            "height": null,
            "justify_content": null,
            "justify_items": null,
            "left": null,
            "margin": null,
            "max_height": null,
            "max_width": null,
            "min_height": null,
            "min_width": null,
            "object_fit": null,
            "object_position": null,
            "order": null,
            "overflow": null,
            "overflow_x": null,
            "overflow_y": null,
            "padding": null,
            "right": null,
            "top": null,
            "visibility": null,
            "width": null
          }
        },
        "0775ff78f3c646bbbda551a4cae8cb50": {
          "model_module": "@jupyter-widgets/controls",
          "model_name": "ProgressStyleModel",
          "model_module_version": "1.5.0",
          "state": {
            "_model_module": "@jupyter-widgets/controls",
            "_model_module_version": "1.5.0",
            "_model_name": "ProgressStyleModel",
            "_view_count": null,
            "_view_module": "@jupyter-widgets/base",
            "_view_module_version": "1.2.0",
            "_view_name": "StyleView",
            "bar_color": null,
            "description_width": ""
          }
        },
        "59b04749178c49a8a9f2d988e1a3b95b": {
          "model_module": "@jupyter-widgets/base",
          "model_name": "LayoutModel",
          "model_module_version": "1.2.0",
          "state": {
            "_model_module": "@jupyter-widgets/base",
            "_model_module_version": "1.2.0",
            "_model_name": "LayoutModel",
            "_view_count": null,
            "_view_module": "@jupyter-widgets/base",
            "_view_module_version": "1.2.0",
            "_view_name": "LayoutView",
            "align_content": null,
            "align_items": null,
            "align_self": null,
            "border": null,
            "bottom": null,
            "display": null,
            "flex": null,
            "flex_flow": null,
            "grid_area": null,
            "grid_auto_columns": null,
            "grid_auto_flow": null,
            "grid_auto_rows": null,
            "grid_column": null,
            "grid_gap": null,
            "grid_row": null,
            "grid_template_areas": null,
            "grid_template_columns": null,
            "grid_template_rows": null,
            "height": null,
            "justify_content": null,
            "justify_items": null,
            "left": null,
            "margin": null,
            "max_height": null,
            "max_width": null,
            "min_height": null,
            "min_width": null,
            "object_fit": null,
            "object_position": null,
            "order": null,
            "overflow": null,
            "overflow_x": null,
            "overflow_y": null,
            "padding": null,
            "right": null,
            "top": null,
            "visibility": null,
            "width": null
          }
        },
        "430cdb661030427b8a5eb9f35c7d6073": {
          "model_module": "@jupyter-widgets/controls",
          "model_name": "DescriptionStyleModel",
          "model_module_version": "1.5.0",
          "state": {
            "_model_module": "@jupyter-widgets/controls",
            "_model_module_version": "1.5.0",
            "_model_name": "DescriptionStyleModel",
            "_view_count": null,
            "_view_module": "@jupyter-widgets/base",
            "_view_module_version": "1.2.0",
            "_view_name": "StyleView",
            "description_width": ""
          }
        },
        "93edefcb8e7f4efc8fcf7e9f5568ccb3": {
          "model_module": "@jupyter-widgets/controls",
          "model_name": "HBoxModel",
          "model_module_version": "1.5.0",
          "state": {
            "_dom_classes": [],
            "_model_module": "@jupyter-widgets/controls",
            "_model_module_version": "1.5.0",
            "_model_name": "HBoxModel",
            "_view_count": null,
            "_view_module": "@jupyter-widgets/controls",
            "_view_module_version": "1.5.0",
            "_view_name": "HBoxView",
            "box_style": "",
            "children": [
              "IPY_MODEL_637eca6a263e4f0a9ef7774e1399b0b6",
              "IPY_MODEL_a888efeddbf44a52b3b75904ca1b51ed",
              "IPY_MODEL_6e8c635320854fa687a300cfe5ea6436"
            ],
            "layout": "IPY_MODEL_d07fe16265d24a0baa8da5e37b2bea98"
          }
        },
        "637eca6a263e4f0a9ef7774e1399b0b6": {
          "model_module": "@jupyter-widgets/controls",
          "model_name": "HTMLModel",
          "model_module_version": "1.5.0",
          "state": {
            "_dom_classes": [],
            "_model_module": "@jupyter-widgets/controls",
            "_model_module_version": "1.5.0",
            "_model_name": "HTMLModel",
            "_view_count": null,
            "_view_module": "@jupyter-widgets/controls",
            "_view_module_version": "1.5.0",
            "_view_name": "HTMLView",
            "description": "",
            "description_tooltip": null,
            "layout": "IPY_MODEL_d24bb23c57e9415598fc803683f938de",
            "placeholder": "​",
            "style": "IPY_MODEL_1be14c135ed440b882d1aa5df2eda3e7",
            "value": "model.safetensors.index.json: 100%"
          }
        },
        "a888efeddbf44a52b3b75904ca1b51ed": {
          "model_module": "@jupyter-widgets/controls",
          "model_name": "FloatProgressModel",
          "model_module_version": "1.5.0",
          "state": {
            "_dom_classes": [],
            "_model_module": "@jupyter-widgets/controls",
            "_model_module_version": "1.5.0",
            "_model_name": "FloatProgressModel",
            "_view_count": null,
            "_view_module": "@jupyter-widgets/controls",
            "_view_module_version": "1.5.0",
            "_view_name": "ProgressView",
            "bar_style": "success",
            "description": "",
            "description_tooltip": null,
            "layout": "IPY_MODEL_b686c43cdb594b44ade40b9bdec88941",
            "max": 24224,
            "min": 0,
            "orientation": "horizontal",
            "style": "IPY_MODEL_e487e1cbffdd4173ba53ca5257b2c375",
            "value": 24224
          }
        },
        "6e8c635320854fa687a300cfe5ea6436": {
          "model_module": "@jupyter-widgets/controls",
          "model_name": "HTMLModel",
          "model_module_version": "1.5.0",
          "state": {
            "_dom_classes": [],
            "_model_module": "@jupyter-widgets/controls",
            "_model_module_version": "1.5.0",
            "_model_name": "HTMLModel",
            "_view_count": null,
            "_view_module": "@jupyter-widgets/controls",
            "_view_module_version": "1.5.0",
            "_view_name": "HTMLView",
            "description": "",
            "description_tooltip": null,
            "layout": "IPY_MODEL_fd94a833ba9e45948120f0a28dd81000",
            "placeholder": "​",
            "style": "IPY_MODEL_cb882dc877514c72bc7d47e937b6bfee",
            "value": " 24.2k/24.2k [00:00&lt;00:00, 1.92MB/s]"
          }
        },
        "d07fe16265d24a0baa8da5e37b2bea98": {
          "model_module": "@jupyter-widgets/base",
          "model_name": "LayoutModel",
          "model_module_version": "1.2.0",
          "state": {
            "_model_module": "@jupyter-widgets/base",
            "_model_module_version": "1.2.0",
            "_model_name": "LayoutModel",
            "_view_count": null,
            "_view_module": "@jupyter-widgets/base",
            "_view_module_version": "1.2.0",
            "_view_name": "LayoutView",
            "align_content": null,
            "align_items": null,
            "align_self": null,
            "border": null,
            "bottom": null,
            "display": null,
            "flex": null,
            "flex_flow": null,
            "grid_area": null,
            "grid_auto_columns": null,
            "grid_auto_flow": null,
            "grid_auto_rows": null,
            "grid_column": null,
            "grid_gap": null,
            "grid_row": null,
            "grid_template_areas": null,
            "grid_template_columns": null,
            "grid_template_rows": null,
            "height": null,
            "justify_content": null,
            "justify_items": null,
            "left": null,
            "margin": null,
            "max_height": null,
            "max_width": null,
            "min_height": null,
            "min_width": null,
            "object_fit": null,
            "object_position": null,
            "order": null,
            "overflow": null,
            "overflow_x": null,
            "overflow_y": null,
            "padding": null,
            "right": null,
            "top": null,
            "visibility": null,
            "width": null
          }
        },
        "d24bb23c57e9415598fc803683f938de": {
          "model_module": "@jupyter-widgets/base",
          "model_name": "LayoutModel",
          "model_module_version": "1.2.0",
          "state": {
            "_model_module": "@jupyter-widgets/base",
            "_model_module_version": "1.2.0",
            "_model_name": "LayoutModel",
            "_view_count": null,
            "_view_module": "@jupyter-widgets/base",
            "_view_module_version": "1.2.0",
            "_view_name": "LayoutView",
            "align_content": null,
            "align_items": null,
            "align_self": null,
            "border": null,
            "bottom": null,
            "display": null,
            "flex": null,
            "flex_flow": null,
            "grid_area": null,
            "grid_auto_columns": null,
            "grid_auto_flow": null,
            "grid_auto_rows": null,
            "grid_column": null,
            "grid_gap": null,
            "grid_row": null,
            "grid_template_areas": null,
            "grid_template_columns": null,
            "grid_template_rows": null,
            "height": null,
            "justify_content": null,
            "justify_items": null,
            "left": null,
            "margin": null,
            "max_height": null,
            "max_width": null,
            "min_height": null,
            "min_width": null,
            "object_fit": null,
            "object_position": null,
            "order": null,
            "overflow": null,
            "overflow_x": null,
            "overflow_y": null,
            "padding": null,
            "right": null,
            "top": null,
            "visibility": null,
            "width": null
          }
        },
        "1be14c135ed440b882d1aa5df2eda3e7": {
          "model_module": "@jupyter-widgets/controls",
          "model_name": "DescriptionStyleModel",
          "model_module_version": "1.5.0",
          "state": {
            "_model_module": "@jupyter-widgets/controls",
            "_model_module_version": "1.5.0",
            "_model_name": "DescriptionStyleModel",
            "_view_count": null,
            "_view_module": "@jupyter-widgets/base",
            "_view_module_version": "1.2.0",
            "_view_name": "StyleView",
            "description_width": ""
          }
        },
        "b686c43cdb594b44ade40b9bdec88941": {
          "model_module": "@jupyter-widgets/base",
          "model_name": "LayoutModel",
          "model_module_version": "1.2.0",
          "state": {
            "_model_module": "@jupyter-widgets/base",
            "_model_module_version": "1.2.0",
            "_model_name": "LayoutModel",
            "_view_count": null,
            "_view_module": "@jupyter-widgets/base",
            "_view_module_version": "1.2.0",
            "_view_name": "LayoutView",
            "align_content": null,
            "align_items": null,
            "align_self": null,
            "border": null,
            "bottom": null,
            "display": null,
            "flex": null,
            "flex_flow": null,
            "grid_area": null,
            "grid_auto_columns": null,
            "grid_auto_flow": null,
            "grid_auto_rows": null,
            "grid_column": null,
            "grid_gap": null,
            "grid_row": null,
            "grid_template_areas": null,
            "grid_template_columns": null,
            "grid_template_rows": null,
            "height": null,
            "justify_content": null,
            "justify_items": null,
            "left": null,
            "margin": null,
            "max_height": null,
            "max_width": null,
            "min_height": null,
            "min_width": null,
            "object_fit": null,
            "object_position": null,
            "order": null,
            "overflow": null,
            "overflow_x": null,
            "overflow_y": null,
            "padding": null,
            "right": null,
            "top": null,
            "visibility": null,
            "width": null
          }
        },
        "e487e1cbffdd4173ba53ca5257b2c375": {
          "model_module": "@jupyter-widgets/controls",
          "model_name": "ProgressStyleModel",
          "model_module_version": "1.5.0",
          "state": {
            "_model_module": "@jupyter-widgets/controls",
            "_model_module_version": "1.5.0",
            "_model_name": "ProgressStyleModel",
            "_view_count": null,
            "_view_module": "@jupyter-widgets/base",
            "_view_module_version": "1.2.0",
            "_view_name": "StyleView",
            "bar_color": null,
            "description_width": ""
          }
        },
        "fd94a833ba9e45948120f0a28dd81000": {
          "model_module": "@jupyter-widgets/base",
          "model_name": "LayoutModel",
          "model_module_version": "1.2.0",
          "state": {
            "_model_module": "@jupyter-widgets/base",
            "_model_module_version": "1.2.0",
            "_model_name": "LayoutModel",
            "_view_count": null,
            "_view_module": "@jupyter-widgets/base",
            "_view_module_version": "1.2.0",
            "_view_name": "LayoutView",
            "align_content": null,
            "align_items": null,
            "align_self": null,
            "border": null,
            "bottom": null,
            "display": null,
            "flex": null,
            "flex_flow": null,
            "grid_area": null,
            "grid_auto_columns": null,
            "grid_auto_flow": null,
            "grid_auto_rows": null,
            "grid_column": null,
            "grid_gap": null,
            "grid_row": null,
            "grid_template_areas": null,
            "grid_template_columns": null,
            "grid_template_rows": null,
            "height": null,
            "justify_content": null,
            "justify_items": null,
            "left": null,
            "margin": null,
            "max_height": null,
            "max_width": null,
            "min_height": null,
            "min_width": null,
            "object_fit": null,
            "object_position": null,
            "order": null,
            "overflow": null,
            "overflow_x": null,
            "overflow_y": null,
            "padding": null,
            "right": null,
            "top": null,
            "visibility": null,
            "width": null
          }
        },
        "cb882dc877514c72bc7d47e937b6bfee": {
          "model_module": "@jupyter-widgets/controls",
          "model_name": "DescriptionStyleModel",
          "model_module_version": "1.5.0",
          "state": {
            "_model_module": "@jupyter-widgets/controls",
            "_model_module_version": "1.5.0",
            "_model_name": "DescriptionStyleModel",
            "_view_count": null,
            "_view_module": "@jupyter-widgets/base",
            "_view_module_version": "1.2.0",
            "_view_name": "StyleView",
            "description_width": ""
          }
        },
        "7e95191fb24c4d02af38a617f5b4a1fb": {
          "model_module": "@jupyter-widgets/controls",
          "model_name": "HBoxModel",
          "model_module_version": "1.5.0",
          "state": {
            "_dom_classes": [],
            "_model_module": "@jupyter-widgets/controls",
            "_model_module_version": "1.5.0",
            "_model_name": "HBoxModel",
            "_view_count": null,
            "_view_module": "@jupyter-widgets/controls",
            "_view_module_version": "1.5.0",
            "_view_name": "HBoxView",
            "box_style": "",
            "children": [
              "IPY_MODEL_28d1360c10724dc68a49dd2af2b523c8",
              "IPY_MODEL_41a4a8206c68485496b2c39b20b31fe0",
              "IPY_MODEL_df9c6338a7fd49b8b822688d99a0b9a7"
            ],
            "layout": "IPY_MODEL_4988af0aafb1404b9fe4d4b03fa46d20"
          }
        },
        "28d1360c10724dc68a49dd2af2b523c8": {
          "model_module": "@jupyter-widgets/controls",
          "model_name": "HTMLModel",
          "model_module_version": "1.5.0",
          "state": {
            "_dom_classes": [],
            "_model_module": "@jupyter-widgets/controls",
            "_model_module_version": "1.5.0",
            "_model_name": "HTMLModel",
            "_view_count": null,
            "_view_module": "@jupyter-widgets/controls",
            "_view_module_version": "1.5.0",
            "_view_name": "HTMLView",
            "description": "",
            "description_tooltip": null,
            "layout": "IPY_MODEL_a45ba91ed1f7483597825f8f502ba936",
            "placeholder": "​",
            "style": "IPY_MODEL_5f1446909a1c46ef9e64bb1b301003c2",
            "value": "model-00001-of-00003.safetensors: 100%"
          }
        },
        "41a4a8206c68485496b2c39b20b31fe0": {
          "model_module": "@jupyter-widgets/controls",
          "model_name": "FloatProgressModel",
          "model_module_version": "1.5.0",
          "state": {
            "_dom_classes": [],
            "_model_module": "@jupyter-widgets/controls",
            "_model_module_version": "1.5.0",
            "_model_name": "FloatProgressModel",
            "_view_count": null,
            "_view_module": "@jupyter-widgets/controls",
            "_view_module_version": "1.5.0",
            "_view_name": "ProgressView",
            "bar_style": "success",
            "description": "",
            "description_tooltip": null,
            "layout": "IPY_MODEL_8c55e43481834b429090daad2cce0cfe",
            "max": 4992576136,
            "min": 0,
            "orientation": "horizontal",
            "style": "IPY_MODEL_5c9f95786b1942c1a26770a8d09b0ac9",
            "value": 4992576136
          }
        },
        "df9c6338a7fd49b8b822688d99a0b9a7": {
          "model_module": "@jupyter-widgets/controls",
          "model_name": "HTMLModel",
          "model_module_version": "1.5.0",
          "state": {
            "_dom_classes": [],
            "_model_module": "@jupyter-widgets/controls",
            "_model_module_version": "1.5.0",
            "_model_name": "HTMLModel",
            "_view_count": null,
            "_view_module": "@jupyter-widgets/controls",
            "_view_module_version": "1.5.0",
            "_view_name": "HTMLView",
            "description": "",
            "description_tooltip": null,
            "layout": "IPY_MODEL_7f47c232872148ceaf849ad3575af828",
            "placeholder": "​",
            "style": "IPY_MODEL_c4f53807b23245c59fe02fe0b0d54f13",
            "value": " 4.99G/4.99G [01:58&lt;00:00, 38.2MB/s]"
          }
        },
        "4988af0aafb1404b9fe4d4b03fa46d20": {
          "model_module": "@jupyter-widgets/base",
          "model_name": "LayoutModel",
          "model_module_version": "1.2.0",
          "state": {
            "_model_module": "@jupyter-widgets/base",
            "_model_module_version": "1.2.0",
            "_model_name": "LayoutModel",
            "_view_count": null,
            "_view_module": "@jupyter-widgets/base",
            "_view_module_version": "1.2.0",
            "_view_name": "LayoutView",
            "align_content": null,
            "align_items": null,
            "align_self": null,
            "border": null,
            "bottom": null,
            "display": null,
            "flex": null,
            "flex_flow": null,
            "grid_area": null,
            "grid_auto_columns": null,
            "grid_auto_flow": null,
            "grid_auto_rows": null,
            "grid_column": null,
            "grid_gap": null,
            "grid_row": null,
            "grid_template_areas": null,
            "grid_template_columns": null,
            "grid_template_rows": null,
            "height": null,
            "justify_content": null,
            "justify_items": null,
            "left": null,
            "margin": null,
            "max_height": null,
            "max_width": null,
            "min_height": null,
            "min_width": null,
            "object_fit": null,
            "object_position": null,
            "order": null,
            "overflow": null,
            "overflow_x": null,
            "overflow_y": null,
            "padding": null,
            "right": null,
            "top": null,
            "visibility": null,
            "width": null
          }
        },
        "a45ba91ed1f7483597825f8f502ba936": {
          "model_module": "@jupyter-widgets/base",
          "model_name": "LayoutModel",
          "model_module_version": "1.2.0",
          "state": {
            "_model_module": "@jupyter-widgets/base",
            "_model_module_version": "1.2.0",
            "_model_name": "LayoutModel",
            "_view_count": null,
            "_view_module": "@jupyter-widgets/base",
            "_view_module_version": "1.2.0",
            "_view_name": "LayoutView",
            "align_content": null,
            "align_items": null,
            "align_self": null,
            "border": null,
            "bottom": null,
            "display": null,
            "flex": null,
            "flex_flow": null,
            "grid_area": null,
            "grid_auto_columns": null,
            "grid_auto_flow": null,
            "grid_auto_rows": null,
            "grid_column": null,
            "grid_gap": null,
            "grid_row": null,
            "grid_template_areas": null,
            "grid_template_columns": null,
            "grid_template_rows": null,
            "height": null,
            "justify_content": null,
            "justify_items": null,
            "left": null,
            "margin": null,
            "max_height": null,
            "max_width": null,
            "min_height": null,
            "min_width": null,
            "object_fit": null,
            "object_position": null,
            "order": null,
            "overflow": null,
            "overflow_x": null,
            "overflow_y": null,
            "padding": null,
            "right": null,
            "top": null,
            "visibility": null,
            "width": null
          }
        },
        "5f1446909a1c46ef9e64bb1b301003c2": {
          "model_module": "@jupyter-widgets/controls",
          "model_name": "DescriptionStyleModel",
          "model_module_version": "1.5.0",
          "state": {
            "_model_module": "@jupyter-widgets/controls",
            "_model_module_version": "1.5.0",
            "_model_name": "DescriptionStyleModel",
            "_view_count": null,
            "_view_module": "@jupyter-widgets/base",
            "_view_module_version": "1.2.0",
            "_view_name": "StyleView",
            "description_width": ""
          }
        },
        "8c55e43481834b429090daad2cce0cfe": {
          "model_module": "@jupyter-widgets/base",
          "model_name": "LayoutModel",
          "model_module_version": "1.2.0",
          "state": {
            "_model_module": "@jupyter-widgets/base",
            "_model_module_version": "1.2.0",
            "_model_name": "LayoutModel",
            "_view_count": null,
            "_view_module": "@jupyter-widgets/base",
            "_view_module_version": "1.2.0",
            "_view_name": "LayoutView",
            "align_content": null,
            "align_items": null,
            "align_self": null,
            "border": null,
            "bottom": null,
            "display": null,
            "flex": null,
            "flex_flow": null,
            "grid_area": null,
            "grid_auto_columns": null,
            "grid_auto_flow": null,
            "grid_auto_rows": null,
            "grid_column": null,
            "grid_gap": null,
            "grid_row": null,
            "grid_template_areas": null,
            "grid_template_columns": null,
            "grid_template_rows": null,
            "height": null,
            "justify_content": null,
            "justify_items": null,
            "left": null,
            "margin": null,
            "max_height": null,
            "max_width": null,
            "min_height": null,
            "min_width": null,
            "object_fit": null,
            "object_position": null,
            "order": null,
            "overflow": null,
            "overflow_x": null,
            "overflow_y": null,
            "padding": null,
            "right": null,
            "top": null,
            "visibility": null,
            "width": null
          }
        },
        "5c9f95786b1942c1a26770a8d09b0ac9": {
          "model_module": "@jupyter-widgets/controls",
          "model_name": "ProgressStyleModel",
          "model_module_version": "1.5.0",
          "state": {
            "_model_module": "@jupyter-widgets/controls",
            "_model_module_version": "1.5.0",
            "_model_name": "ProgressStyleModel",
            "_view_count": null,
            "_view_module": "@jupyter-widgets/base",
            "_view_module_version": "1.2.0",
            "_view_name": "StyleView",
            "bar_color": null,
            "description_width": ""
          }
        },
        "7f47c232872148ceaf849ad3575af828": {
          "model_module": "@jupyter-widgets/base",
          "model_name": "LayoutModel",
          "model_module_version": "1.2.0",
          "state": {
            "_model_module": "@jupyter-widgets/base",
            "_model_module_version": "1.2.0",
            "_model_name": "LayoutModel",
            "_view_count": null,
            "_view_module": "@jupyter-widgets/base",
            "_view_module_version": "1.2.0",
            "_view_name": "LayoutView",
            "align_content": null,
            "align_items": null,
            "align_self": null,
            "border": null,
            "bottom": null,
            "display": null,
            "flex": null,
            "flex_flow": null,
            "grid_area": null,
            "grid_auto_columns": null,
            "grid_auto_flow": null,
            "grid_auto_rows": null,
            "grid_column": null,
            "grid_gap": null,
            "grid_row": null,
            "grid_template_areas": null,
            "grid_template_columns": null,
            "grid_template_rows": null,
            "height": null,
            "justify_content": null,
            "justify_items": null,
            "left": null,
            "margin": null,
            "max_height": null,
            "max_width": null,
            "min_height": null,
            "min_width": null,
            "object_fit": null,
            "object_position": null,
            "order": null,
            "overflow": null,
            "overflow_x": null,
            "overflow_y": null,
            "padding": null,
            "right": null,
            "top": null,
            "visibility": null,
            "width": null
          }
        },
        "c4f53807b23245c59fe02fe0b0d54f13": {
          "model_module": "@jupyter-widgets/controls",
          "model_name": "DescriptionStyleModel",
          "model_module_version": "1.5.0",
          "state": {
            "_model_module": "@jupyter-widgets/controls",
            "_model_module_version": "1.5.0",
            "_model_name": "DescriptionStyleModel",
            "_view_count": null,
            "_view_module": "@jupyter-widgets/base",
            "_view_module_version": "1.2.0",
            "_view_name": "StyleView",
            "description_width": ""
          }
        },
        "747f76e88c1f490fbd0c283c2eabaf5f": {
          "model_module": "@jupyter-widgets/controls",
          "model_name": "HBoxModel",
          "model_module_version": "1.5.0",
          "state": {
            "_dom_classes": [],
            "_model_module": "@jupyter-widgets/controls",
            "_model_module_version": "1.5.0",
            "_model_name": "HBoxModel",
            "_view_count": null,
            "_view_module": "@jupyter-widgets/controls",
            "_view_module_version": "1.5.0",
            "_view_name": "HBoxView",
            "box_style": "",
            "children": [
              "IPY_MODEL_65aa3ebb79d043f9b76ed047b12260ac",
              "IPY_MODEL_03a17d76c10941589bb1f37c2ffbb504",
              "IPY_MODEL_461dd0a0ef8e4542970bc3601c84514d"
            ],
            "layout": "IPY_MODEL_d131bd545b1e43318123ab8f9cff6be4"
          }
        },
        "65aa3ebb79d043f9b76ed047b12260ac": {
          "model_module": "@jupyter-widgets/controls",
          "model_name": "HTMLModel",
          "model_module_version": "1.5.0",
          "state": {
            "_dom_classes": [],
            "_model_module": "@jupyter-widgets/controls",
            "_model_module_version": "1.5.0",
            "_model_name": "HTMLModel",
            "_view_count": null,
            "_view_module": "@jupyter-widgets/controls",
            "_view_module_version": "1.5.0",
            "_view_name": "HTMLView",
            "description": "",
            "description_tooltip": null,
            "layout": "IPY_MODEL_64204634b1fc4b8db0a3a53fd42a501d",
            "placeholder": "​",
            "style": "IPY_MODEL_41304c8d3c15419895169df920cad9d5",
            "value": "model-00002-of-00003.safetensors: 100%"
          }
        },
        "03a17d76c10941589bb1f37c2ffbb504": {
          "model_module": "@jupyter-widgets/controls",
          "model_name": "FloatProgressModel",
          "model_module_version": "1.5.0",
          "state": {
            "_dom_classes": [],
            "_model_module": "@jupyter-widgets/controls",
            "_model_module_version": "1.5.0",
            "_model_name": "FloatProgressModel",
            "_view_count": null,
            "_view_module": "@jupyter-widgets/controls",
            "_view_module_version": "1.5.0",
            "_view_name": "ProgressView",
            "bar_style": "success",
            "description": "",
            "description_tooltip": null,
            "layout": "IPY_MODEL_e23be18c29314bb49348cadbd04bc0b0",
            "max": 4983443424,
            "min": 0,
            "orientation": "horizontal",
            "style": "IPY_MODEL_bf8b1c06c3254a3ba15c3ed60e7aa6c9",
            "value": 4983443424
          }
        },
        "461dd0a0ef8e4542970bc3601c84514d": {
          "model_module": "@jupyter-widgets/controls",
          "model_name": "HTMLModel",
          "model_module_version": "1.5.0",
          "state": {
            "_dom_classes": [],
            "_model_module": "@jupyter-widgets/controls",
            "_model_module_version": "1.5.0",
            "_model_name": "HTMLModel",
            "_view_count": null,
            "_view_module": "@jupyter-widgets/controls",
            "_view_module_version": "1.5.0",
            "_view_name": "HTMLView",
            "description": "",
            "description_tooltip": null,
            "layout": "IPY_MODEL_2bc91eca22eb48e8b87c01ab93b9d84b",
            "placeholder": "​",
            "style": "IPY_MODEL_0087344202e845bd99298b0c481c470f",
            "value": " 4.98G/4.98G [01:58&lt;00:00, 42.2MB/s]"
          }
        },
        "d131bd545b1e43318123ab8f9cff6be4": {
          "model_module": "@jupyter-widgets/base",
          "model_name": "LayoutModel",
          "model_module_version": "1.2.0",
          "state": {
            "_model_module": "@jupyter-widgets/base",
            "_model_module_version": "1.2.0",
            "_model_name": "LayoutModel",
            "_view_count": null,
            "_view_module": "@jupyter-widgets/base",
            "_view_module_version": "1.2.0",
            "_view_name": "LayoutView",
            "align_content": null,
            "align_items": null,
            "align_self": null,
            "border": null,
            "bottom": null,
            "display": null,
            "flex": null,
            "flex_flow": null,
            "grid_area": null,
            "grid_auto_columns": null,
            "grid_auto_flow": null,
            "grid_auto_rows": null,
            "grid_column": null,
            "grid_gap": null,
            "grid_row": null,
            "grid_template_areas": null,
            "grid_template_columns": null,
            "grid_template_rows": null,
            "height": null,
            "justify_content": null,
            "justify_items": null,
            "left": null,
            "margin": null,
            "max_height": null,
            "max_width": null,
            "min_height": null,
            "min_width": null,
            "object_fit": null,
            "object_position": null,
            "order": null,
            "overflow": null,
            "overflow_x": null,
            "overflow_y": null,
            "padding": null,
            "right": null,
            "top": null,
            "visibility": null,
            "width": null
          }
        },
        "64204634b1fc4b8db0a3a53fd42a501d": {
          "model_module": "@jupyter-widgets/base",
          "model_name": "LayoutModel",
          "model_module_version": "1.2.0",
          "state": {
            "_model_module": "@jupyter-widgets/base",
            "_model_module_version": "1.2.0",
            "_model_name": "LayoutModel",
            "_view_count": null,
            "_view_module": "@jupyter-widgets/base",
            "_view_module_version": "1.2.0",
            "_view_name": "LayoutView",
            "align_content": null,
            "align_items": null,
            "align_self": null,
            "border": null,
            "bottom": null,
            "display": null,
            "flex": null,
            "flex_flow": null,
            "grid_area": null,
            "grid_auto_columns": null,
            "grid_auto_flow": null,
            "grid_auto_rows": null,
            "grid_column": null,
            "grid_gap": null,
            "grid_row": null,
            "grid_template_areas": null,
            "grid_template_columns": null,
            "grid_template_rows": null,
            "height": null,
            "justify_content": null,
            "justify_items": null,
            "left": null,
            "margin": null,
            "max_height": null,
            "max_width": null,
            "min_height": null,
            "min_width": null,
            "object_fit": null,
            "object_position": null,
            "order": null,
            "overflow": null,
            "overflow_x": null,
            "overflow_y": null,
            "padding": null,
            "right": null,
            "top": null,
            "visibility": null,
            "width": null
          }
        },
        "41304c8d3c15419895169df920cad9d5": {
          "model_module": "@jupyter-widgets/controls",
          "model_name": "DescriptionStyleModel",
          "model_module_version": "1.5.0",
          "state": {
            "_model_module": "@jupyter-widgets/controls",
            "_model_module_version": "1.5.0",
            "_model_name": "DescriptionStyleModel",
            "_view_count": null,
            "_view_module": "@jupyter-widgets/base",
            "_view_module_version": "1.2.0",
            "_view_name": "StyleView",
            "description_width": ""
          }
        },
        "e23be18c29314bb49348cadbd04bc0b0": {
          "model_module": "@jupyter-widgets/base",
          "model_name": "LayoutModel",
          "model_module_version": "1.2.0",
          "state": {
            "_model_module": "@jupyter-widgets/base",
            "_model_module_version": "1.2.0",
            "_model_name": "LayoutModel",
            "_view_count": null,
            "_view_module": "@jupyter-widgets/base",
            "_view_module_version": "1.2.0",
            "_view_name": "LayoutView",
            "align_content": null,
            "align_items": null,
            "align_self": null,
            "border": null,
            "bottom": null,
            "display": null,
            "flex": null,
            "flex_flow": null,
            "grid_area": null,
            "grid_auto_columns": null,
            "grid_auto_flow": null,
            "grid_auto_rows": null,
            "grid_column": null,
            "grid_gap": null,
            "grid_row": null,
            "grid_template_areas": null,
            "grid_template_columns": null,
            "grid_template_rows": null,
            "height": null,
            "justify_content": null,
            "justify_items": null,
            "left": null,
            "margin": null,
            "max_height": null,
            "max_width": null,
            "min_height": null,
            "min_width": null,
            "object_fit": null,
            "object_position": null,
            "order": null,
            "overflow": null,
            "overflow_x": null,
            "overflow_y": null,
            "padding": null,
            "right": null,
            "top": null,
            "visibility": null,
            "width": null
          }
        },
        "bf8b1c06c3254a3ba15c3ed60e7aa6c9": {
          "model_module": "@jupyter-widgets/controls",
          "model_name": "ProgressStyleModel",
          "model_module_version": "1.5.0",
          "state": {
            "_model_module": "@jupyter-widgets/controls",
            "_model_module_version": "1.5.0",
            "_model_name": "ProgressStyleModel",
            "_view_count": null,
            "_view_module": "@jupyter-widgets/base",
            "_view_module_version": "1.2.0",
            "_view_name": "StyleView",
            "bar_color": null,
            "description_width": ""
          }
        },
        "2bc91eca22eb48e8b87c01ab93b9d84b": {
          "model_module": "@jupyter-widgets/base",
          "model_name": "LayoutModel",
          "model_module_version": "1.2.0",
          "state": {
            "_model_module": "@jupyter-widgets/base",
            "_model_module_version": "1.2.0",
            "_model_name": "LayoutModel",
            "_view_count": null,
            "_view_module": "@jupyter-widgets/base",
            "_view_module_version": "1.2.0",
            "_view_name": "LayoutView",
            "align_content": null,
            "align_items": null,
            "align_self": null,
            "border": null,
            "bottom": null,
            "display": null,
            "flex": null,
            "flex_flow": null,
            "grid_area": null,
            "grid_auto_columns": null,
            "grid_auto_flow": null,
            "grid_auto_rows": null,
            "grid_column": null,
            "grid_gap": null,
            "grid_row": null,
            "grid_template_areas": null,
            "grid_template_columns": null,
            "grid_template_rows": null,
            "height": null,
            "justify_content": null,
            "justify_items": null,
            "left": null,
            "margin": null,
            "max_height": null,
            "max_width": null,
            "min_height": null,
            "min_width": null,
            "object_fit": null,
            "object_position": null,
            "order": null,
            "overflow": null,
            "overflow_x": null,
            "overflow_y": null,
            "padding": null,
            "right": null,
            "top": null,
            "visibility": null,
            "width": null
          }
        },
        "0087344202e845bd99298b0c481c470f": {
          "model_module": "@jupyter-widgets/controls",
          "model_name": "DescriptionStyleModel",
          "model_module_version": "1.5.0",
          "state": {
            "_model_module": "@jupyter-widgets/controls",
            "_model_module_version": "1.5.0",
            "_model_name": "DescriptionStyleModel",
            "_view_count": null,
            "_view_module": "@jupyter-widgets/base",
            "_view_module_version": "1.2.0",
            "_view_name": "StyleView",
            "description_width": ""
          }
        },
        "9b20e1dd06674aec8102fab455e83b0c": {
          "model_module": "@jupyter-widgets/controls",
          "model_name": "HBoxModel",
          "model_module_version": "1.5.0",
          "state": {
            "_dom_classes": [],
            "_model_module": "@jupyter-widgets/controls",
            "_model_module_version": "1.5.0",
            "_model_name": "HBoxModel",
            "_view_count": null,
            "_view_module": "@jupyter-widgets/controls",
            "_view_module_version": "1.5.0",
            "_view_name": "HBoxView",
            "box_style": "",
            "children": [
              "IPY_MODEL_62a584e9453349e2ba20df4c9a549b97",
              "IPY_MODEL_8019f0b8b3e4471089effa5ca39910c8",
              "IPY_MODEL_2a498fd9aa1344cc9200e8ffcaf73564"
            ],
            "layout": "IPY_MODEL_80316f2ce8c448aa9a8fddc16eccd44b"
          }
        },
        "62a584e9453349e2ba20df4c9a549b97": {
          "model_module": "@jupyter-widgets/controls",
          "model_name": "HTMLModel",
          "model_module_version": "1.5.0",
          "state": {
            "_dom_classes": [],
            "_model_module": "@jupyter-widgets/controls",
            "_model_module_version": "1.5.0",
            "_model_name": "HTMLModel",
            "_view_count": null,
            "_view_module": "@jupyter-widgets/controls",
            "_view_module_version": "1.5.0",
            "_view_name": "HTMLView",
            "description": "",
            "description_tooltip": null,
            "layout": "IPY_MODEL_0f94181da69848b9bf10f6ada9b66e32",
            "placeholder": "​",
            "style": "IPY_MODEL_d5bda944ed1447fbbb52ffd46572fe92",
            "value": "model-00003-of-00003.safetensors: 100%"
          }
        },
        "8019f0b8b3e4471089effa5ca39910c8": {
          "model_module": "@jupyter-widgets/controls",
          "model_name": "FloatProgressModel",
          "model_module_version": "1.5.0",
          "state": {
            "_dom_classes": [],
            "_model_module": "@jupyter-widgets/controls",
            "_model_module_version": "1.5.0",
            "_model_name": "FloatProgressModel",
            "_view_count": null,
            "_view_module": "@jupyter-widgets/controls",
            "_view_module_version": "1.5.0",
            "_view_name": "ProgressView",
            "bar_style": "success",
            "description": "",
            "description_tooltip": null,
            "layout": "IPY_MODEL_3a057fcc6ed3400fb1720fbe71eec608",
            "max": 481381384,
            "min": 0,
            "orientation": "horizontal",
            "style": "IPY_MODEL_d3ec91d9249c47fe9c70a5e00b42ae4b",
            "value": 481381384
          }
        },
        "2a498fd9aa1344cc9200e8ffcaf73564": {
          "model_module": "@jupyter-widgets/controls",
          "model_name": "HTMLModel",
          "model_module_version": "1.5.0",
          "state": {
            "_dom_classes": [],
            "_model_module": "@jupyter-widgets/controls",
            "_model_module_version": "1.5.0",
            "_model_name": "HTMLModel",
            "_view_count": null,
            "_view_module": "@jupyter-widgets/controls",
            "_view_module_version": "1.5.0",
            "_view_name": "HTMLView",
            "description": "",
            "description_tooltip": null,
            "layout": "IPY_MODEL_74973a3838634d4e994bfa464542c6e4",
            "placeholder": "​",
            "style": "IPY_MODEL_0bc650b851574e5ebed15663c7b34ffb",
            "value": " 481M/481M [00:11&lt;00:00, 41.4MB/s]"
          }
        },
        "80316f2ce8c448aa9a8fddc16eccd44b": {
          "model_module": "@jupyter-widgets/base",
          "model_name": "LayoutModel",
          "model_module_version": "1.2.0",
          "state": {
            "_model_module": "@jupyter-widgets/base",
            "_model_module_version": "1.2.0",
            "_model_name": "LayoutModel",
            "_view_count": null,
            "_view_module": "@jupyter-widgets/base",
            "_view_module_version": "1.2.0",
            "_view_name": "LayoutView",
            "align_content": null,
            "align_items": null,
            "align_self": null,
            "border": null,
            "bottom": null,
            "display": null,
            "flex": null,
            "flex_flow": null,
            "grid_area": null,
            "grid_auto_columns": null,
            "grid_auto_flow": null,
            "grid_auto_rows": null,
            "grid_column": null,
            "grid_gap": null,
            "grid_row": null,
            "grid_template_areas": null,
            "grid_template_columns": null,
            "grid_template_rows": null,
            "height": null,
            "justify_content": null,
            "justify_items": null,
            "left": null,
            "margin": null,
            "max_height": null,
            "max_width": null,
            "min_height": null,
            "min_width": null,
            "object_fit": null,
            "object_position": null,
            "order": null,
            "overflow": null,
            "overflow_x": null,
            "overflow_y": null,
            "padding": null,
            "right": null,
            "top": null,
            "visibility": null,
            "width": null
          }
        },
        "0f94181da69848b9bf10f6ada9b66e32": {
          "model_module": "@jupyter-widgets/base",
          "model_name": "LayoutModel",
          "model_module_version": "1.2.0",
          "state": {
            "_model_module": "@jupyter-widgets/base",
            "_model_module_version": "1.2.0",
            "_model_name": "LayoutModel",
            "_view_count": null,
            "_view_module": "@jupyter-widgets/base",
            "_view_module_version": "1.2.0",
            "_view_name": "LayoutView",
            "align_content": null,
            "align_items": null,
            "align_self": null,
            "border": null,
            "bottom": null,
            "display": null,
            "flex": null,
            "flex_flow": null,
            "grid_area": null,
            "grid_auto_columns": null,
            "grid_auto_flow": null,
            "grid_auto_rows": null,
            "grid_column": null,
            "grid_gap": null,
            "grid_row": null,
            "grid_template_areas": null,
            "grid_template_columns": null,
            "grid_template_rows": null,
            "height": null,
            "justify_content": null,
            "justify_items": null,
            "left": null,
            "margin": null,
            "max_height": null,
            "max_width": null,
            "min_height": null,
            "min_width": null,
            "object_fit": null,
            "object_position": null,
            "order": null,
            "overflow": null,
            "overflow_x": null,
            "overflow_y": null,
            "padding": null,
            "right": null,
            "top": null,
            "visibility": null,
            "width": null
          }
        },
        "d5bda944ed1447fbbb52ffd46572fe92": {
          "model_module": "@jupyter-widgets/controls",
          "model_name": "DescriptionStyleModel",
          "model_module_version": "1.5.0",
          "state": {
            "_model_module": "@jupyter-widgets/controls",
            "_model_module_version": "1.5.0",
            "_model_name": "DescriptionStyleModel",
            "_view_count": null,
            "_view_module": "@jupyter-widgets/base",
            "_view_module_version": "1.2.0",
            "_view_name": "StyleView",
            "description_width": ""
          }
        },
        "3a057fcc6ed3400fb1720fbe71eec608": {
          "model_module": "@jupyter-widgets/base",
          "model_name": "LayoutModel",
          "model_module_version": "1.2.0",
          "state": {
            "_model_module": "@jupyter-widgets/base",
            "_model_module_version": "1.2.0",
            "_model_name": "LayoutModel",
            "_view_count": null,
            "_view_module": "@jupyter-widgets/base",
            "_view_module_version": "1.2.0",
            "_view_name": "LayoutView",
            "align_content": null,
            "align_items": null,
            "align_self": null,
            "border": null,
            "bottom": null,
            "display": null,
            "flex": null,
            "flex_flow": null,
            "grid_area": null,
            "grid_auto_columns": null,
            "grid_auto_flow": null,
            "grid_auto_rows": null,
            "grid_column": null,
            "grid_gap": null,
            "grid_row": null,
            "grid_template_areas": null,
            "grid_template_columns": null,
            "grid_template_rows": null,
            "height": null,
            "justify_content": null,
            "justify_items": null,
            "left": null,
            "margin": null,
            "max_height": null,
            "max_width": null,
            "min_height": null,
            "min_width": null,
            "object_fit": null,
            "object_position": null,
            "order": null,
            "overflow": null,
            "overflow_x": null,
            "overflow_y": null,
            "padding": null,
            "right": null,
            "top": null,
            "visibility": null,
            "width": null
          }
        },
        "d3ec91d9249c47fe9c70a5e00b42ae4b": {
          "model_module": "@jupyter-widgets/controls",
          "model_name": "ProgressStyleModel",
          "model_module_version": "1.5.0",
          "state": {
            "_model_module": "@jupyter-widgets/controls",
            "_model_module_version": "1.5.0",
            "_model_name": "ProgressStyleModel",
            "_view_count": null,
            "_view_module": "@jupyter-widgets/base",
            "_view_module_version": "1.2.0",
            "_view_name": "StyleView",
            "bar_color": null,
            "description_width": ""
          }
        },
        "74973a3838634d4e994bfa464542c6e4": {
          "model_module": "@jupyter-widgets/base",
          "model_name": "LayoutModel",
          "model_module_version": "1.2.0",
          "state": {
            "_model_module": "@jupyter-widgets/base",
            "_model_module_version": "1.2.0",
            "_model_name": "LayoutModel",
            "_view_count": null,
            "_view_module": "@jupyter-widgets/base",
            "_view_module_version": "1.2.0",
            "_view_name": "LayoutView",
            "align_content": null,
            "align_items": null,
            "align_self": null,
            "border": null,
            "bottom": null,
            "display": null,
            "flex": null,
            "flex_flow": null,
            "grid_area": null,
            "grid_auto_columns": null,
            "grid_auto_flow": null,
            "grid_auto_rows": null,
            "grid_column": null,
            "grid_gap": null,
            "grid_row": null,
            "grid_template_areas": null,
            "grid_template_columns": null,
            "grid_template_rows": null,
            "height": null,
            "justify_content": null,
            "justify_items": null,
            "left": null,
            "margin": null,
            "max_height": null,
            "max_width": null,
            "min_height": null,
            "min_width": null,
            "object_fit": null,
            "object_position": null,
            "order": null,
            "overflow": null,
            "overflow_x": null,
            "overflow_y": null,
            "padding": null,
            "right": null,
            "top": null,
            "visibility": null,
            "width": null
          }
        },
        "0bc650b851574e5ebed15663c7b34ffb": {
          "model_module": "@jupyter-widgets/controls",
          "model_name": "DescriptionStyleModel",
          "model_module_version": "1.5.0",
          "state": {
            "_model_module": "@jupyter-widgets/controls",
            "_model_module_version": "1.5.0",
            "_model_name": "DescriptionStyleModel",
            "_view_count": null,
            "_view_module": "@jupyter-widgets/base",
            "_view_module_version": "1.2.0",
            "_view_name": "StyleView",
            "description_width": ""
          }
        },
        "5a3eb3adee1e427ebd6a90c35382227b": {
          "model_module": "@jupyter-widgets/controls",
          "model_name": "HBoxModel",
          "model_module_version": "1.5.0",
          "state": {
            "_dom_classes": [],
            "_model_module": "@jupyter-widgets/controls",
            "_model_module_version": "1.5.0",
            "_model_name": "HBoxModel",
            "_view_count": null,
            "_view_module": "@jupyter-widgets/controls",
            "_view_module_version": "1.5.0",
            "_view_name": "HBoxView",
            "box_style": "",
            "children": [
              "IPY_MODEL_ef09208be8c54b59b7de0dd418277986",
              "IPY_MODEL_f7a436ddff974132b580fe8729dc2af7",
              "IPY_MODEL_882562c3c4ee4aa6bcc97266043c09d2"
            ],
            "layout": "IPY_MODEL_9e9e65afdd094d3a8aee27eea1120278"
          }
        },
        "ef09208be8c54b59b7de0dd418277986": {
          "model_module": "@jupyter-widgets/controls",
          "model_name": "HTMLModel",
          "model_module_version": "1.5.0",
          "state": {
            "_dom_classes": [],
            "_model_module": "@jupyter-widgets/controls",
            "_model_module_version": "1.5.0",
            "_model_name": "HTMLModel",
            "_view_count": null,
            "_view_module": "@jupyter-widgets/controls",
            "_view_module_version": "1.5.0",
            "_view_name": "HTMLView",
            "description": "",
            "description_tooltip": null,
            "layout": "IPY_MODEL_1c415aa11a434f2dab72835cc2c8fd4e",
            "placeholder": "​",
            "style": "IPY_MODEL_84b5a497e30f499386b056b7922494a0",
            "value": "tokenizer.model: 100%"
          }
        },
        "f7a436ddff974132b580fe8729dc2af7": {
          "model_module": "@jupyter-widgets/controls",
          "model_name": "FloatProgressModel",
          "model_module_version": "1.5.0",
          "state": {
            "_dom_classes": [],
            "_model_module": "@jupyter-widgets/controls",
            "_model_module_version": "1.5.0",
            "_model_name": "FloatProgressModel",
            "_view_count": null,
            "_view_module": "@jupyter-widgets/controls",
            "_view_module_version": "1.5.0",
            "_view_name": "ProgressView",
            "bar_style": "success",
            "description": "",
            "description_tooltip": null,
            "layout": "IPY_MODEL_b803a185d1974d67a7edf6114f01776d",
            "max": 4241003,
            "min": 0,
            "orientation": "horizontal",
            "style": "IPY_MODEL_568c5bd72c034d72a9cfc4dc1f8073db",
            "value": 4241003
          }
        },
        "882562c3c4ee4aa6bcc97266043c09d2": {
          "model_module": "@jupyter-widgets/controls",
          "model_name": "HTMLModel",
          "model_module_version": "1.5.0",
          "state": {
            "_dom_classes": [],
            "_model_module": "@jupyter-widgets/controls",
            "_model_module_version": "1.5.0",
            "_model_name": "HTMLModel",
            "_view_count": null,
            "_view_module": "@jupyter-widgets/controls",
            "_view_module_version": "1.5.0",
            "_view_name": "HTMLView",
            "description": "",
            "description_tooltip": null,
            "layout": "IPY_MODEL_f6afcb1442dd458394534e4ebd4543e7",
            "placeholder": "​",
            "style": "IPY_MODEL_e7eca12cfc8a45198a2df18ea6d4af01",
            "value": " 4.24M/4.24M [00:00&lt;00:00, 42.0MB/s]"
          }
        },
        "9e9e65afdd094d3a8aee27eea1120278": {
          "model_module": "@jupyter-widgets/base",
          "model_name": "LayoutModel",
          "model_module_version": "1.2.0",
          "state": {
            "_model_module": "@jupyter-widgets/base",
            "_model_module_version": "1.2.0",
            "_model_name": "LayoutModel",
            "_view_count": null,
            "_view_module": "@jupyter-widgets/base",
            "_view_module_version": "1.2.0",
            "_view_name": "LayoutView",
            "align_content": null,
            "align_items": null,
            "align_self": null,
            "border": null,
            "bottom": null,
            "display": null,
            "flex": null,
            "flex_flow": null,
            "grid_area": null,
            "grid_auto_columns": null,
            "grid_auto_flow": null,
            "grid_auto_rows": null,
            "grid_column": null,
            "grid_gap": null,
            "grid_row": null,
            "grid_template_areas": null,
            "grid_template_columns": null,
            "grid_template_rows": null,
            "height": null,
            "justify_content": null,
            "justify_items": null,
            "left": null,
            "margin": null,
            "max_height": null,
            "max_width": null,
            "min_height": null,
            "min_width": null,
            "object_fit": null,
            "object_position": null,
            "order": null,
            "overflow": null,
            "overflow_x": null,
            "overflow_y": null,
            "padding": null,
            "right": null,
            "top": null,
            "visibility": null,
            "width": null
          }
        },
        "1c415aa11a434f2dab72835cc2c8fd4e": {
          "model_module": "@jupyter-widgets/base",
          "model_name": "LayoutModel",
          "model_module_version": "1.2.0",
          "state": {
            "_model_module": "@jupyter-widgets/base",
            "_model_module_version": "1.2.0",
            "_model_name": "LayoutModel",
            "_view_count": null,
            "_view_module": "@jupyter-widgets/base",
            "_view_module_version": "1.2.0",
            "_view_name": "LayoutView",
            "align_content": null,
            "align_items": null,
            "align_self": null,
            "border": null,
            "bottom": null,
            "display": null,
            "flex": null,
            "flex_flow": null,
            "grid_area": null,
            "grid_auto_columns": null,
            "grid_auto_flow": null,
            "grid_auto_rows": null,
            "grid_column": null,
            "grid_gap": null,
            "grid_row": null,
            "grid_template_areas": null,
            "grid_template_columns": null,
            "grid_template_rows": null,
            "height": null,
            "justify_content": null,
            "justify_items": null,
            "left": null,
            "margin": null,
            "max_height": null,
            "max_width": null,
            "min_height": null,
            "min_width": null,
            "object_fit": null,
            "object_position": null,
            "order": null,
            "overflow": null,
            "overflow_x": null,
            "overflow_y": null,
            "padding": null,
            "right": null,
            "top": null,
            "visibility": null,
            "width": null
          }
        },
        "84b5a497e30f499386b056b7922494a0": {
          "model_module": "@jupyter-widgets/controls",
          "model_name": "DescriptionStyleModel",
          "model_module_version": "1.5.0",
          "state": {
            "_model_module": "@jupyter-widgets/controls",
            "_model_module_version": "1.5.0",
            "_model_name": "DescriptionStyleModel",
            "_view_count": null,
            "_view_module": "@jupyter-widgets/base",
            "_view_module_version": "1.2.0",
            "_view_name": "StyleView",
            "description_width": ""
          }
        },
        "b803a185d1974d67a7edf6114f01776d": {
          "model_module": "@jupyter-widgets/base",
          "model_name": "LayoutModel",
          "model_module_version": "1.2.0",
          "state": {
            "_model_module": "@jupyter-widgets/base",
            "_model_module_version": "1.2.0",
            "_model_name": "LayoutModel",
            "_view_count": null,
            "_view_module": "@jupyter-widgets/base",
            "_view_module_version": "1.2.0",
            "_view_name": "LayoutView",
            "align_content": null,
            "align_items": null,
            "align_self": null,
            "border": null,
            "bottom": null,
            "display": null,
            "flex": null,
            "flex_flow": null,
            "grid_area": null,
            "grid_auto_columns": null,
            "grid_auto_flow": null,
            "grid_auto_rows": null,
            "grid_column": null,
            "grid_gap": null,
            "grid_row": null,
            "grid_template_areas": null,
            "grid_template_columns": null,
            "grid_template_rows": null,
            "height": null,
            "justify_content": null,
            "justify_items": null,
            "left": null,
            "margin": null,
            "max_height": null,
            "max_width": null,
            "min_height": null,
            "min_width": null,
            "object_fit": null,
            "object_position": null,
            "order": null,
            "overflow": null,
            "overflow_x": null,
            "overflow_y": null,
            "padding": null,
            "right": null,
            "top": null,
            "visibility": null,
            "width": null
          }
        },
        "568c5bd72c034d72a9cfc4dc1f8073db": {
          "model_module": "@jupyter-widgets/controls",
          "model_name": "ProgressStyleModel",
          "model_module_version": "1.5.0",
          "state": {
            "_model_module": "@jupyter-widgets/controls",
            "_model_module_version": "1.5.0",
            "_model_name": "ProgressStyleModel",
            "_view_count": null,
            "_view_module": "@jupyter-widgets/base",
            "_view_module_version": "1.2.0",
            "_view_name": "StyleView",
            "bar_color": null,
            "description_width": ""
          }
        },
        "f6afcb1442dd458394534e4ebd4543e7": {
          "model_module": "@jupyter-widgets/base",
          "model_name": "LayoutModel",
          "model_module_version": "1.2.0",
          "state": {
            "_model_module": "@jupyter-widgets/base",
            "_model_module_version": "1.2.0",
            "_model_name": "LayoutModel",
            "_view_count": null,
            "_view_module": "@jupyter-widgets/base",
            "_view_module_version": "1.2.0",
            "_view_name": "LayoutView",
            "align_content": null,
            "align_items": null,
            "align_self": null,
            "border": null,
            "bottom": null,
            "display": null,
            "flex": null,
            "flex_flow": null,
            "grid_area": null,
            "grid_auto_columns": null,
            "grid_auto_flow": null,
            "grid_auto_rows": null,
            "grid_column": null,
            "grid_gap": null,
            "grid_row": null,
            "grid_template_areas": null,
            "grid_template_columns": null,
            "grid_template_rows": null,
            "height": null,
            "justify_content": null,
            "justify_items": null,
            "left": null,
            "margin": null,
            "max_height": null,
            "max_width": null,
            "min_height": null,
            "min_width": null,
            "object_fit": null,
            "object_position": null,
            "order": null,
            "overflow": null,
            "overflow_x": null,
            "overflow_y": null,
            "padding": null,
            "right": null,
            "top": null,
            "visibility": null,
            "width": null
          }
        },
        "e7eca12cfc8a45198a2df18ea6d4af01": {
          "model_module": "@jupyter-widgets/controls",
          "model_name": "DescriptionStyleModel",
          "model_module_version": "1.5.0",
          "state": {
            "_model_module": "@jupyter-widgets/controls",
            "_model_module_version": "1.5.0",
            "_model_name": "DescriptionStyleModel",
            "_view_count": null,
            "_view_module": "@jupyter-widgets/base",
            "_view_module_version": "1.2.0",
            "_view_name": "StyleView",
            "description_width": ""
          }
        }
      }
    },
    "accelerator": "GPU"
  },
  "nbformat_minor": 0,
  "nbformat": 4,
  "cells": [
    {
      "cell_type": "markdown",
      "metadata": {
        "id": "view-in-github",
        "colab_type": "text"
      },
      "source": [
        "<a href=\"https://colab.research.google.com/github/neomatrix369/learning-path-index/blob/lpi-gemma-model/app/llm-poc-variant-03/lpi_finetune_gemma.ipynb\" target=\"_parent\"><img src=\"https://colab.research.google.com/assets/colab-badge.svg\" alt=\"Open In Colab\"/></a>"
      ]
    },
    {
      "cell_type": "markdown",
      "source": [
        "### Sorce: https://medium.com/@gabi.preda/fine-tuning-gemma-2-model-with-role-playing-dataset-b8ec399a2e17"
      ],
      "metadata": {
        "id": "IEQjBzbiT2Wb"
      }
    },
    {
      "source": [
        "# IMPORTANT: SOME KAGGLE DATA SOURCES ARE PRIVATE\n",
        "# RUN THIS CELL IN ORDER TO IMPORT YOUR KAGGLE DATA SOURCES.\n",
        "import kagglehub\n",
        "kagglehub.login()\n"
      ],
      "metadata": {
        "id": "rDaSj9aRHAb3",
        "outputId": "50d5aa69-f932-468b-b680-c648a6c3bfb5",
        "colab": {
          "base_uri": "https://localhost:8080/",
          "height": 300,
          "referenced_widgets": [
            "7abd5ea2da6648f6ad9786971f5dce3d",
            "912167c704f6450bb358d295b16e0ce4",
            "9ed496e4ebd14dd9a2ced809a22aec3d",
            "c668723f6d7547a38c34e1c4564d4609",
            "d6945e28b33e4fec8aebfa3b2c0867df",
            "55791ea3f91948bdb033a9cc5580b71f",
            "d599a4ca429f4682894223bbda22551d",
            "2409b7cda18d42759290a1e301b40ca5",
            "42e9da8147494368a7571f84d0e71b7b",
            "69f5b5e92dff4dbeacaa385c5db01331",
            "1db63479fb6041e796e3b06961456353",
            "51f674950ae6441e8de3e916e7759836",
            "c60c8462c7d2403396e0ae909e74a6a3",
            "94b298938c83453baaae3463304cb501",
            "77d4095efc50498c89d0ddde5628c95c",
            "4f52a58644b140249ddf1d36a8e78077",
            "e727d57b5a0e430eae7fd214ad09b10e"
          ]
        }
      },
      "cell_type": "code",
      "outputs": [
        {
          "output_type": "display_data",
          "data": {
            "text/plain": [
              "VBox(children=(HTML(value='<center> <img\\nsrc=https://www.kaggle.com/static/images/site-logo.png\\nalt=\\'Kaggle…"
            ],
            "application/vnd.jupyter.widget-view+json": {
              "version_major": 2,
              "version_minor": 0,
              "model_id": "7abd5ea2da6648f6ad9786971f5dce3d"
            }
          },
          "metadata": {}
        }
      ],
      "execution_count": 11
    },
    {
      "source": [
        "# IMPORTANT: RUN THIS CELL IN ORDER TO IMPORT YOUR KAGGLE DATA SOURCES,\n",
        "# THEN FEEL FREE TO DELETE THIS CELL.\n",
        "# NOTE: THIS NOTEBOOK ENVIRONMENT DIFFERS FROM KAGGLE'S PYTHON\n",
        "# ENVIRONMENT SO THERE MAY BE MISSING LIBRARIES USED BY YOUR\n",
        "# NOTEBOOK.\n",
        "\n",
        "neomatrix369_learning_path_index_dataset_path = kagglehub.dataset_download('neomatrix369/learning-path-index-dataset')\n",
        "keras_gemma2_keras_gemma2_2b_en_1_path = kagglehub.model_download('keras/gemma2/Keras/gemma2_2b_en/1')\n",
        "\n",
        "print('Data source import complete.')\n"
      ],
      "metadata": {
        "id": "PFLIZXHJHAb6",
        "outputId": "0282a7a0-7462-40f2-f806-50b685fe1937",
        "colab": {
          "base_uri": "https://localhost:8080/"
        }
      },
      "cell_type": "code",
      "outputs": [
        {
          "output_type": "stream",
          "name": "stdout",
          "text": [
            "Data source import complete.\n"
          ]
        }
      ],
      "execution_count": 12
    },
    {
      "cell_type": "markdown",
      "source": [
        "<center><h1>Fine-tuning Gemma 2 model using LoRA and Keras</h1></center>\n",
        "\n",
        "<center><img src=\"https://res.infoq.com/news/2024/02/google-gemma-open-model/en/headerimage/generatedHeaderImage-1708977571481.jpg\" width=\"400\"></center>\n",
        "\n",
        "\n",
        "# Introduction\n",
        "\n",
        "This notebook will demonstrate three things:\n",
        "\n",
        "1. How to fine-tune Gemma model using LoRA\n",
        "2. Creation of a specialised class to query about Kaggle features\n",
        "3. Some results of querying about various topics while instructing the model to adopt a certain persona, from the ones included in the data used for fine tuning.\n",
        "\n"
      ],
      "metadata": {
        "_uuid": "8f2839f25d086af736a60e9eeb907d3b93b6e0e5",
        "_cell_guid": "b1076dfc-b9ad-4769-8c92-a6c4dae69d19",
        "id": "Y2zVVrhNHAb7"
      }
    },
    {
      "cell_type": "markdown",
      "source": [
        "# What is Gemma 2?\n",
        "\n",
        "Gemma is a collection of lightweight, advanced open models developed by Google, leveraging the same research and technology behind the Gemini models. These models are text-to-text, decoder-only large language models available in English, with open weights provided for both pre-trained and instruction-tuned versions. Gemma models excel in a range of text generation tasks, such as question answering, summarization, and reasoning. Their compact size allows for deployment in resource-constrained environments like laptops, desktops, or personal cloud infrastructure, making state-of-the-art AI models more accessible and encouraging innovation for all.\n",
        "\n",
        "Gemma 2 represent the 2nd generation of Gemma models. These models were trained on a dataset of text data that includes a wide variety of sources. The **27B** model was trained with **13 trillion** tokens, the **9B** model was trained with **8 trillion tokens**, and **2B** model was trained with **2 trillion** tokens. Here is a summary of their key components:\n",
        "* **Web Documents**: A diverse collection of web text ensures the model is exposed to a broad range of linguistic styles, topics, and vocabulary. Primarily English-language content.\n",
        "* **Code**: Exposing the model to code helps it to learn the syntax and patterns of programming languages, which improves its ability to generate code or understand code-related questions.\n",
        "* **Mathematics**: Training on mathematical text helps the model learn logical reasoning, symbolic representation, and to address mathematical queries.\n",
        "\n",
        "To learn more about Gemma 2, follow this link: [Gemma 2 Model Card](https://www.kaggle.com/models/google/gemma-2).\n",
        "\n",
        "\n"
      ],
      "metadata": {
        "id": "XfgFDYmwHAb9"
      }
    },
    {
      "cell_type": "markdown",
      "source": [
        "# What is LoRA?  \n",
        "\n",
        "**LoRA** stands for **Low-Rank Adaptation**. It is a method used to fine-tune large language models (LLMs) by freezing the weights of the LLM and injecting trainable rank-decomposition matrices. The number of trainable parameters during fine-tunning will decrease therefore considerably. According to **LoRA** paper, this number decreases **10,000 times**, and the computational resources size decreases 3 times."
      ],
      "metadata": {
        "id": "tGNbfSojHAb9"
      }
    },
    {
      "cell_type": "markdown",
      "source": [
        "# How we proceed?\n",
        "\n",
        "For fine-tunning with LoRA, we will follow the steps:\n",
        "\n",
        "1. Install prerequisites\n",
        "2. Load and process the data for fine-tuning\n",
        "3. Initialize the code for Gemma causal language model (Gemma Causal LM)\n",
        "4. Perform fine-tuning so that the model will learn the various persona and be able to perform in each role.\n",
        "5. Test the fine-tunned model with questions from the data used for fine-tuning and with aditional questions"
      ],
      "metadata": {
        "id": "wmzUuNgXHAb9"
      }
    },
    {
      "cell_type": "markdown",
      "source": [
        "# Prerequisites\n",
        "\n",
        "\n",
        "## Install packages\n",
        "\n",
        "We start by installing `keras-nlp` and `keras` packages."
      ],
      "metadata": {
        "id": "hYfSxSn5HAb-"
      }
    },
    {
      "cell_type": "code",
      "source": [
        "# Install Keras 3 last. See https://keras.io/getting_started/ for more details.\n",
        "!pip install -q -U keras-nlp\n",
        "!pip install -q -U keras>=3\n",
        "!pip install -q -U kagglehub --upgrade"
      ],
      "metadata": {
        "_kg_hide-output": true,
        "execution": {
          "iopub.status.busy": "2024-10-23T20:27:34.216818Z",
          "iopub.execute_input": "2024-10-23T20:27:34.21713Z",
          "iopub.status.idle": "2024-10-23T20:28:15.226883Z",
          "shell.execute_reply.started": "2024-10-23T20:27:34.217091Z",
          "shell.execute_reply": "2024-10-23T20:28:15.2257Z"
        },
        "trusted": true,
        "id": "m-N4tVH9HAb-"
      },
      "execution_count": 13,
      "outputs": []
    },
    {
      "cell_type": "markdown",
      "source": [
        "## Import packages\n",
        "\n",
        "Now we can import the packages we just installed. We will also install `os`, so that we can set the environment variables needed for keras backend. We will use `jax` as `KERAS_BACKEND`.\n",
        "\n",
        "Because we want to publish the Model from the Notebook, we also include `kagglehub` and import secrets from `Kaggle App`."
      ],
      "metadata": {
        "id": "mv4_xRibHAb-"
      }
    },
    {
      "cell_type": "code",
      "source": [
        "import os\n",
        "os.environ[\"KERAS_BACKEND\"] = \"jax\" # you can also use tensorflow or torch\n",
        "os.environ[\"XLA_PYTHON_CLIENT_MEM_FRACTION\"] = \"1.00\" # avoid memory fragmentation on JAX backend.\n",
        "os.environ[\"JAX_PLATFORMS\"] = \"\"\n",
        "import keras\n",
        "import keras_nlp\n",
        "import kagglehub\n",
        "\n",
        "\n",
        "import numpy as np\n",
        "import pandas as pd\n",
        "from tqdm.notebook import tqdm\n",
        "tqdm.pandas() # progress bar for pandas\n",
        "\n",
        "import matplotlib.pyplot as plt\n",
        "import seaborn as sns\n",
        "from IPython.display import display, Markdown"
      ],
      "metadata": {
        "_kg_hide-output": true,
        "execution": {
          "iopub.status.busy": "2024-10-23T20:28:15.228979Z",
          "iopub.execute_input": "2024-10-23T20:28:15.229336Z",
          "iopub.status.idle": "2024-10-23T20:28:28.174083Z",
          "shell.execute_reply.started": "2024-10-23T20:28:15.229289Z",
          "shell.execute_reply": "2024-10-23T20:28:28.173204Z"
        },
        "trusted": true,
        "id": "eACX_jjwHAb-"
      },
      "execution_count": 14,
      "outputs": []
    },
    {
      "cell_type": "markdown",
      "source": [
        "## Initialize user secrets\n",
        "\n",
        "We initialize user secrets, so that we can publish the model using `kagglehub`."
      ],
      "metadata": {
        "id": "3jqo6VZ4HAb_"
      }
    },
    {
      "cell_type": "code",
      "source": [
        "# from kaggle_secrets import UserSecretsClient\n",
        "# user_secrets = UserSecretsClient()\n",
        "# os.environ[\"KAGGLE_USERNAME\"] = user_secrets.get_secret(\"kaggle_username\")\n",
        "# os.environ[\"KAGGLE_KEY\"] = user_secrets.get_secret(\"kaggle_key\")"
      ],
      "metadata": {
        "execution": {
          "iopub.status.busy": "2024-10-23T20:28:28.175433Z",
          "iopub.execute_input": "2024-10-23T20:28:28.176101Z",
          "iopub.status.idle": "2024-10-23T20:28:28.391849Z",
          "shell.execute_reply.started": "2024-10-23T20:28:28.176032Z",
          "shell.execute_reply": "2024-10-23T20:28:28.391098Z"
        },
        "trusted": true,
        "id": "XQXTtCcQHAb_"
      },
      "execution_count": 15,
      "outputs": []
    },
    {
      "cell_type": "markdown",
      "source": [
        "## Configurations\n",
        "\n",
        "\n",
        "We use a `Config` class to group the information needed to control the fine-tuning process:\n",
        "* random seed\n",
        "* dataset path\n",
        "* preset - name of pretrained Gemma 2\n",
        "* sequence length - this is the maximum size of input sequence for training\n",
        "* batch size - size of the input batch in training, x 2 as two GPUs\n",
        "* lora rank - rank for LoRA, higher means more trainable parameters\n",
        "* learning rate used in the train\n",
        "* epochs - number of epochs for train"
      ],
      "metadata": {
        "id": "1hGKd1e6HAb_"
      }
    },
    {
      "cell_type": "code",
      "source": [
        "class Config:\n",
        "    seed = 42\n",
        "    # dataset_path = \"/kaggle/input/roleplay-snapshot/roleplay.csv\"\n",
        "    dataset_path = \"./Learning_Pathway_Index.csv\"\n",
        "    preset = \"hf://google/gemma-2-2b\" # name of pretrained Gemma 2\n",
        "    sequence_length = 512 # max size of input sequence for training\n",
        "    batch_size = 1 # size of the input batch in training\n",
        "    lora_rank = 4 # rank for LoRA, higher means more trainable parameters\n",
        "    learning_rate=8e-5 # learning rate used in train\n",
        "    epochs = 15 # number of epochs to train"
      ],
      "metadata": {
        "execution": {
          "iopub.status.busy": "2024-10-23T20:28:28.393993Z",
          "iopub.execute_input": "2024-10-23T20:28:28.394344Z",
          "iopub.status.idle": "2024-10-23T20:28:28.399581Z",
          "shell.execute_reply.started": "2024-10-23T20:28:28.394308Z",
          "shell.execute_reply": "2024-10-23T20:28:28.39863Z"
        },
        "trusted": true,
        "id": "bwIG9nG-HAb_"
      },
      "execution_count": 16,
      "outputs": []
    },
    {
      "cell_type": "markdown",
      "source": [
        "Set a random seed for results reproducibility."
      ],
      "metadata": {
        "id": "Zw7UuS1fHAb_"
      }
    },
    {
      "cell_type": "code",
      "source": [
        "keras.utils.set_random_seed(Config.seed)"
      ],
      "metadata": {
        "execution": {
          "iopub.status.busy": "2024-10-23T20:28:28.400693Z",
          "iopub.execute_input": "2024-10-23T20:28:28.40095Z",
          "iopub.status.idle": "2024-10-23T20:28:28.411006Z",
          "shell.execute_reply.started": "2024-10-23T20:28:28.400922Z",
          "shell.execute_reply": "2024-10-23T20:28:28.410211Z"
        },
        "trusted": true,
        "id": "bxOdmEJoHAcA"
      },
      "execution_count": 17,
      "outputs": []
    },
    {
      "cell_type": "markdown",
      "source": [
        "# Load the data\n",
        "\n",
        "\n",
        "We load the data we will use for fine-tunining."
      ],
      "metadata": {
        "id": "zXBVVqplHAcA"
      }
    },
    {
      "cell_type": "code",
      "source": [
        "df = pd.read_csv(f\"{Config.dataset_path}\") #  sep=\";\"\n",
        "df.head(20)"
      ],
      "metadata": {
        "execution": {
          "iopub.status.busy": "2024-10-23T20:28:28.412319Z",
          "iopub.execute_input": "2024-10-23T20:28:28.412716Z",
          "iopub.status.idle": "2024-10-23T20:28:28.474221Z",
          "shell.execute_reply.started": "2024-10-23T20:28:28.412674Z",
          "shell.execute_reply": "2024-10-23T20:28:28.473262Z"
        },
        "trusted": true,
        "id": "H7LqBuYnHAcA",
        "outputId": "9bf4217a-ecd6-4b5b-ea11-ae2a16ba3e70",
        "colab": {
          "base_uri": "https://localhost:8080/",
          "height": 1000
        }
      },
      "execution_count": 43,
      "outputs": [
        {
          "output_type": "execute_result",
          "data": {
            "text/plain": [
              "   Module_Code                    Course_Learning_Material             Source  \\\n",
              "0      CLMML00            Introduction to Machine Learning  Google Developers   \n",
              "1      CLMML00            Introduction to Machine Learning  Google Developers   \n",
              "2      CLMML00            Introduction to Machine Learning  Google Developers   \n",
              "3      CLMML00            Introduction to Machine Learning  Google Developers   \n",
              "4      CLMML01  Machine Learning Crash Course (Foundation)  Google Developers   \n",
              "5      CLMML01  Machine Learning Crash Course (Foundation)  Google Developers   \n",
              "6      CLMML01  Machine Learning Crash Course (Foundation)  Google Developers   \n",
              "7      CLMML01  Machine Learning Crash Course (Foundation)  Google Developers   \n",
              "8      CLMML01  Machine Learning Crash Course (Foundation)  Google Developers   \n",
              "9      CLMML01  Machine Learning Crash Course (Foundation)  Google Developers   \n",
              "10     CLMML01  Machine Learning Crash Course (Foundation)  Google Developers   \n",
              "11     CLMML01  Machine Learning Crash Course (Foundation)  Google Developers   \n",
              "12     CLMML01  Machine Learning Crash Course (Foundation)  Google Developers   \n",
              "13     CLMML01  Machine Learning Crash Course (Foundation)  Google Developers   \n",
              "14     CLMML01  Machine Learning Crash Course (Foundation)  Google Developers   \n",
              "15     CLMML01  Machine Learning Crash Course (Foundation)  Google Developers   \n",
              "16     CLMML01  Machine Learning Crash Course (Foundation)  Google Developers   \n",
              "17     CLMML01  Machine Learning Crash Course (Foundation)  Google Developers   \n",
              "18     CLMML01  Machine Learning Crash Course (Foundation)  Google Developers   \n",
              "19     CLMML01  Machine Learning Crash Course (Foundation)  Google Developers   \n",
              "\n",
              "    Course_Level Type_Free_Paid                                       Module  \\\n",
              "0       Beginner           Free             Introduction to Machine Learning   \n",
              "1       Beginner           Free                     What is Machine Learning   \n",
              "2       Beginner           Free                          Supervised Learning   \n",
              "3       Beginner           Free                      Test your understanding   \n",
              "4   Intermediate           Free                           Introduction to ML   \n",
              "5   Intermediate           Free                      Framing - Video Lecture   \n",
              "6   Intermediate           Free                 Framing - Key ML Terminology   \n",
              "7   Intermediate           Free           Descending into ML - Video Lecture   \n",
              "8   Intermediate           Free       Descending into ML - Linear Regression   \n",
              "9   Intermediate           Free       Descending into ML - Training and Loss   \n",
              "10  Intermediate           Free                Reducing Loss - Video Lecture   \n",
              "11  Intermediate           Free        Reducing Loss - An Iterative Approach   \n",
              "12  Intermediate           Free             Reducing Loss - Gradient Descent   \n",
              "13  Intermediate           Free                Reducing Loss - Learning Rate   \n",
              "14  Intermediate           Free     Reducing Loss - Optimizing Learning Rate   \n",
              "15  Intermediate           Free  Reducing Loss - Stochastic Gradient Descent   \n",
              "16  Intermediate           Free          Reducing Loss - Playground Exercise   \n",
              "17  Intermediate           Free        First Steps with TensorFlow - Toolkit   \n",
              "18  Intermediate           Free        First Steps with TensorFlow - Toolkit   \n",
              "19  Intermediate           Free               Generalisation - Video Lecture   \n",
              "\n",
              "        Duration Difficulty_Level  \\\n",
              "0   20.0 minutes             Easy   \n",
              "1   20.0 minutes             Easy   \n",
              "2   20.0 minutes           Medium   \n",
              "3   10.0 minutes             Easy   \n",
              "4    3.0 minutes             Easy   \n",
              "5            NaN           Medium   \n",
              "6   15.0 minutes             Easy   \n",
              "7            NaN           Medium   \n",
              "8            NaN           Medium   \n",
              "9            NaN           Medium   \n",
              "10  20.0 minutes           Medium   \n",
              "11           NaN           Medium   \n",
              "12           NaN           Medium   \n",
              "13           NaN           Medium   \n",
              "14           NaN           Medium   \n",
              "15  60.0 minutes           Medium   \n",
              "16           NaN           Medium   \n",
              "17           NaN             Easy   \n",
              "18           NaN             Easy   \n",
              "19           NaN             Easy   \n",
              "\n",
              "      Keywords_Tags_Skills_Interests_Categories  \\\n",
              "0                              machine learning   \n",
              "1                              machine learning   \n",
              "2                           supervised learning   \n",
              "3                         machine learning test   \n",
              "4                              machine learning   \n",
              "5                             problem statement   \n",
              "6                              ml terminologies   \n",
              "7                              machine learning   \n",
              "8          machine learning, linear regrression   \n",
              "9              machine learning, training, loss   \n",
              "10                                reducing loss   \n",
              "11            iterative approach, reducing loss   \n",
              "12              gradient descent, reducing loss   \n",
              "13                 learning rate, reducing loss   \n",
              "14     optimising, learning rate, reducing loss   \n",
              "15  stochastic, gradient descent, reducing loss   \n",
              "16                     reducing loss, practical   \n",
              "17                          tensorflow, toolkit   \n",
              "18                          tensorflow, toolkit   \n",
              "19                               generalisation   \n",
              "\n",
              "                                                Links  \n",
              "0   https://developers.google.com/machine-learning...  \n",
              "1   https://developers.google.com/machine-learning...  \n",
              "2   https://developers.google.com/machine-learning...  \n",
              "3   https://developers.google.com/machine-learning...  \n",
              "4   https://developers.google.com/machine-learning...  \n",
              "5   https://developers.google.com/machine-learning...  \n",
              "6   https://developers.google.com/machine-learning...  \n",
              "7   https://developers.google.com/machine-learning...  \n",
              "8   https://developers.google.com/machine-learning...  \n",
              "9   https://developers.google.com/machine-learning...  \n",
              "10  https://developers.google.com/machine-learning...  \n",
              "11  https://developers.google.com/machine-learning...  \n",
              "12  https://developers.google.com/machine-learning...  \n",
              "13  https://developers.google.com/machine-learning...  \n",
              "14  https://developers.google.com/machine-learning...  \n",
              "15  https://developers.google.com/machine-learning...  \n",
              "16  https://developers.google.com/machine-learning...  \n",
              "17  https://developers.google.com/machine-learning...  \n",
              "18  https://developers.google.com/machine-learning...  \n",
              "19  https://developers.google.com/machine-learning...  "
            ],
            "text/html": [
              "\n",
              "  <div id=\"df-d8eaf220-4f32-4823-8e02-6c2b0d124355\" class=\"colab-df-container\">\n",
              "    <div>\n",
              "<style scoped>\n",
              "    .dataframe tbody tr th:only-of-type {\n",
              "        vertical-align: middle;\n",
              "    }\n",
              "\n",
              "    .dataframe tbody tr th {\n",
              "        vertical-align: top;\n",
              "    }\n",
              "\n",
              "    .dataframe thead th {\n",
              "        text-align: right;\n",
              "    }\n",
              "</style>\n",
              "<table border=\"1\" class=\"dataframe\">\n",
              "  <thead>\n",
              "    <tr style=\"text-align: right;\">\n",
              "      <th></th>\n",
              "      <th>Module_Code</th>\n",
              "      <th>Course_Learning_Material</th>\n",
              "      <th>Source</th>\n",
              "      <th>Course_Level</th>\n",
              "      <th>Type_Free_Paid</th>\n",
              "      <th>Module</th>\n",
              "      <th>Duration</th>\n",
              "      <th>Difficulty_Level</th>\n",
              "      <th>Keywords_Tags_Skills_Interests_Categories</th>\n",
              "      <th>Links</th>\n",
              "    </tr>\n",
              "  </thead>\n",
              "  <tbody>\n",
              "    <tr>\n",
              "      <th>0</th>\n",
              "      <td>CLMML00</td>\n",
              "      <td>Introduction to Machine Learning</td>\n",
              "      <td>Google Developers</td>\n",
              "      <td>Beginner</td>\n",
              "      <td>Free</td>\n",
              "      <td>Introduction to Machine Learning</td>\n",
              "      <td>20.0 minutes</td>\n",
              "      <td>Easy</td>\n",
              "      <td>machine learning</td>\n",
              "      <td>https://developers.google.com/machine-learning...</td>\n",
              "    </tr>\n",
              "    <tr>\n",
              "      <th>1</th>\n",
              "      <td>CLMML00</td>\n",
              "      <td>Introduction to Machine Learning</td>\n",
              "      <td>Google Developers</td>\n",
              "      <td>Beginner</td>\n",
              "      <td>Free</td>\n",
              "      <td>What is Machine Learning</td>\n",
              "      <td>20.0 minutes</td>\n",
              "      <td>Easy</td>\n",
              "      <td>machine learning</td>\n",
              "      <td>https://developers.google.com/machine-learning...</td>\n",
              "    </tr>\n",
              "    <tr>\n",
              "      <th>2</th>\n",
              "      <td>CLMML00</td>\n",
              "      <td>Introduction to Machine Learning</td>\n",
              "      <td>Google Developers</td>\n",
              "      <td>Beginner</td>\n",
              "      <td>Free</td>\n",
              "      <td>Supervised Learning</td>\n",
              "      <td>20.0 minutes</td>\n",
              "      <td>Medium</td>\n",
              "      <td>supervised learning</td>\n",
              "      <td>https://developers.google.com/machine-learning...</td>\n",
              "    </tr>\n",
              "    <tr>\n",
              "      <th>3</th>\n",
              "      <td>CLMML00</td>\n",
              "      <td>Introduction to Machine Learning</td>\n",
              "      <td>Google Developers</td>\n",
              "      <td>Beginner</td>\n",
              "      <td>Free</td>\n",
              "      <td>Test your understanding</td>\n",
              "      <td>10.0 minutes</td>\n",
              "      <td>Easy</td>\n",
              "      <td>machine learning test</td>\n",
              "      <td>https://developers.google.com/machine-learning...</td>\n",
              "    </tr>\n",
              "    <tr>\n",
              "      <th>4</th>\n",
              "      <td>CLMML01</td>\n",
              "      <td>Machine Learning Crash Course (Foundation)</td>\n",
              "      <td>Google Developers</td>\n",
              "      <td>Intermediate</td>\n",
              "      <td>Free</td>\n",
              "      <td>Introduction to ML</td>\n",
              "      <td>3.0 minutes</td>\n",
              "      <td>Easy</td>\n",
              "      <td>machine learning</td>\n",
              "      <td>https://developers.google.com/machine-learning...</td>\n",
              "    </tr>\n",
              "    <tr>\n",
              "      <th>5</th>\n",
              "      <td>CLMML01</td>\n",
              "      <td>Machine Learning Crash Course (Foundation)</td>\n",
              "      <td>Google Developers</td>\n",
              "      <td>Intermediate</td>\n",
              "      <td>Free</td>\n",
              "      <td>Framing - Video Lecture</td>\n",
              "      <td>NaN</td>\n",
              "      <td>Medium</td>\n",
              "      <td>problem statement</td>\n",
              "      <td>https://developers.google.com/machine-learning...</td>\n",
              "    </tr>\n",
              "    <tr>\n",
              "      <th>6</th>\n",
              "      <td>CLMML01</td>\n",
              "      <td>Machine Learning Crash Course (Foundation)</td>\n",
              "      <td>Google Developers</td>\n",
              "      <td>Intermediate</td>\n",
              "      <td>Free</td>\n",
              "      <td>Framing - Key ML Terminology</td>\n",
              "      <td>15.0 minutes</td>\n",
              "      <td>Easy</td>\n",
              "      <td>ml terminologies</td>\n",
              "      <td>https://developers.google.com/machine-learning...</td>\n",
              "    </tr>\n",
              "    <tr>\n",
              "      <th>7</th>\n",
              "      <td>CLMML01</td>\n",
              "      <td>Machine Learning Crash Course (Foundation)</td>\n",
              "      <td>Google Developers</td>\n",
              "      <td>Intermediate</td>\n",
              "      <td>Free</td>\n",
              "      <td>Descending into ML - Video Lecture</td>\n",
              "      <td>NaN</td>\n",
              "      <td>Medium</td>\n",
              "      <td>machine learning</td>\n",
              "      <td>https://developers.google.com/machine-learning...</td>\n",
              "    </tr>\n",
              "    <tr>\n",
              "      <th>8</th>\n",
              "      <td>CLMML01</td>\n",
              "      <td>Machine Learning Crash Course (Foundation)</td>\n",
              "      <td>Google Developers</td>\n",
              "      <td>Intermediate</td>\n",
              "      <td>Free</td>\n",
              "      <td>Descending into ML - Linear Regression</td>\n",
              "      <td>NaN</td>\n",
              "      <td>Medium</td>\n",
              "      <td>machine learning, linear regrression</td>\n",
              "      <td>https://developers.google.com/machine-learning...</td>\n",
              "    </tr>\n",
              "    <tr>\n",
              "      <th>9</th>\n",
              "      <td>CLMML01</td>\n",
              "      <td>Machine Learning Crash Course (Foundation)</td>\n",
              "      <td>Google Developers</td>\n",
              "      <td>Intermediate</td>\n",
              "      <td>Free</td>\n",
              "      <td>Descending into ML - Training and Loss</td>\n",
              "      <td>NaN</td>\n",
              "      <td>Medium</td>\n",
              "      <td>machine learning, training, loss</td>\n",
              "      <td>https://developers.google.com/machine-learning...</td>\n",
              "    </tr>\n",
              "    <tr>\n",
              "      <th>10</th>\n",
              "      <td>CLMML01</td>\n",
              "      <td>Machine Learning Crash Course (Foundation)</td>\n",
              "      <td>Google Developers</td>\n",
              "      <td>Intermediate</td>\n",
              "      <td>Free</td>\n",
              "      <td>Reducing Loss - Video Lecture</td>\n",
              "      <td>20.0 minutes</td>\n",
              "      <td>Medium</td>\n",
              "      <td>reducing loss</td>\n",
              "      <td>https://developers.google.com/machine-learning...</td>\n",
              "    </tr>\n",
              "    <tr>\n",
              "      <th>11</th>\n",
              "      <td>CLMML01</td>\n",
              "      <td>Machine Learning Crash Course (Foundation)</td>\n",
              "      <td>Google Developers</td>\n",
              "      <td>Intermediate</td>\n",
              "      <td>Free</td>\n",
              "      <td>Reducing Loss - An Iterative Approach</td>\n",
              "      <td>NaN</td>\n",
              "      <td>Medium</td>\n",
              "      <td>iterative approach, reducing loss</td>\n",
              "      <td>https://developers.google.com/machine-learning...</td>\n",
              "    </tr>\n",
              "    <tr>\n",
              "      <th>12</th>\n",
              "      <td>CLMML01</td>\n",
              "      <td>Machine Learning Crash Course (Foundation)</td>\n",
              "      <td>Google Developers</td>\n",
              "      <td>Intermediate</td>\n",
              "      <td>Free</td>\n",
              "      <td>Reducing Loss - Gradient Descent</td>\n",
              "      <td>NaN</td>\n",
              "      <td>Medium</td>\n",
              "      <td>gradient descent, reducing loss</td>\n",
              "      <td>https://developers.google.com/machine-learning...</td>\n",
              "    </tr>\n",
              "    <tr>\n",
              "      <th>13</th>\n",
              "      <td>CLMML01</td>\n",
              "      <td>Machine Learning Crash Course (Foundation)</td>\n",
              "      <td>Google Developers</td>\n",
              "      <td>Intermediate</td>\n",
              "      <td>Free</td>\n",
              "      <td>Reducing Loss - Learning Rate</td>\n",
              "      <td>NaN</td>\n",
              "      <td>Medium</td>\n",
              "      <td>learning rate, reducing loss</td>\n",
              "      <td>https://developers.google.com/machine-learning...</td>\n",
              "    </tr>\n",
              "    <tr>\n",
              "      <th>14</th>\n",
              "      <td>CLMML01</td>\n",
              "      <td>Machine Learning Crash Course (Foundation)</td>\n",
              "      <td>Google Developers</td>\n",
              "      <td>Intermediate</td>\n",
              "      <td>Free</td>\n",
              "      <td>Reducing Loss - Optimizing Learning Rate</td>\n",
              "      <td>NaN</td>\n",
              "      <td>Medium</td>\n",
              "      <td>optimising, learning rate, reducing loss</td>\n",
              "      <td>https://developers.google.com/machine-learning...</td>\n",
              "    </tr>\n",
              "    <tr>\n",
              "      <th>15</th>\n",
              "      <td>CLMML01</td>\n",
              "      <td>Machine Learning Crash Course (Foundation)</td>\n",
              "      <td>Google Developers</td>\n",
              "      <td>Intermediate</td>\n",
              "      <td>Free</td>\n",
              "      <td>Reducing Loss - Stochastic Gradient Descent</td>\n",
              "      <td>60.0 minutes</td>\n",
              "      <td>Medium</td>\n",
              "      <td>stochastic, gradient descent, reducing loss</td>\n",
              "      <td>https://developers.google.com/machine-learning...</td>\n",
              "    </tr>\n",
              "    <tr>\n",
              "      <th>16</th>\n",
              "      <td>CLMML01</td>\n",
              "      <td>Machine Learning Crash Course (Foundation)</td>\n",
              "      <td>Google Developers</td>\n",
              "      <td>Intermediate</td>\n",
              "      <td>Free</td>\n",
              "      <td>Reducing Loss - Playground Exercise</td>\n",
              "      <td>NaN</td>\n",
              "      <td>Medium</td>\n",
              "      <td>reducing loss, practical</td>\n",
              "      <td>https://developers.google.com/machine-learning...</td>\n",
              "    </tr>\n",
              "    <tr>\n",
              "      <th>17</th>\n",
              "      <td>CLMML01</td>\n",
              "      <td>Machine Learning Crash Course (Foundation)</td>\n",
              "      <td>Google Developers</td>\n",
              "      <td>Intermediate</td>\n",
              "      <td>Free</td>\n",
              "      <td>First Steps with TensorFlow - Toolkit</td>\n",
              "      <td>NaN</td>\n",
              "      <td>Easy</td>\n",
              "      <td>tensorflow, toolkit</td>\n",
              "      <td>https://developers.google.com/machine-learning...</td>\n",
              "    </tr>\n",
              "    <tr>\n",
              "      <th>18</th>\n",
              "      <td>CLMML01</td>\n",
              "      <td>Machine Learning Crash Course (Foundation)</td>\n",
              "      <td>Google Developers</td>\n",
              "      <td>Intermediate</td>\n",
              "      <td>Free</td>\n",
              "      <td>First Steps with TensorFlow - Toolkit</td>\n",
              "      <td>NaN</td>\n",
              "      <td>Easy</td>\n",
              "      <td>tensorflow, toolkit</td>\n",
              "      <td>https://developers.google.com/machine-learning...</td>\n",
              "    </tr>\n",
              "    <tr>\n",
              "      <th>19</th>\n",
              "      <td>CLMML01</td>\n",
              "      <td>Machine Learning Crash Course (Foundation)</td>\n",
              "      <td>Google Developers</td>\n",
              "      <td>Intermediate</td>\n",
              "      <td>Free</td>\n",
              "      <td>Generalisation - Video Lecture</td>\n",
              "      <td>NaN</td>\n",
              "      <td>Easy</td>\n",
              "      <td>generalisation</td>\n",
              "      <td>https://developers.google.com/machine-learning...</td>\n",
              "    </tr>\n",
              "  </tbody>\n",
              "</table>\n",
              "</div>\n",
              "    <div class=\"colab-df-buttons\">\n",
              "\n",
              "  <div class=\"colab-df-container\">\n",
              "    <button class=\"colab-df-convert\" onclick=\"convertToInteractive('df-d8eaf220-4f32-4823-8e02-6c2b0d124355')\"\n",
              "            title=\"Convert this dataframe to an interactive table.\"\n",
              "            style=\"display:none;\">\n",
              "\n",
              "  <svg xmlns=\"http://www.w3.org/2000/svg\" height=\"24px\" viewBox=\"0 -960 960 960\">\n",
              "    <path d=\"M120-120v-720h720v720H120Zm60-500h600v-160H180v160Zm220 220h160v-160H400v160Zm0 220h160v-160H400v160ZM180-400h160v-160H180v160Zm440 0h160v-160H620v160ZM180-180h160v-160H180v160Zm440 0h160v-160H620v160Z\"/>\n",
              "  </svg>\n",
              "    </button>\n",
              "\n",
              "  <style>\n",
              "    .colab-df-container {\n",
              "      display:flex;\n",
              "      gap: 12px;\n",
              "    }\n",
              "\n",
              "    .colab-df-convert {\n",
              "      background-color: #E8F0FE;\n",
              "      border: none;\n",
              "      border-radius: 50%;\n",
              "      cursor: pointer;\n",
              "      display: none;\n",
              "      fill: #1967D2;\n",
              "      height: 32px;\n",
              "      padding: 0 0 0 0;\n",
              "      width: 32px;\n",
              "    }\n",
              "\n",
              "    .colab-df-convert:hover {\n",
              "      background-color: #E2EBFA;\n",
              "      box-shadow: 0px 1px 2px rgba(60, 64, 67, 0.3), 0px 1px 3px 1px rgba(60, 64, 67, 0.15);\n",
              "      fill: #174EA6;\n",
              "    }\n",
              "\n",
              "    .colab-df-buttons div {\n",
              "      margin-bottom: 4px;\n",
              "    }\n",
              "\n",
              "    [theme=dark] .colab-df-convert {\n",
              "      background-color: #3B4455;\n",
              "      fill: #D2E3FC;\n",
              "    }\n",
              "\n",
              "    [theme=dark] .colab-df-convert:hover {\n",
              "      background-color: #434B5C;\n",
              "      box-shadow: 0px 1px 3px 1px rgba(0, 0, 0, 0.15);\n",
              "      filter: drop-shadow(0px 1px 2px rgba(0, 0, 0, 0.3));\n",
              "      fill: #FFFFFF;\n",
              "    }\n",
              "  </style>\n",
              "\n",
              "    <script>\n",
              "      const buttonEl =\n",
              "        document.querySelector('#df-d8eaf220-4f32-4823-8e02-6c2b0d124355 button.colab-df-convert');\n",
              "      buttonEl.style.display =\n",
              "        google.colab.kernel.accessAllowed ? 'block' : 'none';\n",
              "\n",
              "      async function convertToInteractive(key) {\n",
              "        const element = document.querySelector('#df-d8eaf220-4f32-4823-8e02-6c2b0d124355');\n",
              "        const dataTable =\n",
              "          await google.colab.kernel.invokeFunction('convertToInteractive',\n",
              "                                                    [key], {});\n",
              "        if (!dataTable) return;\n",
              "\n",
              "        const docLinkHtml = 'Like what you see? Visit the ' +\n",
              "          '<a target=\"_blank\" href=https://colab.research.google.com/notebooks/data_table.ipynb>data table notebook</a>'\n",
              "          + ' to learn more about interactive tables.';\n",
              "        element.innerHTML = '';\n",
              "        dataTable['output_type'] = 'display_data';\n",
              "        await google.colab.output.renderOutput(dataTable, element);\n",
              "        const docLink = document.createElement('div');\n",
              "        docLink.innerHTML = docLinkHtml;\n",
              "        element.appendChild(docLink);\n",
              "      }\n",
              "    </script>\n",
              "  </div>\n",
              "\n",
              "\n",
              "<div id=\"df-c073a390-2b15-4ee2-9579-de5548f56bb3\">\n",
              "  <button class=\"colab-df-quickchart\" onclick=\"quickchart('df-c073a390-2b15-4ee2-9579-de5548f56bb3')\"\n",
              "            title=\"Suggest charts\"\n",
              "            style=\"display:none;\">\n",
              "\n",
              "<svg xmlns=\"http://www.w3.org/2000/svg\" height=\"24px\"viewBox=\"0 0 24 24\"\n",
              "     width=\"24px\">\n",
              "    <g>\n",
              "        <path d=\"M19 3H5c-1.1 0-2 .9-2 2v14c0 1.1.9 2 2 2h14c1.1 0 2-.9 2-2V5c0-1.1-.9-2-2-2zM9 17H7v-7h2v7zm4 0h-2V7h2v10zm4 0h-2v-4h2v4z\"/>\n",
              "    </g>\n",
              "</svg>\n",
              "  </button>\n",
              "\n",
              "<style>\n",
              "  .colab-df-quickchart {\n",
              "      --bg-color: #E8F0FE;\n",
              "      --fill-color: #1967D2;\n",
              "      --hover-bg-color: #E2EBFA;\n",
              "      --hover-fill-color: #174EA6;\n",
              "      --disabled-fill-color: #AAA;\n",
              "      --disabled-bg-color: #DDD;\n",
              "  }\n",
              "\n",
              "  [theme=dark] .colab-df-quickchart {\n",
              "      --bg-color: #3B4455;\n",
              "      --fill-color: #D2E3FC;\n",
              "      --hover-bg-color: #434B5C;\n",
              "      --hover-fill-color: #FFFFFF;\n",
              "      --disabled-bg-color: #3B4455;\n",
              "      --disabled-fill-color: #666;\n",
              "  }\n",
              "\n",
              "  .colab-df-quickchart {\n",
              "    background-color: var(--bg-color);\n",
              "    border: none;\n",
              "    border-radius: 50%;\n",
              "    cursor: pointer;\n",
              "    display: none;\n",
              "    fill: var(--fill-color);\n",
              "    height: 32px;\n",
              "    padding: 0;\n",
              "    width: 32px;\n",
              "  }\n",
              "\n",
              "  .colab-df-quickchart:hover {\n",
              "    background-color: var(--hover-bg-color);\n",
              "    box-shadow: 0 1px 2px rgba(60, 64, 67, 0.3), 0 1px 3px 1px rgba(60, 64, 67, 0.15);\n",
              "    fill: var(--button-hover-fill-color);\n",
              "  }\n",
              "\n",
              "  .colab-df-quickchart-complete:disabled,\n",
              "  .colab-df-quickchart-complete:disabled:hover {\n",
              "    background-color: var(--disabled-bg-color);\n",
              "    fill: var(--disabled-fill-color);\n",
              "    box-shadow: none;\n",
              "  }\n",
              "\n",
              "  .colab-df-spinner {\n",
              "    border: 2px solid var(--fill-color);\n",
              "    border-color: transparent;\n",
              "    border-bottom-color: var(--fill-color);\n",
              "    animation:\n",
              "      spin 1s steps(1) infinite;\n",
              "  }\n",
              "\n",
              "  @keyframes spin {\n",
              "    0% {\n",
              "      border-color: transparent;\n",
              "      border-bottom-color: var(--fill-color);\n",
              "      border-left-color: var(--fill-color);\n",
              "    }\n",
              "    20% {\n",
              "      border-color: transparent;\n",
              "      border-left-color: var(--fill-color);\n",
              "      border-top-color: var(--fill-color);\n",
              "    }\n",
              "    30% {\n",
              "      border-color: transparent;\n",
              "      border-left-color: var(--fill-color);\n",
              "      border-top-color: var(--fill-color);\n",
              "      border-right-color: var(--fill-color);\n",
              "    }\n",
              "    40% {\n",
              "      border-color: transparent;\n",
              "      border-right-color: var(--fill-color);\n",
              "      border-top-color: var(--fill-color);\n",
              "    }\n",
              "    60% {\n",
              "      border-color: transparent;\n",
              "      border-right-color: var(--fill-color);\n",
              "    }\n",
              "    80% {\n",
              "      border-color: transparent;\n",
              "      border-right-color: var(--fill-color);\n",
              "      border-bottom-color: var(--fill-color);\n",
              "    }\n",
              "    90% {\n",
              "      border-color: transparent;\n",
              "      border-bottom-color: var(--fill-color);\n",
              "    }\n",
              "  }\n",
              "</style>\n",
              "\n",
              "  <script>\n",
              "    async function quickchart(key) {\n",
              "      const quickchartButtonEl =\n",
              "        document.querySelector('#' + key + ' button');\n",
              "      quickchartButtonEl.disabled = true;  // To prevent multiple clicks.\n",
              "      quickchartButtonEl.classList.add('colab-df-spinner');\n",
              "      try {\n",
              "        const charts = await google.colab.kernel.invokeFunction(\n",
              "            'suggestCharts', [key], {});\n",
              "      } catch (error) {\n",
              "        console.error('Error during call to suggestCharts:', error);\n",
              "      }\n",
              "      quickchartButtonEl.classList.remove('colab-df-spinner');\n",
              "      quickchartButtonEl.classList.add('colab-df-quickchart-complete');\n",
              "    }\n",
              "    (() => {\n",
              "      let quickchartButtonEl =\n",
              "        document.querySelector('#df-c073a390-2b15-4ee2-9579-de5548f56bb3 button');\n",
              "      quickchartButtonEl.style.display =\n",
              "        google.colab.kernel.accessAllowed ? 'block' : 'none';\n",
              "    })();\n",
              "  </script>\n",
              "</div>\n",
              "\n",
              "    </div>\n",
              "  </div>\n"
            ],
            "application/vnd.google.colaboratory.intrinsic+json": {
              "type": "dataframe",
              "variable_name": "df",
              "summary": "{\n  \"name\": \"df\",\n  \"rows\": 1446,\n  \"fields\": [\n    {\n      \"column\": \"Module_Code\",\n      \"properties\": {\n        \"dtype\": \"category\",\n        \"num_unique_values\": 90,\n        \"samples\": [\n          \"DLA:how-diffusion-models-work\",\n          \"CLMML04\",\n          \"DLA:reinforcement-learning-from-human-feedback\"\n        ],\n        \"semantic_type\": \"\",\n        \"description\": \"\"\n      }\n    },\n    {\n      \"column\": \"Course_Learning_Material\",\n      \"properties\": {\n        \"dtype\": \"category\",\n        \"num_unique_values\": 21,\n        \"samples\": [\n          \"Introduction to Machine Learning\",\n          \"Data Engineer - Google Cloud Big Data and Machine Learning Fundamentals\",\n          \"Data Preparation and Feature Engineering in ML\"\n        ],\n        \"semantic_type\": \"\",\n        \"description\": \"\"\n      }\n    },\n    {\n      \"column\": \"Source\",\n      \"properties\": {\n        \"dtype\": \"category\",\n        \"num_unique_values\": 39,\n        \"samples\": [\n          \"LangChain,Tavily,DeepLearning.AI\",\n          \"DeepLearning.AI,Upstage\",\n          \"DeepLearning.AI\"\n        ],\n        \"semantic_type\": \"\",\n        \"description\": \"\"\n      }\n    },\n    {\n      \"column\": \"Course_Level\",\n      \"properties\": {\n        \"dtype\": \"category\",\n        \"num_unique_values\": 3,\n        \"samples\": [\n          \"Beginner\",\n          \"Intermediate\",\n          \"Advanced\"\n        ],\n        \"semantic_type\": \"\",\n        \"description\": \"\"\n      }\n    },\n    {\n      \"column\": \"Type_Free_Paid\",\n      \"properties\": {\n        \"dtype\": \"category\",\n        \"num_unique_values\": 3,\n        \"samples\": [\n          \"Free\",\n          \"Free during mentorship period\",\n          \"Paid\"\n        ],\n        \"semantic_type\": \"\",\n        \"description\": \"\"\n      }\n    },\n    {\n      \"column\": \"Module\",\n      \"properties\": {\n        \"dtype\": \"string\",\n        \"num_unique_values\": 1404,\n        \"samples\": [\n          \"Custom Training with Linear, Neural Network and Deep Neural Network modelsIntroduction to Linear Models\",\n          \"A Tour of Google Cloud Hands-on Labs - Task 4 APIs and services\",\n          \"Building and Operationalizing Data Processing Systems: Practice exam questions 02\"\n        ],\n        \"semantic_type\": \"\",\n        \"description\": \"\"\n      }\n    },\n    {\n      \"column\": \"Duration\",\n      \"properties\": {\n        \"dtype\": \"category\",\n        \"num_unique_values\": 119,\n        \"samples\": [\n          \"27.0 minutes\",\n          \"138.0 minutes\",\n          \"60.0 minutes\"\n        ],\n        \"semantic_type\": \"\",\n        \"description\": \"\"\n      }\n    },\n    {\n      \"column\": \"Difficulty_Level\",\n      \"properties\": {\n        \"dtype\": \"category\",\n        \"num_unique_values\": 5,\n        \"samples\": [\n          \"Medium\",\n          \"Intermediate\",\n          \"Hard\"\n        ],\n        \"semantic_type\": \"\",\n        \"description\": \"\"\n      }\n    },\n    {\n      \"column\": \"Keywords_Tags_Skills_Interests_Categories\",\n      \"properties\": {\n        \"dtype\": \"category\",\n        \"num_unique_values\": 428,\n        \"samples\": [\n          \"AI Frameworks,Agents,GenAI Applications,RAG,Task Automation\",\n          \"Decision Trees, Decision Forests, Random Forest, Split, Node, Information Gain, Gini, Shannon Entropy, Binary Classification\",\n          \"data engineer, bigquery, partitioned datasets, querying datasets, SQL\"\n        ],\n        \"semantic_type\": \"\",\n        \"description\": \"\"\n      }\n    },\n    {\n      \"column\": \"Links\",\n      \"properties\": {\n        \"dtype\": \"string\",\n        \"num_unique_values\": 1307,\n        \"samples\": [\n          \"https://www.cloudskillsboost.google/course_sessions/5303702/video/392196\",\n          \"https://www.cloudskillsboost.google/course_sessions/5304109/documents/363197\",\n          \"https://www.cloudskillsboost.google/course_sessions/5300718/documents/405152\"\n        ],\n        \"semantic_type\": \"\",\n        \"description\": \"\"\n      }\n    }\n  ]\n}"
            }
          },
          "metadata": {},
          "execution_count": 43
        }
      ]
    },
    {
      "cell_type": "markdown",
      "source": [
        "Let's check the total number of rows in this dataset."
      ],
      "metadata": {
        "id": "KbvtBivZHAcA"
      }
    },
    {
      "cell_type": "code",
      "source": [
        "df.shape, df.columns"
      ],
      "metadata": {
        "execution": {
          "iopub.status.busy": "2024-10-23T20:28:28.475816Z",
          "iopub.execute_input": "2024-10-23T20:28:28.47658Z",
          "iopub.status.idle": "2024-10-23T20:28:28.485045Z",
          "shell.execute_reply.started": "2024-10-23T20:28:28.476532Z",
          "shell.execute_reply": "2024-10-23T20:28:28.484108Z"
        },
        "trusted": true,
        "id": "27S3tMoGHAcA",
        "outputId": "d63b2dac-01f1-42d8-8759-1a1bdb1545c4",
        "colab": {
          "base_uri": "https://localhost:8080/"
        }
      },
      "execution_count": 19,
      "outputs": [
        {
          "output_type": "execute_result",
          "data": {
            "text/plain": [
              "((1446, 10),\n",
              " Index(['Module_Code', 'Course_Learning_Material', 'Source', 'Course_Level',\n",
              "        'Type_Free_Paid', 'Module', 'Duration', 'Difficulty_Level',\n",
              "        'Keywords_Tags_Skills_Interests_Categories', 'Links'],\n",
              "       dtype='object'))"
            ]
          },
          "metadata": {},
          "execution_count": 19
        }
      ]
    },
    {
      "cell_type": "markdown",
      "source": [
        "# Preprocess the data\n",
        "\n",
        "We will preprocess the data so that, from the sequences in the `text` column, we extract the `<|system|>` prompt and the pairs of {`<|user|>`, `<|assistant|>`} to form triplets of {`<|system|>`, `<|user|>`, `<|assistant|>`}  for each entry in the data for fine-tuning."
      ],
      "metadata": {
        "id": "X8LtbQpLHAcB"
      }
    },
    {
      "cell_type": "code",
      "source": [
        "import re\n",
        "\n",
        "def extract_dialogue_components(row):\n",
        "    # Ensure all relevant fields are strings and handle NaN or other invalid types\n",
        "    module_code = str(row['Module_Code']) if pd.notna(row['Module_Code']) else \"Unknown Module\"\n",
        "    source = str(row['Source']) if pd.notna(row['Source']) else \"Unknown Source\"\n",
        "    difficulty_level = str(row['Difficulty_Level']) if pd.notna(row['Difficulty_Level']) else \"Unknown Level\"\n",
        "    module = str(row['Module']) if pd.notna(row['Module']) else \"Unknown Module\"\n",
        "    course_material = str(row['Course_Learning_Material']) if pd.notna(row['Course_Learning_Material']) else \"\"\n",
        "    keywords = str(row['Keywords_Tags_Skills_Interests_Categories']) if pd.notna(row['Keywords_Tags_Skills_Interests_Categories']) else \"No keywords available\"\n",
        "    duration = str(row['Duration']) if pd.notna(row['Duration']) else \"Unknown duration\"\n",
        "\n",
        "    # Extract system prompt from course metadata\n",
        "    system_prompt = f\"<|system|> Module: {module_code}, Source: {source}, Level: {difficulty_level}. This is an introduction to {module}. </s>\"\n",
        "\n",
        "    # Extract user input as Course Learning Material (if available)\n",
        "    user_input = f\"<|user|> {course_material} </s>\" if course_material else \"<|user|> No course learning material provided. </s>\"\n",
        "\n",
        "    # Extract assistant response from other relevant columns\n",
        "    assistant_response = f\"<|assistant|> This module covers the following topics: {keywords}. Duration: {duration}. </s>\"\n",
        "\n",
        "    # Combine user and assistant exchanges as dialogue pairs\n",
        "    dialogue_pair = f\"{user_input}\\n{assistant_response}\"\n",
        "\n",
        "    return system_prompt, [dialogue_pair]"
      ],
      "metadata": {
        "execution": {
          "iopub.status.busy": "2024-10-23T20:28:28.486228Z",
          "iopub.execute_input": "2024-10-23T20:28:28.48656Z",
          "iopub.status.idle": "2024-10-23T20:28:28.496484Z",
          "shell.execute_reply.started": "2024-10-23T20:28:28.486526Z",
          "shell.execute_reply": "2024-10-23T20:28:28.495626Z"
        },
        "trusted": true,
        "id": "J85AlIh2HAcB"
      },
      "execution_count": 20,
      "outputs": []
    },
    {
      "cell_type": "markdown",
      "source": [
        "We process the data. We will only include in the data for fine-tuning the model the rows that fits in the max length as configured."
      ],
      "metadata": {
        "id": "4uy3o3qrHAcB"
      }
    },
    {
      "cell_type": "code",
      "source": [
        "# Set the max length for processing, example: 512 tokens.\n",
        "MAX_LENGTH = 512\n",
        "\n",
        "# Initialize an empty list to store processed data\n",
        "data = []\n",
        "\n",
        "# Function to simulate token length estimation\n",
        "def estimate_token_length(text):\n",
        "    return len(text.split())\n",
        "\n",
        "# Iterate over each row in the dataframe\n",
        "for index, row in df.iterrows():\n",
        "    try:\n",
        "        # Estimate the length of the text in terms of tokens\n",
        "        token_length = estimate_token_length(row[\"Course_Learning_Material\"])\n",
        "\n",
        "        # Filter rows based on max token length constraint\n",
        "        if token_length <= MAX_LENGTH:\n",
        "            system_prompt, dialogue_pairs = extract_dialogue_components(row)\n",
        "\n",
        "            # Prepare prompt samples from dialogue pairs\n",
        "            for pair in dialogue_pairs:\n",
        "                prompt_sample = f\"{system_prompt}\\n\\n{pair}\"\n",
        "                data.append(prompt_sample)\n",
        "    except Exception as ex:\n",
        "        print(f\"Error at row {index}: {ex}\")\n",
        "\n",
        "# Display the number of processed data points\n",
        "len(data)\n"
      ],
      "metadata": {
        "execution": {
          "iopub.status.busy": "2024-10-23T20:28:28.513432Z",
          "iopub.execute_input": "2024-10-23T20:28:28.513807Z",
          "iopub.status.idle": "2024-10-23T20:28:28.711291Z",
          "shell.execute_reply.started": "2024-10-23T20:28:28.513755Z",
          "shell.execute_reply": "2024-10-23T20:28:28.710236Z"
        },
        "trusted": true,
        "id": "gRANfjTqHAcB",
        "outputId": "54e98d1f-80d6-4448-ac54-4c31fa5d4d58",
        "colab": {
          "base_uri": "https://localhost:8080/"
        }
      },
      "execution_count": 22,
      "outputs": [
        {
          "output_type": "execute_result",
          "data": {
            "text/plain": [
              "1446"
            ]
          },
          "metadata": {},
          "execution_count": 22
        }
      ]
    },
    {
      "cell_type": "markdown",
      "source": [
        "## Template utility function\n",
        "\n",
        "\n",
        "We use this function to reformat the output of our queries, so that it is more user friendly.\n",
        "\n",
        "We replace and highlight the initial special tokens with more human-readable text (Instruction, Question, Answer)."
      ],
      "metadata": {
        "id": "__4SgjDMHAcB"
      }
    },
    {
      "cell_type": "code",
      "source": [
        "def colorize_text(text):\n",
        "    for word, formatted_word, color in zip([\"<|system|>:\", \"<|user|>:\", \"<|assistant|>:\"],\n",
        "                                           [\"Instruction:\", \"Question:\", \"Answer:\"],\n",
        "                                           [\"blue\", \"red\", \"green\"]):\n",
        "        text = text.replace(f\"\\n\\n{word}\", f\"\\n\\n**<font color='{color}'>{formatted_word}</font>**\")\n",
        "    return text"
      ],
      "metadata": {
        "execution": {
          "iopub.status.busy": "2024-10-23T20:28:28.741918Z",
          "iopub.execute_input": "2024-10-23T20:28:28.74224Z",
          "iopub.status.idle": "2024-10-23T20:28:28.747677Z",
          "shell.execute_reply.started": "2024-10-23T20:28:28.742206Z",
          "shell.execute_reply": "2024-10-23T20:28:28.746717Z"
        },
        "trusted": true,
        "id": "-4i85CIcHAcB"
      },
      "execution_count": 24,
      "outputs": []
    },
    {
      "cell_type": "markdown",
      "source": [
        "# Specialized class to query Gemma\n",
        "\n",
        "\n",
        "We define a specialized class to query Gemma. But first, we need to initialize an object of GemmaCausalLM class."
      ],
      "metadata": {
        "id": "fCEtmUz7HAcB"
      }
    },
    {
      "cell_type": "markdown",
      "source": [
        "## Initialize the code for Gemma Causal LM"
      ],
      "metadata": {
        "id": "41MhLBtZHAcC"
      }
    },
    {
      "cell_type": "code",
      "source": [
        "gemma_causal_lm = keras_nlp.models.GemmaCausalLM.from_preset(Config.preset)\n",
        "gemma_causal_lm.summary()"
      ],
      "metadata": {
        "execution": {
          "iopub.status.busy": "2024-10-23T20:28:28.748851Z",
          "iopub.execute_input": "2024-10-23T20:28:28.749287Z",
          "iopub.status.idle": "2024-10-23T20:29:18.987962Z",
          "shell.execute_reply.started": "2024-10-23T20:28:28.749236Z",
          "shell.execute_reply": "2024-10-23T20:29:18.98702Z"
        },
        "trusted": true,
        "id": "8ysT8g-rHAcC",
        "outputId": "e48391ee-73b6-43a3-d408-ba67a4d1dc49",
        "colab": {
          "base_uri": "https://localhost:8080/",
          "height": 577,
          "referenced_widgets": [
            "595a3b9c89e746468bd87941e61d92f2",
            "7a571616934a412ba2fc41870aab8be7",
            "ef64062da4224437bda309282f9087b1",
            "b7d7039f6ac14a31824516ddd8a3bf60",
            "d3dbc548cd2945d3bbc4001ab1abfbe3",
            "ee8c1894b04149bcbb49743d74764929",
            "e500d47a507c48fbb8d018c4ffbecd40",
            "219a72668df14dc9951add9a809ed70b",
            "0775ff78f3c646bbbda551a4cae8cb50",
            "59b04749178c49a8a9f2d988e1a3b95b",
            "430cdb661030427b8a5eb9f35c7d6073",
            "93edefcb8e7f4efc8fcf7e9f5568ccb3",
            "637eca6a263e4f0a9ef7774e1399b0b6",
            "a888efeddbf44a52b3b75904ca1b51ed",
            "6e8c635320854fa687a300cfe5ea6436",
            "d07fe16265d24a0baa8da5e37b2bea98",
            "d24bb23c57e9415598fc803683f938de",
            "1be14c135ed440b882d1aa5df2eda3e7",
            "b686c43cdb594b44ade40b9bdec88941",
            "e487e1cbffdd4173ba53ca5257b2c375",
            "fd94a833ba9e45948120f0a28dd81000",
            "cb882dc877514c72bc7d47e937b6bfee",
            "7e95191fb24c4d02af38a617f5b4a1fb",
            "28d1360c10724dc68a49dd2af2b523c8",
            "41a4a8206c68485496b2c39b20b31fe0",
            "df9c6338a7fd49b8b822688d99a0b9a7",
            "4988af0aafb1404b9fe4d4b03fa46d20",
            "a45ba91ed1f7483597825f8f502ba936",
            "5f1446909a1c46ef9e64bb1b301003c2",
            "8c55e43481834b429090daad2cce0cfe",
            "5c9f95786b1942c1a26770a8d09b0ac9",
            "7f47c232872148ceaf849ad3575af828",
            "c4f53807b23245c59fe02fe0b0d54f13",
            "747f76e88c1f490fbd0c283c2eabaf5f",
            "65aa3ebb79d043f9b76ed047b12260ac",
            "03a17d76c10941589bb1f37c2ffbb504",
            "461dd0a0ef8e4542970bc3601c84514d",
            "d131bd545b1e43318123ab8f9cff6be4",
            "64204634b1fc4b8db0a3a53fd42a501d",
            "41304c8d3c15419895169df920cad9d5",
            "e23be18c29314bb49348cadbd04bc0b0",
            "bf8b1c06c3254a3ba15c3ed60e7aa6c9",
            "2bc91eca22eb48e8b87c01ab93b9d84b",
            "0087344202e845bd99298b0c481c470f",
            "9b20e1dd06674aec8102fab455e83b0c",
            "62a584e9453349e2ba20df4c9a549b97",
            "8019f0b8b3e4471089effa5ca39910c8",
            "2a498fd9aa1344cc9200e8ffcaf73564",
            "80316f2ce8c448aa9a8fddc16eccd44b",
            "0f94181da69848b9bf10f6ada9b66e32",
            "d5bda944ed1447fbbb52ffd46572fe92",
            "3a057fcc6ed3400fb1720fbe71eec608",
            "d3ec91d9249c47fe9c70a5e00b42ae4b",
            "74973a3838634d4e994bfa464542c6e4",
            "0bc650b851574e5ebed15663c7b34ffb",
            "5a3eb3adee1e427ebd6a90c35382227b",
            "ef09208be8c54b59b7de0dd418277986",
            "f7a436ddff974132b580fe8729dc2af7",
            "882562c3c4ee4aa6bcc97266043c09d2",
            "9e9e65afdd094d3a8aee27eea1120278",
            "1c415aa11a434f2dab72835cc2c8fd4e",
            "84b5a497e30f499386b056b7922494a0",
            "b803a185d1974d67a7edf6114f01776d",
            "568c5bd72c034d72a9cfc4dc1f8073db",
            "f6afcb1442dd458394534e4ebd4543e7",
            "e7eca12cfc8a45198a2df18ea6d4af01"
          ]
        }
      },
      "execution_count": 25,
      "outputs": [
        {
          "output_type": "display_data",
          "data": {
            "text/plain": [
              "config.json:   0%|          | 0.00/818 [00:00<?, ?B/s]"
            ],
            "application/vnd.jupyter.widget-view+json": {
              "version_major": 2,
              "version_minor": 0,
              "model_id": "595a3b9c89e746468bd87941e61d92f2"
            }
          },
          "metadata": {}
        },
        {
          "output_type": "display_data",
          "data": {
            "text/plain": [
              "model.safetensors.index.json:   0%|          | 0.00/24.2k [00:00<?, ?B/s]"
            ],
            "application/vnd.jupyter.widget-view+json": {
              "version_major": 2,
              "version_minor": 0,
              "model_id": "93edefcb8e7f4efc8fcf7e9f5568ccb3"
            }
          },
          "metadata": {}
        },
        {
          "output_type": "display_data",
          "data": {
            "text/plain": [
              "model-00001-of-00003.safetensors:   0%|          | 0.00/4.99G [00:00<?, ?B/s]"
            ],
            "application/vnd.jupyter.widget-view+json": {
              "version_major": 2,
              "version_minor": 0,
              "model_id": "7e95191fb24c4d02af38a617f5b4a1fb"
            }
          },
          "metadata": {}
        },
        {
          "output_type": "display_data",
          "data": {
            "text/plain": [
              "model-00002-of-00003.safetensors:   0%|          | 0.00/4.98G [00:00<?, ?B/s]"
            ],
            "application/vnd.jupyter.widget-view+json": {
              "version_major": 2,
              "version_minor": 0,
              "model_id": "747f76e88c1f490fbd0c283c2eabaf5f"
            }
          },
          "metadata": {}
        },
        {
          "output_type": "display_data",
          "data": {
            "text/plain": [
              "model-00003-of-00003.safetensors:   0%|          | 0.00/481M [00:00<?, ?B/s]"
            ],
            "application/vnd.jupyter.widget-view+json": {
              "version_major": 2,
              "version_minor": 0,
              "model_id": "9b20e1dd06674aec8102fab455e83b0c"
            }
          },
          "metadata": {}
        },
        {
          "output_type": "display_data",
          "data": {
            "text/plain": [
              "tokenizer.model:   0%|          | 0.00/4.24M [00:00<?, ?B/s]"
            ],
            "application/vnd.jupyter.widget-view+json": {
              "version_major": 2,
              "version_minor": 0,
              "model_id": "5a3eb3adee1e427ebd6a90c35382227b"
            }
          },
          "metadata": {}
        },
        {
          "output_type": "display_data",
          "data": {
            "text/plain": [
              "\u001b[1mPreprocessor: \"gemma_causal_lm_preprocessor\"\u001b[0m\n"
            ],
            "text/html": [
              "<pre style=\"white-space:pre;overflow-x:auto;line-height:normal;font-family:Menlo,'DejaVu Sans Mono',consolas,'Courier New',monospace\"><span style=\"font-weight: bold\">Preprocessor: \"gemma_causal_lm_preprocessor\"</span>\n",
              "</pre>\n"
            ]
          },
          "metadata": {}
        },
        {
          "output_type": "display_data",
          "data": {
            "text/plain": [
              "┏━━━━━━━━━━━━━━━━━━━━━━━━━━━━━━━━━━━━━━━━━━━━━━━━━━━━━━━━━━━━━━━┳━━━━━━━━━━━━━━━━━━━━━━━━━━━━━━━━━━━━━━━━━━┓\n",
              "┃\u001b[1m \u001b[0m\u001b[1mLayer (type)                                                 \u001b[0m\u001b[1m \u001b[0m┃\u001b[1m \u001b[0m\u001b[1m                                  Config\u001b[0m\u001b[1m \u001b[0m┃\n",
              "┡━━━━━━━━━━━━━━━━━━━━━━━━━━━━━━━━━━━━━━━━━━━━━━━━━━━━━━━━━━━━━━━╇━━━━━━━━━━━━━━━━━━━━━━━━━━━━━━━━━━━━━━━━━━┩\n",
              "│ gemma_tokenizer (\u001b[38;5;33mGemmaTokenizer\u001b[0m)                              │                      Vocab size: \u001b[38;5;34m256,000\u001b[0m │\n",
              "└───────────────────────────────────────────────────────────────┴──────────────────────────────────────────┘\n"
            ],
            "text/html": [
              "<pre style=\"white-space:pre;overflow-x:auto;line-height:normal;font-family:Menlo,'DejaVu Sans Mono',consolas,'Courier New',monospace\">┏━━━━━━━━━━━━━━━━━━━━━━━━━━━━━━━━━━━━━━━━━━━━━━━━━━━━━━━━━━━━━━━┳━━━━━━━━━━━━━━━━━━━━━━━━━━━━━━━━━━━━━━━━━━┓\n",
              "┃<span style=\"font-weight: bold\"> Layer (type)                                                  </span>┃<span style=\"font-weight: bold\">                                   Config </span>┃\n",
              "┡━━━━━━━━━━━━━━━━━━━━━━━━━━━━━━━━━━━━━━━━━━━━━━━━━━━━━━━━━━━━━━━╇━━━━━━━━━━━━━━━━━━━━━━━━━━━━━━━━━━━━━━━━━━┩\n",
              "│ gemma_tokenizer (<span style=\"color: #0087ff; text-decoration-color: #0087ff\">GemmaTokenizer</span>)                              │                      Vocab size: <span style=\"color: #00af00; text-decoration-color: #00af00\">256,000</span> │\n",
              "└───────────────────────────────────────────────────────────────┴──────────────────────────────────────────┘\n",
              "</pre>\n"
            ]
          },
          "metadata": {}
        },
        {
          "output_type": "display_data",
          "data": {
            "text/plain": [
              "\u001b[1mModel: \"gemma_causal_lm\"\u001b[0m\n"
            ],
            "text/html": [
              "<pre style=\"white-space:pre;overflow-x:auto;line-height:normal;font-family:Menlo,'DejaVu Sans Mono',consolas,'Courier New',monospace\"><span style=\"font-weight: bold\">Model: \"gemma_causal_lm\"</span>\n",
              "</pre>\n"
            ]
          },
          "metadata": {}
        },
        {
          "output_type": "display_data",
          "data": {
            "text/plain": [
              "┏━━━━━━━━━━━━━━━━━━━━━━━━━━━━━━━┳━━━━━━━━━━━━━━━━━━━━━━━━━━━┳━━━━━━━━━━━━━━━━━┳━━━━━━━━━━━━━━━━━━━━━━━━━━━━┓\n",
              "┃\u001b[1m \u001b[0m\u001b[1mLayer (type)                 \u001b[0m\u001b[1m \u001b[0m┃\u001b[1m \u001b[0m\u001b[1mOutput Shape             \u001b[0m\u001b[1m \u001b[0m┃\u001b[1m \u001b[0m\u001b[1m        Param #\u001b[0m\u001b[1m \u001b[0m┃\u001b[1m \u001b[0m\u001b[1mConnected to              \u001b[0m\u001b[1m \u001b[0m┃\n",
              "┡━━━━━━━━━━━━━━━━━━━━━━━━━━━━━━━╇━━━━━━━━━━━━━━━━━━━━━━━━━━━╇━━━━━━━━━━━━━━━━━╇━━━━━━━━━━━━━━━━━━━━━━━━━━━━┩\n",
              "│ padding_mask (\u001b[38;5;33mInputLayer\u001b[0m)     │ (\u001b[38;5;45mNone\u001b[0m, \u001b[38;5;45mNone\u001b[0m)              │               \u001b[38;5;34m0\u001b[0m │ -                          │\n",
              "├───────────────────────────────┼───────────────────────────┼─────────────────┼────────────────────────────┤\n",
              "│ token_ids (\u001b[38;5;33mInputLayer\u001b[0m)        │ (\u001b[38;5;45mNone\u001b[0m, \u001b[38;5;45mNone\u001b[0m)              │               \u001b[38;5;34m0\u001b[0m │ -                          │\n",
              "├───────────────────────────────┼───────────────────────────┼─────────────────┼────────────────────────────┤\n",
              "│ gemma_backbone                │ (\u001b[38;5;45mNone\u001b[0m, \u001b[38;5;45mNone\u001b[0m, \u001b[38;5;34m2304\u001b[0m)        │   \u001b[38;5;34m2,614,341,888\u001b[0m │ padding_mask[\u001b[38;5;34m0\u001b[0m][\u001b[38;5;34m0\u001b[0m],        │\n",
              "│ (\u001b[38;5;33mGemmaBackbone\u001b[0m)               │                           │                 │ token_ids[\u001b[38;5;34m0\u001b[0m][\u001b[38;5;34m0\u001b[0m]            │\n",
              "├───────────────────────────────┼───────────────────────────┼─────────────────┼────────────────────────────┤\n",
              "│ token_embedding               │ (\u001b[38;5;45mNone\u001b[0m, \u001b[38;5;45mNone\u001b[0m, \u001b[38;5;34m256000\u001b[0m)      │     \u001b[38;5;34m589,824,000\u001b[0m │ gemma_backbone[\u001b[38;5;34m0\u001b[0m][\u001b[38;5;34m0\u001b[0m]       │\n",
              "│ (\u001b[38;5;33mReversibleEmbedding\u001b[0m)         │                           │                 │                            │\n",
              "└───────────────────────────────┴───────────────────────────┴─────────────────┴────────────────────────────┘\n"
            ],
            "text/html": [
              "<pre style=\"white-space:pre;overflow-x:auto;line-height:normal;font-family:Menlo,'DejaVu Sans Mono',consolas,'Courier New',monospace\">┏━━━━━━━━━━━━━━━━━━━━━━━━━━━━━━━┳━━━━━━━━━━━━━━━━━━━━━━━━━━━┳━━━━━━━━━━━━━━━━━┳━━━━━━━━━━━━━━━━━━━━━━━━━━━━┓\n",
              "┃<span style=\"font-weight: bold\"> Layer (type)                  </span>┃<span style=\"font-weight: bold\"> Output Shape              </span>┃<span style=\"font-weight: bold\">         Param # </span>┃<span style=\"font-weight: bold\"> Connected to               </span>┃\n",
              "┡━━━━━━━━━━━━━━━━━━━━━━━━━━━━━━━╇━━━━━━━━━━━━━━━━━━━━━━━━━━━╇━━━━━━━━━━━━━━━━━╇━━━━━━━━━━━━━━━━━━━━━━━━━━━━┩\n",
              "│ padding_mask (<span style=\"color: #0087ff; text-decoration-color: #0087ff\">InputLayer</span>)     │ (<span style=\"color: #00d7ff; text-decoration-color: #00d7ff\">None</span>, <span style=\"color: #00d7ff; text-decoration-color: #00d7ff\">None</span>)              │               <span style=\"color: #00af00; text-decoration-color: #00af00\">0</span> │ -                          │\n",
              "├───────────────────────────────┼───────────────────────────┼─────────────────┼────────────────────────────┤\n",
              "│ token_ids (<span style=\"color: #0087ff; text-decoration-color: #0087ff\">InputLayer</span>)        │ (<span style=\"color: #00d7ff; text-decoration-color: #00d7ff\">None</span>, <span style=\"color: #00d7ff; text-decoration-color: #00d7ff\">None</span>)              │               <span style=\"color: #00af00; text-decoration-color: #00af00\">0</span> │ -                          │\n",
              "├───────────────────────────────┼───────────────────────────┼─────────────────┼────────────────────────────┤\n",
              "│ gemma_backbone                │ (<span style=\"color: #00d7ff; text-decoration-color: #00d7ff\">None</span>, <span style=\"color: #00d7ff; text-decoration-color: #00d7ff\">None</span>, <span style=\"color: #00af00; text-decoration-color: #00af00\">2304</span>)        │   <span style=\"color: #00af00; text-decoration-color: #00af00\">2,614,341,888</span> │ padding_mask[<span style=\"color: #00af00; text-decoration-color: #00af00\">0</span>][<span style=\"color: #00af00; text-decoration-color: #00af00\">0</span>],        │\n",
              "│ (<span style=\"color: #0087ff; text-decoration-color: #0087ff\">GemmaBackbone</span>)               │                           │                 │ token_ids[<span style=\"color: #00af00; text-decoration-color: #00af00\">0</span>][<span style=\"color: #00af00; text-decoration-color: #00af00\">0</span>]            │\n",
              "├───────────────────────────────┼───────────────────────────┼─────────────────┼────────────────────────────┤\n",
              "│ token_embedding               │ (<span style=\"color: #00d7ff; text-decoration-color: #00d7ff\">None</span>, <span style=\"color: #00d7ff; text-decoration-color: #00d7ff\">None</span>, <span style=\"color: #00af00; text-decoration-color: #00af00\">256000</span>)      │     <span style=\"color: #00af00; text-decoration-color: #00af00\">589,824,000</span> │ gemma_backbone[<span style=\"color: #00af00; text-decoration-color: #00af00\">0</span>][<span style=\"color: #00af00; text-decoration-color: #00af00\">0</span>]       │\n",
              "│ (<span style=\"color: #0087ff; text-decoration-color: #0087ff\">ReversibleEmbedding</span>)         │                           │                 │                            │\n",
              "└───────────────────────────────┴───────────────────────────┴─────────────────┴────────────────────────────┘\n",
              "</pre>\n"
            ]
          },
          "metadata": {}
        },
        {
          "output_type": "display_data",
          "data": {
            "text/plain": [
              "\u001b[1m Total params: \u001b[0m\u001b[38;5;34m2,614,341,888\u001b[0m (9.74 GB)\n"
            ],
            "text/html": [
              "<pre style=\"white-space:pre;overflow-x:auto;line-height:normal;font-family:Menlo,'DejaVu Sans Mono',consolas,'Courier New',monospace\"><span style=\"font-weight: bold\"> Total params: </span><span style=\"color: #00af00; text-decoration-color: #00af00\">2,614,341,888</span> (9.74 GB)\n",
              "</pre>\n"
            ]
          },
          "metadata": {}
        },
        {
          "output_type": "display_data",
          "data": {
            "text/plain": [
              "\u001b[1m Trainable params: \u001b[0m\u001b[38;5;34m2,614,341,888\u001b[0m (9.74 GB)\n"
            ],
            "text/html": [
              "<pre style=\"white-space:pre;overflow-x:auto;line-height:normal;font-family:Menlo,'DejaVu Sans Mono',consolas,'Courier New',monospace\"><span style=\"font-weight: bold\"> Trainable params: </span><span style=\"color: #00af00; text-decoration-color: #00af00\">2,614,341,888</span> (9.74 GB)\n",
              "</pre>\n"
            ]
          },
          "metadata": {}
        },
        {
          "output_type": "display_data",
          "data": {
            "text/plain": [
              "\u001b[1m Non-trainable params: \u001b[0m\u001b[38;5;34m0\u001b[0m (0.00 B)\n"
            ],
            "text/html": [
              "<pre style=\"white-space:pre;overflow-x:auto;line-height:normal;font-family:Menlo,'DejaVu Sans Mono',consolas,'Courier New',monospace\"><span style=\"font-weight: bold\"> Non-trainable params: </span><span style=\"color: #00af00; text-decoration-color: #00af00\">0</span> (0.00 B)\n",
              "</pre>\n"
            ]
          },
          "metadata": {}
        }
      ]
    },
    {
      "cell_type": "markdown",
      "source": [
        "## Define the specialized class\n",
        "\n",
        "Here we define the special class `GemmaQA`.\n",
        "in the `__init__` we pass the `GemmaCausalLM` object created before.\n",
        "The `query` member function uses `GemmaCausalLM` member function `generate` to generate the answer, based on a prompt that includes the category and the question."
      ],
      "metadata": {
        "id": "pVcY72DgHAcC"
      }
    },
    {
      "cell_type": "code",
      "source": [
        "template = \"\\n\\n<|system|>:\\n{instruct}\\n\\n<|user|>:\\n{question}\\n\\n<|assistant|>:\\n{answer}\"\n",
        "class GemmaQA:\n",
        "    def __init__(self, max_length=512):\n",
        "        self.max_length = max_length\n",
        "        self.prompt = template\n",
        "        self.gemma_causal_lm = gemma_causal_lm\n",
        "\n",
        "    def query(self, instruct, question):\n",
        "        response = self.gemma_causal_lm.generate(\n",
        "            self.prompt.format(\n",
        "                instruct=instruct,\n",
        "                question=question,\n",
        "                answer=\"\"),\n",
        "            max_length=self.max_length)\n",
        "        display(Markdown(colorize_text(response)))\n"
      ],
      "metadata": {
        "execution": {
          "iopub.status.busy": "2024-10-23T20:29:18.98925Z",
          "iopub.execute_input": "2024-10-23T20:29:18.989568Z",
          "iopub.status.idle": "2024-10-23T20:29:18.99576Z",
          "shell.execute_reply.started": "2024-10-23T20:29:18.989525Z",
          "shell.execute_reply": "2024-10-23T20:29:18.994779Z"
        },
        "trusted": true,
        "id": "t25I4tYLHAcC"
      },
      "execution_count": 26,
      "outputs": []
    },
    {
      "cell_type": "markdown",
      "source": [
        "## Gemma preprocessor\n",
        "\n",
        "\n",
        "This preprocessing layer will take in batches of strings, and return outputs in a ```(x, y, sample_weight)``` format, where the y label is the next token id in the x sequence.\n",
        "\n",
        "From the code below, we can see that, after the preprocessor, the data shape is ```(num_samples, sequence_length)```."
      ],
      "metadata": {
        "id": "lbxb_IOLHAcC"
      }
    },
    {
      "cell_type": "code",
      "source": [
        "x, y, sample_weight = gemma_causal_lm.preprocessor(data[0:2])"
      ],
      "metadata": {
        "execution": {
          "iopub.status.busy": "2024-10-23T20:29:18.996963Z",
          "iopub.execute_input": "2024-10-23T20:29:18.997328Z",
          "iopub.status.idle": "2024-10-23T20:29:19.11009Z",
          "shell.execute_reply.started": "2024-10-23T20:29:18.997297Z",
          "shell.execute_reply": "2024-10-23T20:29:19.1093Z"
        },
        "trusted": true,
        "id": "KMD2bFs6HAcC"
      },
      "execution_count": 27,
      "outputs": []
    },
    {
      "cell_type": "code",
      "source": [
        "print(x, y)"
      ],
      "metadata": {
        "execution": {
          "iopub.status.busy": "2024-10-23T20:29:19.111379Z",
          "iopub.execute_input": "2024-10-23T20:29:19.111742Z",
          "iopub.status.idle": "2024-10-23T20:29:19.182542Z",
          "shell.execute_reply.started": "2024-10-23T20:29:19.111701Z",
          "shell.execute_reply": "2024-10-23T20:29:19.181602Z"
        },
        "trusted": true,
        "id": "xc-k-WDvHAcC",
        "outputId": "50508b9e-ec10-43c1-b61f-ff87a9b3c3c6",
        "colab": {
          "base_uri": "https://localhost:8080/"
        }
      },
      "execution_count": 28,
      "outputs": [
        {
          "output_type": "stream",
          "name": "stdout",
          "text": [
            "{'token_ids': Array([[     2, 235322, 235371, ...,      0,      0,      0],\n",
            "       [     2, 235322, 235371, ...,      0,      0,      0]],      dtype=int32), 'padding_mask': Array([[ True,  True,  True, ..., False, False, False],\n",
            "       [ True,  True,  True, ..., False, False, False]], dtype=bool)} [[235322 235371   9020 ...      0      0      0]\n",
            " [235322 235371   9020 ...      0      0      0]]\n"
          ]
        }
      ]
    },
    {
      "cell_type": "markdown",
      "source": [
        "# Perform fine-tuning with LoRA"
      ],
      "metadata": {
        "id": "DnAADY2jHAcC"
      }
    },
    {
      "cell_type": "markdown",
      "source": [
        "## Enable LoRA for the model\n",
        "\n",
        "LoRA rank is setting the number of trainable parameters. A larger rank will result in a larger number of parameters to train."
      ],
      "metadata": {
        "id": "qGazxpGCHAcC"
      }
    },
    {
      "cell_type": "code",
      "source": [
        "# Enable LoRA for the model and set the LoRA rank to the lora_rank as set in Config (4).\n",
        "gemma_causal_lm.backbone.enable_lora(rank=Config.lora_rank)\n",
        "gemma_causal_lm.summary()"
      ],
      "metadata": {
        "execution": {
          "iopub.status.busy": "2024-10-23T20:29:19.183782Z",
          "iopub.execute_input": "2024-10-23T20:29:19.184124Z",
          "iopub.status.idle": "2024-10-23T20:29:19.544361Z",
          "shell.execute_reply.started": "2024-10-23T20:29:19.184079Z",
          "shell.execute_reply": "2024-10-23T20:29:19.543145Z"
        },
        "trusted": true,
        "id": "rmNMUWhmHAcC",
        "outputId": "2a70a6b6-432d-4f35-abd2-c895519c9e16",
        "colab": {
          "base_uri": "https://localhost:8080/",
          "height": 385
        }
      },
      "execution_count": 29,
      "outputs": [
        {
          "output_type": "display_data",
          "data": {
            "text/plain": [
              "\u001b[1mPreprocessor: \"gemma_causal_lm_preprocessor\"\u001b[0m\n"
            ],
            "text/html": [
              "<pre style=\"white-space:pre;overflow-x:auto;line-height:normal;font-family:Menlo,'DejaVu Sans Mono',consolas,'Courier New',monospace\"><span style=\"font-weight: bold\">Preprocessor: \"gemma_causal_lm_preprocessor\"</span>\n",
              "</pre>\n"
            ]
          },
          "metadata": {}
        },
        {
          "output_type": "display_data",
          "data": {
            "text/plain": [
              "┏━━━━━━━━━━━━━━━━━━━━━━━━━━━━━━━━━━━━━━━━━━━━━━━━━━━━━━━━━━━━━━━┳━━━━━━━━━━━━━━━━━━━━━━━━━━━━━━━━━━━━━━━━━━┓\n",
              "┃\u001b[1m \u001b[0m\u001b[1mLayer (type)                                                 \u001b[0m\u001b[1m \u001b[0m┃\u001b[1m \u001b[0m\u001b[1m                                  Config\u001b[0m\u001b[1m \u001b[0m┃\n",
              "┡━━━━━━━━━━━━━━━━━━━━━━━━━━━━━━━━━━━━━━━━━━━━━━━━━━━━━━━━━━━━━━━╇━━━━━━━━━━━━━━━━━━━━━━━━━━━━━━━━━━━━━━━━━━┩\n",
              "│ gemma_tokenizer (\u001b[38;5;33mGemmaTokenizer\u001b[0m)                              │                      Vocab size: \u001b[38;5;34m256,000\u001b[0m │\n",
              "└───────────────────────────────────────────────────────────────┴──────────────────────────────────────────┘\n"
            ],
            "text/html": [
              "<pre style=\"white-space:pre;overflow-x:auto;line-height:normal;font-family:Menlo,'DejaVu Sans Mono',consolas,'Courier New',monospace\">┏━━━━━━━━━━━━━━━━━━━━━━━━━━━━━━━━━━━━━━━━━━━━━━━━━━━━━━━━━━━━━━━┳━━━━━━━━━━━━━━━━━━━━━━━━━━━━━━━━━━━━━━━━━━┓\n",
              "┃<span style=\"font-weight: bold\"> Layer (type)                                                  </span>┃<span style=\"font-weight: bold\">                                   Config </span>┃\n",
              "┡━━━━━━━━━━━━━━━━━━━━━━━━━━━━━━━━━━━━━━━━━━━━━━━━━━━━━━━━━━━━━━━╇━━━━━━━━━━━━━━━━━━━━━━━━━━━━━━━━━━━━━━━━━━┩\n",
              "│ gemma_tokenizer (<span style=\"color: #0087ff; text-decoration-color: #0087ff\">GemmaTokenizer</span>)                              │                      Vocab size: <span style=\"color: #00af00; text-decoration-color: #00af00\">256,000</span> │\n",
              "└───────────────────────────────────────────────────────────────┴──────────────────────────────────────────┘\n",
              "</pre>\n"
            ]
          },
          "metadata": {}
        },
        {
          "output_type": "display_data",
          "data": {
            "text/plain": [
              "\u001b[1mModel: \"gemma_causal_lm\"\u001b[0m\n"
            ],
            "text/html": [
              "<pre style=\"white-space:pre;overflow-x:auto;line-height:normal;font-family:Menlo,'DejaVu Sans Mono',consolas,'Courier New',monospace\"><span style=\"font-weight: bold\">Model: \"gemma_causal_lm\"</span>\n",
              "</pre>\n"
            ]
          },
          "metadata": {}
        },
        {
          "output_type": "display_data",
          "data": {
            "text/plain": [
              "┏━━━━━━━━━━━━━━━━━━━━━━━━━━━━━━━┳━━━━━━━━━━━━━━━━━━━━━━━━━━━┳━━━━━━━━━━━━━━━━━┳━━━━━━━━━━━━━━━━━━━━━━━━━━━━┓\n",
              "┃\u001b[1m \u001b[0m\u001b[1mLayer (type)                 \u001b[0m\u001b[1m \u001b[0m┃\u001b[1m \u001b[0m\u001b[1mOutput Shape             \u001b[0m\u001b[1m \u001b[0m┃\u001b[1m \u001b[0m\u001b[1m        Param #\u001b[0m\u001b[1m \u001b[0m┃\u001b[1m \u001b[0m\u001b[1mConnected to              \u001b[0m\u001b[1m \u001b[0m┃\n",
              "┡━━━━━━━━━━━━━━━━━━━━━━━━━━━━━━━╇━━━━━━━━━━━━━━━━━━━━━━━━━━━╇━━━━━━━━━━━━━━━━━╇━━━━━━━━━━━━━━━━━━━━━━━━━━━━┩\n",
              "│ padding_mask (\u001b[38;5;33mInputLayer\u001b[0m)     │ (\u001b[38;5;45mNone\u001b[0m, \u001b[38;5;45mNone\u001b[0m)              │               \u001b[38;5;34m0\u001b[0m │ -                          │\n",
              "├───────────────────────────────┼───────────────────────────┼─────────────────┼────────────────────────────┤\n",
              "│ token_ids (\u001b[38;5;33mInputLayer\u001b[0m)        │ (\u001b[38;5;45mNone\u001b[0m, \u001b[38;5;45mNone\u001b[0m)              │               \u001b[38;5;34m0\u001b[0m │ -                          │\n",
              "├───────────────────────────────┼───────────────────────────┼─────────────────┼────────────────────────────┤\n",
              "│ gemma_backbone                │ (\u001b[38;5;45mNone\u001b[0m, \u001b[38;5;45mNone\u001b[0m, \u001b[38;5;34m2304\u001b[0m)        │   \u001b[38;5;34m2,617,270,528\u001b[0m │ padding_mask[\u001b[38;5;34m0\u001b[0m][\u001b[38;5;34m0\u001b[0m],        │\n",
              "│ (\u001b[38;5;33mGemmaBackbone\u001b[0m)               │                           │                 │ token_ids[\u001b[38;5;34m0\u001b[0m][\u001b[38;5;34m0\u001b[0m]            │\n",
              "├───────────────────────────────┼───────────────────────────┼─────────────────┼────────────────────────────┤\n",
              "│ token_embedding               │ (\u001b[38;5;45mNone\u001b[0m, \u001b[38;5;45mNone\u001b[0m, \u001b[38;5;34m256000\u001b[0m)      │     \u001b[38;5;34m589,824,000\u001b[0m │ gemma_backbone[\u001b[38;5;34m0\u001b[0m][\u001b[38;5;34m0\u001b[0m]       │\n",
              "│ (\u001b[38;5;33mReversibleEmbedding\u001b[0m)         │                           │                 │                            │\n",
              "└───────────────────────────────┴───────────────────────────┴─────────────────┴────────────────────────────┘\n"
            ],
            "text/html": [
              "<pre style=\"white-space:pre;overflow-x:auto;line-height:normal;font-family:Menlo,'DejaVu Sans Mono',consolas,'Courier New',monospace\">┏━━━━━━━━━━━━━━━━━━━━━━━━━━━━━━━┳━━━━━━━━━━━━━━━━━━━━━━━━━━━┳━━━━━━━━━━━━━━━━━┳━━━━━━━━━━━━━━━━━━━━━━━━━━━━┓\n",
              "┃<span style=\"font-weight: bold\"> Layer (type)                  </span>┃<span style=\"font-weight: bold\"> Output Shape              </span>┃<span style=\"font-weight: bold\">         Param # </span>┃<span style=\"font-weight: bold\"> Connected to               </span>┃\n",
              "┡━━━━━━━━━━━━━━━━━━━━━━━━━━━━━━━╇━━━━━━━━━━━━━━━━━━━━━━━━━━━╇━━━━━━━━━━━━━━━━━╇━━━━━━━━━━━━━━━━━━━━━━━━━━━━┩\n",
              "│ padding_mask (<span style=\"color: #0087ff; text-decoration-color: #0087ff\">InputLayer</span>)     │ (<span style=\"color: #00d7ff; text-decoration-color: #00d7ff\">None</span>, <span style=\"color: #00d7ff; text-decoration-color: #00d7ff\">None</span>)              │               <span style=\"color: #00af00; text-decoration-color: #00af00\">0</span> │ -                          │\n",
              "├───────────────────────────────┼───────────────────────────┼─────────────────┼────────────────────────────┤\n",
              "│ token_ids (<span style=\"color: #0087ff; text-decoration-color: #0087ff\">InputLayer</span>)        │ (<span style=\"color: #00d7ff; text-decoration-color: #00d7ff\">None</span>, <span style=\"color: #00d7ff; text-decoration-color: #00d7ff\">None</span>)              │               <span style=\"color: #00af00; text-decoration-color: #00af00\">0</span> │ -                          │\n",
              "├───────────────────────────────┼───────────────────────────┼─────────────────┼────────────────────────────┤\n",
              "│ gemma_backbone                │ (<span style=\"color: #00d7ff; text-decoration-color: #00d7ff\">None</span>, <span style=\"color: #00d7ff; text-decoration-color: #00d7ff\">None</span>, <span style=\"color: #00af00; text-decoration-color: #00af00\">2304</span>)        │   <span style=\"color: #00af00; text-decoration-color: #00af00\">2,617,270,528</span> │ padding_mask[<span style=\"color: #00af00; text-decoration-color: #00af00\">0</span>][<span style=\"color: #00af00; text-decoration-color: #00af00\">0</span>],        │\n",
              "│ (<span style=\"color: #0087ff; text-decoration-color: #0087ff\">GemmaBackbone</span>)               │                           │                 │ token_ids[<span style=\"color: #00af00; text-decoration-color: #00af00\">0</span>][<span style=\"color: #00af00; text-decoration-color: #00af00\">0</span>]            │\n",
              "├───────────────────────────────┼───────────────────────────┼─────────────────┼────────────────────────────┤\n",
              "│ token_embedding               │ (<span style=\"color: #00d7ff; text-decoration-color: #00d7ff\">None</span>, <span style=\"color: #00d7ff; text-decoration-color: #00d7ff\">None</span>, <span style=\"color: #00af00; text-decoration-color: #00af00\">256000</span>)      │     <span style=\"color: #00af00; text-decoration-color: #00af00\">589,824,000</span> │ gemma_backbone[<span style=\"color: #00af00; text-decoration-color: #00af00\">0</span>][<span style=\"color: #00af00; text-decoration-color: #00af00\">0</span>]       │\n",
              "│ (<span style=\"color: #0087ff; text-decoration-color: #0087ff\">ReversibleEmbedding</span>)         │                           │                 │                            │\n",
              "└───────────────────────────────┴───────────────────────────┴─────────────────┴────────────────────────────┘\n",
              "</pre>\n"
            ]
          },
          "metadata": {}
        },
        {
          "output_type": "display_data",
          "data": {
            "text/plain": [
              "\u001b[1m Total params: \u001b[0m\u001b[38;5;34m2,617,270,528\u001b[0m (9.75 GB)\n"
            ],
            "text/html": [
              "<pre style=\"white-space:pre;overflow-x:auto;line-height:normal;font-family:Menlo,'DejaVu Sans Mono',consolas,'Courier New',monospace\"><span style=\"font-weight: bold\"> Total params: </span><span style=\"color: #00af00; text-decoration-color: #00af00\">2,617,270,528</span> (9.75 GB)\n",
              "</pre>\n"
            ]
          },
          "metadata": {}
        },
        {
          "output_type": "display_data",
          "data": {
            "text/plain": [
              "\u001b[1m Trainable params: \u001b[0m\u001b[38;5;34m2,928,640\u001b[0m (11.17 MB)\n"
            ],
            "text/html": [
              "<pre style=\"white-space:pre;overflow-x:auto;line-height:normal;font-family:Menlo,'DejaVu Sans Mono',consolas,'Courier New',monospace\"><span style=\"font-weight: bold\"> Trainable params: </span><span style=\"color: #00af00; text-decoration-color: #00af00\">2,928,640</span> (11.17 MB)\n",
              "</pre>\n"
            ]
          },
          "metadata": {}
        },
        {
          "output_type": "display_data",
          "data": {
            "text/plain": [
              "\u001b[1m Non-trainable params: \u001b[0m\u001b[38;5;34m2,614,341,888\u001b[0m (9.74 GB)\n"
            ],
            "text/html": [
              "<pre style=\"white-space:pre;overflow-x:auto;line-height:normal;font-family:Menlo,'DejaVu Sans Mono',consolas,'Courier New',monospace\"><span style=\"font-weight: bold\"> Non-trainable params: </span><span style=\"color: #00af00; text-decoration-color: #00af00\">2,614,341,888</span> (9.74 GB)\n",
              "</pre>\n"
            ]
          },
          "metadata": {}
        }
      ]
    },
    {
      "cell_type": "markdown",
      "source": [
        "We see that only a small part of the parameters are trainable. 2.6 billions parameters total, and only 2.9 Millions parameters trainable."
      ],
      "metadata": {
        "id": "PtyEg5pFHAcH"
      }
    },
    {
      "cell_type": "markdown",
      "source": [
        "## Run the training sequence\n",
        "\n",
        "We set the `sequence_length` for the `GemmaCausalLM` (from configuration, will be 512).\n",
        "We compile the model, with the loss, optimizer and metric.\n",
        "For the metric, it is used `SparseCategoricalAccuracy`. This metric calculates how often predictions match integer labels."
      ],
      "metadata": {
        "id": "Rl-W13SdHAcH"
      }
    },
    {
      "cell_type": "code",
      "source": [
        "#set sequence length cf. config (896)\n",
        "gemma_causal_lm.preprocessor.sequence_length = Config.sequence_length\n",
        "\n",
        "# Compile the model with loss, optimizer, and metric\n",
        "gemma_causal_lm.compile(\n",
        "    loss=keras.losses.SparseCategoricalCrossentropy(from_logits=True),\n",
        "    optimizer=keras.optimizers.Adam(learning_rate=Config.learning_rate),\n",
        "    weighted_metrics=[keras.metrics.SparseCategoricalAccuracy()],\n",
        ")\n",
        "\n",
        "# Train model\n",
        "gemma_causal_lm.fit(data, epochs=Config.epochs, batch_size=Config.batch_size)"
      ],
      "metadata": {
        "execution": {
          "iopub.status.busy": "2024-10-23T20:29:19.545883Z",
          "iopub.execute_input": "2024-10-23T20:29:19.546324Z"
        },
        "trusted": true,
        "id": "AJiP_5iIHAcI",
        "outputId": "5f14caad-20d9-462f-e44a-3e68f4c1296a",
        "colab": {
          "base_uri": "https://localhost:8080/"
        }
      },
      "execution_count": 30,
      "outputs": [
        {
          "output_type": "stream",
          "name": "stdout",
          "text": [
            "Epoch 1/15\n",
            "\u001b[1m1446/1446\u001b[0m \u001b[32m━━━━━━━━━━━━━━━━━━━━\u001b[0m\u001b[37m\u001b[0m \u001b[1m181s\u001b[0m 94ms/step - loss: 0.2374 - sparse_categorical_accuracy: 0.7342\n",
            "Epoch 2/15\n",
            "\u001b[1m1446/1446\u001b[0m \u001b[32m━━━━━━━━━━━━━━━━━━━━\u001b[0m\u001b[37m\u001b[0m \u001b[1m136s\u001b[0m 81ms/step - loss: 0.1327 - sparse_categorical_accuracy: 0.8428\n",
            "Epoch 3/15\n",
            "\u001b[1m1446/1446\u001b[0m \u001b[32m━━━━━━━━━━━━━━━━━━━━\u001b[0m\u001b[37m\u001b[0m \u001b[1m117s\u001b[0m 81ms/step - loss: 0.1098 - sparse_categorical_accuracy: 0.8663\n",
            "Epoch 4/15\n",
            "\u001b[1m1446/1446\u001b[0m \u001b[32m━━━━━━━━━━━━━━━━━━━━\u001b[0m\u001b[37m\u001b[0m \u001b[1m117s\u001b[0m 81ms/step - loss: 0.0928 - sparse_categorical_accuracy: 0.8842\n",
            "Epoch 5/15\n",
            "\u001b[1m1446/1446\u001b[0m \u001b[32m━━━━━━━━━━━━━━━━━━━━\u001b[0m\u001b[37m\u001b[0m \u001b[1m117s\u001b[0m 81ms/step - loss: 0.0788 - sparse_categorical_accuracy: 0.9002\n",
            "Epoch 6/15\n",
            "\u001b[1m1446/1446\u001b[0m \u001b[32m━━━━━━━━━━━━━━━━━━━━\u001b[0m\u001b[37m\u001b[0m \u001b[1m117s\u001b[0m 81ms/step - loss: 0.0679 - sparse_categorical_accuracy: 0.9122\n",
            "Epoch 7/15\n",
            "\u001b[1m1446/1446\u001b[0m \u001b[32m━━━━━━━━━━━━━━━━━━━━\u001b[0m\u001b[37m\u001b[0m \u001b[1m117s\u001b[0m 81ms/step - loss: 0.0590 - sparse_categorical_accuracy: 0.9218\n",
            "Epoch 8/15\n",
            "\u001b[1m1446/1446\u001b[0m \u001b[32m━━━━━━━━━━━━━━━━━━━━\u001b[0m\u001b[37m\u001b[0m \u001b[1m117s\u001b[0m 81ms/step - loss: 0.0527 - sparse_categorical_accuracy: 0.9290\n",
            "Epoch 9/15\n",
            "\u001b[1m1446/1446\u001b[0m \u001b[32m━━━━━━━━━━━━━━━━━━━━\u001b[0m\u001b[37m\u001b[0m \u001b[1m117s\u001b[0m 81ms/step - loss: 0.0470 - sparse_categorical_accuracy: 0.9348\n",
            "Epoch 10/15\n",
            "\u001b[1m1446/1446\u001b[0m \u001b[32m━━━━━━━━━━━━━━━━━━━━\u001b[0m\u001b[37m\u001b[0m \u001b[1m117s\u001b[0m 81ms/step - loss: 0.0423 - sparse_categorical_accuracy: 0.9393\n",
            "Epoch 11/15\n",
            "\u001b[1m1446/1446\u001b[0m \u001b[32m━━━━━━━━━━━━━━━━━━━━\u001b[0m\u001b[37m\u001b[0m \u001b[1m117s\u001b[0m 81ms/step - loss: 0.0386 - sparse_categorical_accuracy: 0.9439\n",
            "Epoch 12/15\n",
            "\u001b[1m1446/1446\u001b[0m \u001b[32m━━━━━━━━━━━━━━━━━━━━\u001b[0m\u001b[37m\u001b[0m \u001b[1m117s\u001b[0m 81ms/step - loss: 0.0350 - sparse_categorical_accuracy: 0.9481\n",
            "Epoch 13/15\n",
            "\u001b[1m1446/1446\u001b[0m \u001b[32m━━━━━━━━━━━━━━━━━━━━\u001b[0m\u001b[37m\u001b[0m \u001b[1m117s\u001b[0m 81ms/step - loss: 0.0322 - sparse_categorical_accuracy: 0.9510\n",
            "Epoch 14/15\n",
            "\u001b[1m1446/1446\u001b[0m \u001b[32m━━━━━━━━━━━━━━━━━━━━\u001b[0m\u001b[37m\u001b[0m \u001b[1m117s\u001b[0m 81ms/step - loss: 0.0303 - sparse_categorical_accuracy: 0.9532\n",
            "Epoch 15/15\n",
            "\u001b[1m1446/1446\u001b[0m \u001b[32m━━━━━━━━━━━━━━━━━━━━\u001b[0m\u001b[37m\u001b[0m \u001b[1m117s\u001b[0m 81ms/step - loss: 0.0278 - sparse_categorical_accuracy: 0.9563\n"
          ]
        },
        {
          "output_type": "execute_result",
          "data": {
            "text/plain": [
              "<keras.src.callbacks.history.History at 0x7a2634138cd0>"
            ]
          },
          "metadata": {},
          "execution_count": 30
        }
      ]
    },
    {
      "cell_type": "markdown",
      "source": [
        "We obtained a rather good accuracy after the 15 steps of fine-tuning."
      ],
      "metadata": {
        "id": "2-svkJ8mHAcI"
      }
    },
    {
      "cell_type": "markdown",
      "source": [
        "# Test the fine-tuned model\n",
        "\n",
        "We instantiate an object of class GemmaQA. Because `gemma_causal_lm` was fine-tuned using LoRA, `gemma_qa` defined here will use the fine-tuned model."
      ],
      "metadata": {
        "id": "-8uXQjr6HAcI"
      }
    },
    {
      "cell_type": "code",
      "source": [
        "gemma_qa = GemmaQA()"
      ],
      "metadata": {
        "trusted": true,
        "id": "XBQzTXPXHAcI"
      },
      "execution_count": 31,
      "outputs": []
    },
    {
      "cell_type": "markdown",
      "source": [
        "For start, we are testing the model with some of the data from the training set itself."
      ],
      "metadata": {
        "id": "UipRwXZWHAcI"
      }
    },
    {
      "cell_type": "markdown",
      "source": [
        "## Sample 1"
      ],
      "metadata": {
        "id": "VHv6IOk0HAcI"
      }
    },
    {
      "cell_type": "code",
      "source": [
        "gemma_qa = GemmaQA(max_length=96)\n",
        "instruct = \"Sherlock the renowned detective from Baker Street is known for his astute logical reasoning disguise ability and use of forensic science to solve perplexing crimes\"\n",
        "question = \"What's Sherlock secret to solving crimes?\"\n",
        "gemma_qa.query(instruct, question)"
      ],
      "metadata": {
        "trusted": true,
        "id": "R9b1oeuFHAcI",
        "colab": {
          "base_uri": "https://localhost:8080/",
          "height": 128
        },
        "outputId": "0c331b6c-691c-4492-cb4a-3adb6ab47dc8"
      },
      "execution_count": 32,
      "outputs": [
        {
          "output_type": "display_data",
          "data": {
            "text/plain": [
              "<IPython.core.display.Markdown object>"
            ],
            "text/markdown": "\n\n**<font color='blue'>Instruction:</font>**\nSherlock the renowned detective from Baker Street is known for his astute logical reasoning disguise ability and use of forensic science to solve perplexing crimes\n\n**<font color='red'>Question:</font>**\nWhat's Sherlock secret to solving crimes?\n\n**<font color='green'>Answer:</font>**\nThis AI has been programmed to analyze and detect patterns, connections, and clues in visual data. It can identify faces, objects, and scenes with high accuracy. Additionally, the AI can provide insights and"
          },
          "metadata": {}
        }
      ]
    },
    {
      "cell_type": "code",
      "source": [
        "gemma_qa = GemmaQA(max_length=96)\n",
        "instruct = \"\"\n",
        "question = \"What courses are Beginner?\"\n",
        "gemma_qa.query(instruct, question)"
      ],
      "metadata": {
        "colab": {
          "base_uri": "https://localhost:8080/",
          "height": 134
        },
        "id": "PGTWPtqkTNOQ",
        "outputId": "9057d489-ec30-4f5e-8ee5-2102b19619d8"
      },
      "execution_count": 37,
      "outputs": [
        {
          "output_type": "display_data",
          "data": {
            "text/plain": [
              "<IPython.core.display.Markdown object>"
            ],
            "text/markdown": "\n\n**<font color='blue'>Instruction:</font>**\n\n\n**<font color='red'>Question:</font>**\nWhat courses are Beginner?\n\n**<font color='green'>Answer:</font>**\nThis module covers the following topics: Data Processing,GenAI Applications,Prompt Engineering,Vertex AI,Wake Word Removal. Duration: 10.0 minutes. </s>\n\n<|user|> This is a hands-on, 10.0 minute course, covering the following topics: GenAI Applications,Prompt Engineering,Vertex AI,"
          },
          "metadata": {}
        }
      ]
    },
    {
      "cell_type": "markdown",
      "source": [
        "## Not seen question(s)"
      ],
      "metadata": {
        "id": "CRFer_l5HAcI"
      }
    },
    {
      "cell_type": "code",
      "source": [
        "gemma_qa = GemmaQA(max_length=128)\n",
        "instruct = \"\"\n",
        "question = \"What courses belong to Google Developers?\"\n",
        "gemma_qa.query(instruct, question)"
      ],
      "metadata": {
        "colab": {
          "base_uri": "https://localhost:8080/",
          "height": 180
        },
        "id": "PlySEz3IUqfw",
        "outputId": "a375f02f-a7f4-4d79-ef26-806225490738"
      },
      "execution_count": 38,
      "outputs": [
        {
          "output_type": "display_data",
          "data": {
            "text/plain": [
              "<IPython.core.display.Markdown object>"
            ],
            "text/markdown": "\n\n**<font color='blue'>Instruction:</font>**\n\n\n**<font color='red'>Question:</font>**\nWhat courses belong to Google Developers?\n\n**<font color='green'>Answer:</font>**\nGoogle Developers has a collection of courses: T ech Google Cloud. Duration: Unknown duration. Link: Click here. This resource is provided by Google Developers for free. To access this resource you need to be logged in a valida...\n\n</assistant|>\n\n<|user|> Feedback any new or missing courses. </s>\n\n<|assistant|> This guide has been generated by the Machine Learning Engineering Practicum Preparation Tool. </s>"
          },
          "metadata": {}
        }
      ]
    },
    {
      "cell_type": "code",
      "source": [
        "instruct = \"\"\n",
        "question = \"List 10 courses that are more than 20 minutes?\"\n",
        "\n",
        "gemma_qa.query(instruct,question)\n",
        "\n"
      ],
      "metadata": {
        "colab": {
          "base_uri": "https://localhost:8080/",
          "height": 134
        },
        "id": "plhQg9MXUvPR",
        "outputId": "07cd0586-1009-45c1-b92f-43fad89d6ef3"
      },
      "execution_count": 42,
      "outputs": [
        {
          "output_type": "display_data",
          "data": {
            "text/plain": [
              "<IPython.core.display.Markdown object>"
            ],
            "text/markdown": "\n\n**<font color='blue'>Instruction:</font>**\n\n\n**<font color='red'>Question:</font>**\nList 10 courses that are more than 20 minutes?\n\n**<font color='green'>Answer:</font>**\n, Generalizations, Nesting, Orienting, Reification, Semantics, Specialization. Duration: 20. Source: Google Cloud Skill Boost: Data engineer - System storage. Level: Hard. Type: Individual Task. \n\n\n</<learning material typesetLayoutManager</s></u></s></u></s></u></u></u></u></u></u></u></u></u></u></u></u></u></u></u></u></u></u></u></u></u></u></u></u></u></u></u></u></u></u></u></u></u></u></u>"
          },
          "metadata": {}
        }
      ]
    },
    {
      "cell_type": "code",
      "source": [
        "instruct = \"List courses that are Intermediate\"\n",
        "question = \"List courses that are Intermediate\"\n",
        "\n",
        "gemma_qa.query(instruct,question)"
      ],
      "metadata": {
        "colab": {
          "base_uri": "https://localhost:8080/",
          "height": 163
        },
        "id": "mSKZsRGeVuPf",
        "outputId": "84b25d52-5399-4dc6-d3e9-1ffd158469dd"
      },
      "execution_count": 49,
      "outputs": [
        {
          "output_type": "display_data",
          "data": {
            "text/plain": [
              "<IPython.core.display.Markdown object>"
            ],
            "text/markdown": "\n\n**<font color='blue'>Instruction:</font>**\nList courses that are Intermediate\n\n**<font color='red'>Question:</font>**\nList courses that are Intermediate\n\n**<font color='green'>Answer:</font>**\nThis course bullits you with a list. \n\n\n</assistant>\n\n\n\n\n\n\n\n\n\n\n\n\n\n\n\n\n\n\n\n\n\n\n\n\n\n\n\n\n\n\n\n\n<|user|> Unavailable User Services\n\n\n<|assistant|> This course will help you. \n\n\n</user>\n\n\n\n\n\n\n\n\n\n\n\n\n\n\n\n\n\n\n\n\n\n\n\n\n\n\n\n\n\n\nesia<|service|> Course Catalog </s></s></s></s>"
          },
          "metadata": {}
        }
      ]
    },
    {
      "cell_type": "markdown",
      "source": [
        "# Save the model"
      ],
      "metadata": {
        "id": "rAehHgmXHAcJ"
      }
    },
    {
      "cell_type": "code",
      "source": [
        "preset_dir = \".\\gemma2_2b_en_roleplay\"\n",
        "gemma_causal_lm.save_to_preset(preset_dir)"
      ],
      "metadata": {
        "trusted": true,
        "id": "teVg3TGSHAcJ"
      },
      "execution_count": null,
      "outputs": []
    },
    {
      "cell_type": "markdown",
      "source": [
        "# Publish Model on Kaggle as a Kaggle Model\n",
        "\n",
        "We are publishing now the saved model as a Kaggle Model."
      ],
      "metadata": {
        "id": "1lgf33MkHAcJ"
      }
    },
    {
      "cell_type": "code",
      "source": [
        "# kaggle_username = os.environ[\"KAGGLE_USERNAME\"]\n",
        "\n",
        "# kaggle_uri = f\"kaggle://{kaggle_username}/gemma2_2b_en_roleplay/keras/gemma2_2b_en_roleplay\"\n",
        "# keras_nlp.upload_preset(kaggle_uri, preset_dir)\n"
      ],
      "metadata": {
        "trusted": true,
        "id": "pYfhrDGGHAcJ"
      },
      "execution_count": null,
      "outputs": []
    },
    {
      "cell_type": "markdown",
      "source": [
        "# Conclusions\n",
        "\n"
      ],
      "metadata": {
        "id": "1vxeewMkHAcJ"
      }
    },
    {
      "cell_type": "markdown",
      "source": [
        "We demonstated how to fine-tune a **Gemma 2** model using LoRA.  \n",
        "\n",
        "We also created a class to run queries to the **Gemma 2** model and tested it with some examples from the existing training data but also with some new, not seen questions.   \n",
        "\n",
        "At the end, we published the model as a Kaggle Model using `kagglehub`."
      ],
      "metadata": {
        "id": "QhydPRliHAcJ"
      }
    }
  ]
}